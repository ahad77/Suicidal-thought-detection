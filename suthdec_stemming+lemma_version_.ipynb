{
  "cells": [
    {
      "cell_type": "code",
      "execution_count": 2,
      "metadata": {
        "colab": {
          "base_uri": "https://localhost:8080/"
        },
        "id": "4gfetNNSa-sZ",
        "outputId": "0907f386-d905-42b8-ae39-d321cc41ea32"
      },
      "outputs": [
        {
          "ename": "ModuleNotFoundError",
          "evalue": "No module named 'google'",
          "output_type": "error",
          "traceback": [
            "\u001b[1;31m---------------------------------------------------------------------------\u001b[0m",
            "\u001b[1;31mModuleNotFoundError\u001b[0m                       Traceback (most recent call last)",
            "\u001b[1;32m~\\AppData\\Local\\Temp/ipykernel_3244/1408506528.py\u001b[0m in \u001b[0;36m<module>\u001b[1;34m\u001b[0m\n\u001b[1;32m----> 1\u001b[1;33m \u001b[1;32mfrom\u001b[0m \u001b[0mgoogle\u001b[0m\u001b[1;33m.\u001b[0m\u001b[0mcolab\u001b[0m \u001b[1;32mimport\u001b[0m \u001b[0mdrive\u001b[0m\u001b[1;33m\u001b[0m\u001b[1;33m\u001b[0m\u001b[0m\n\u001b[0m\u001b[0;32m      2\u001b[0m \u001b[0mdrive\u001b[0m\u001b[1;33m.\u001b[0m\u001b[0mmount\u001b[0m\u001b[1;33m(\u001b[0m\u001b[1;34m'/content/drive'\u001b[0m\u001b[1;33m)\u001b[0m\u001b[1;33m\u001b[0m\u001b[1;33m\u001b[0m\u001b[0m\n",
            "\u001b[1;31mModuleNotFoundError\u001b[0m: No module named 'google'"
          ]
        }
      ],
      "source": [
        "from google.colab import drive\n",
        "drive.mount('/content/drive')"
      ]
    },
    {
      "cell_type": "code",
      "execution_count": 2,
      "metadata": {
        "id": "LbflMHYKFOLx"
      },
      "outputs": [],
      "source": [
        "import pandas as pd   \n",
        "import numpy as np    \n",
        "import matplotlib.pyplot as plt \n",
        "import seaborn as sns     \n",
        "sns.set_style('whitegrid')\n",
        "\n",
        "import re             \n",
        "import nltk           \n",
        "import string\n",
        "from nltk.tokenize import word_tokenize\n",
        "from nltk.corpus import stopwords\n",
        "from nltk.stem import WordNetLemmatizer"
      ]
    },
    {
      "cell_type": "code",
      "execution_count": 3,
      "metadata": {
        "colab": {
          "base_uri": "https://localhost:8080/"
        },
        "id": "CgGTOUWNLrDz",
        "outputId": "06510446-5d9e-4c03-db26-105a49b983bc"
      },
      "outputs": [
        {
          "name": "stderr",
          "output_type": "stream",
          "text": [
            "[nltk_data] Downloading package punkt to\n",
            "[nltk_data]     C:\\Users\\DELL\\AppData\\Roaming\\nltk_data...\n",
            "[nltk_data]   Package punkt is already up-to-date!\n",
            "[nltk_data] Downloading package wordnet to\n",
            "[nltk_data]     C:\\Users\\DELL\\AppData\\Roaming\\nltk_data...\n",
            "[nltk_data]   Package wordnet is already up-to-date!\n",
            "[nltk_data] Downloading package omw-1.4 to\n",
            "[nltk_data]     C:\\Users\\DELL\\AppData\\Roaming\\nltk_data...\n",
            "[nltk_data]   Package omw-1.4 is already up-to-date!\n",
            "[nltk_data] Downloading package stopwords to\n",
            "[nltk_data]     C:\\Users\\DELL\\AppData\\Roaming\\nltk_data...\n",
            "[nltk_data]   Package stopwords is already up-to-date!\n"
          ]
        },
        {
          "data": {
            "text/plain": [
              "True"
            ]
          },
          "execution_count": 3,
          "metadata": {},
          "output_type": "execute_result"
        }
      ],
      "source": [
        "nltk.download('punkt')\n",
        "nltk.download('wordnet')\n",
        "nltk.download('omw-1.4')\n",
        "nltk.download('stopwords')"
      ]
    },
    {
      "cell_type": "code",
      "execution_count": 4,
      "metadata": {
        "id": "-Wvl49B7Mf5y"
      },
      "outputs": [],
      "source": [
        "data = pd.read_csv('E:\\EDU\\CSE\\CSE 400 Thesis\\Dataset\\Suicide_Detection.csv')"
      ]
    },
    {
      "cell_type": "code",
      "execution_count": 5,
      "metadata": {
        "id": "IPn2HfSKNxaM"
      },
      "outputs": [],
      "source": [
        "df = data"
      ]
    },
    {
      "cell_type": "code",
      "execution_count": 6,
      "metadata": {
        "colab": {
          "base_uri": "https://localhost:8080/"
        },
        "id": "mtlmPS-2YjTZ",
        "outputId": "4de8a78e-0f4e-4aaf-d137-9e625955e2f0"
      },
      "outputs": [
        {
          "data": {
            "text/plain": [
              "1749625979712"
            ]
          },
          "execution_count": 6,
          "metadata": {},
          "output_type": "execute_result"
        }
      ],
      "source": [
        "id(df)"
      ]
    },
    {
      "cell_type": "code",
      "execution_count": 7,
      "metadata": {
        "colab": {
          "base_uri": "https://localhost:8080/"
        },
        "id": "lMgFLp7sYpR3",
        "outputId": "db534a2f-dc3a-470d-c025-e9d7dc59d7e8"
      },
      "outputs": [
        {
          "name": "stdout",
          "output_type": "stream",
          "text": [
            "<class 'pandas.core.frame.DataFrame'>\n",
            "RangeIndex: 232074 entries, 0 to 232073\n",
            "Data columns (total 3 columns):\n",
            " #   Column      Non-Null Count   Dtype \n",
            "---  ------      --------------   ----- \n",
            " 0   Unnamed: 0  232074 non-null  int64 \n",
            " 1   text        232074 non-null  object\n",
            " 2   class       232074 non-null  object\n",
            "dtypes: int64(1), object(2)\n",
            "memory usage: 5.3+ MB\n"
          ]
        }
      ],
      "source": [
        "df.info()"
      ]
    },
    {
      "cell_type": "code",
      "execution_count": 8,
      "metadata": {
        "colab": {
          "base_uri": "https://localhost:8080/",
          "height": 300
        },
        "id": "vt2Cuj3zYxKv",
        "outputId": "4569a720-deef-478d-9752-9bdf3c47e4fe"
      },
      "outputs": [
        {
          "data": {
            "text/html": [
              "<div>\n",
              "<style scoped>\n",
              "    .dataframe tbody tr th:only-of-type {\n",
              "        vertical-align: middle;\n",
              "    }\n",
              "\n",
              "    .dataframe tbody tr th {\n",
              "        vertical-align: top;\n",
              "    }\n",
              "\n",
              "    .dataframe thead th {\n",
              "        text-align: right;\n",
              "    }\n",
              "</style>\n",
              "<table border=\"1\" class=\"dataframe\">\n",
              "  <thead>\n",
              "    <tr style=\"text-align: right;\">\n",
              "      <th></th>\n",
              "      <th>Unnamed: 0</th>\n",
              "      <th>text</th>\n",
              "      <th>class</th>\n",
              "    </tr>\n",
              "  </thead>\n",
              "  <tbody>\n",
              "    <tr>\n",
              "      <th>0</th>\n",
              "      <td>2</td>\n",
              "      <td>Ex Wife Threatening SuicideRecently I left my ...</td>\n",
              "      <td>suicide</td>\n",
              "    </tr>\n",
              "    <tr>\n",
              "      <th>1</th>\n",
              "      <td>3</td>\n",
              "      <td>Am I weird I don't get affected by compliments...</td>\n",
              "      <td>non-suicide</td>\n",
              "    </tr>\n",
              "    <tr>\n",
              "      <th>2</th>\n",
              "      <td>4</td>\n",
              "      <td>Finally 2020 is almost over... So I can never ...</td>\n",
              "      <td>non-suicide</td>\n",
              "    </tr>\n",
              "    <tr>\n",
              "      <th>3</th>\n",
              "      <td>8</td>\n",
              "      <td>i need helpjust help me im crying so hard</td>\n",
              "      <td>suicide</td>\n",
              "    </tr>\n",
              "    <tr>\n",
              "      <th>4</th>\n",
              "      <td>9</td>\n",
              "      <td>I’m so lostHello, my name is Adam (16) and I’v...</td>\n",
              "      <td>suicide</td>\n",
              "    </tr>\n",
              "    <tr>\n",
              "      <th>5</th>\n",
              "      <td>11</td>\n",
              "      <td>Honetly idkI dont know what im even doing here...</td>\n",
              "      <td>suicide</td>\n",
              "    </tr>\n",
              "    <tr>\n",
              "      <th>6</th>\n",
              "      <td>12</td>\n",
              "      <td>[Trigger warning] Excuse for self inflicted bu...</td>\n",
              "      <td>suicide</td>\n",
              "    </tr>\n",
              "    <tr>\n",
              "      <th>7</th>\n",
              "      <td>13</td>\n",
              "      <td>It ends tonight.I can’t do it anymore. \\nI quit.</td>\n",
              "      <td>suicide</td>\n",
              "    </tr>\n",
              "  </tbody>\n",
              "</table>\n",
              "</div>"
            ],
            "text/plain": [
              "   Unnamed: 0                                               text        class\n",
              "0           2  Ex Wife Threatening SuicideRecently I left my ...      suicide\n",
              "1           3  Am I weird I don't get affected by compliments...  non-suicide\n",
              "2           4  Finally 2020 is almost over... So I can never ...  non-suicide\n",
              "3           8          i need helpjust help me im crying so hard      suicide\n",
              "4           9  I’m so lostHello, my name is Adam (16) and I’v...      suicide\n",
              "5          11  Honetly idkI dont know what im even doing here...      suicide\n",
              "6          12  [Trigger warning] Excuse for self inflicted bu...      suicide\n",
              "7          13   It ends tonight.I can’t do it anymore. \\nI quit.      suicide"
            ]
          },
          "execution_count": 8,
          "metadata": {},
          "output_type": "execute_result"
        }
      ],
      "source": [
        "df.head(8)"
      ]
    },
    {
      "cell_type": "code",
      "execution_count": 9,
      "metadata": {
        "colab": {
          "base_uri": "https://localhost:8080/",
          "height": 300
        },
        "id": "_cyQLjXAY1Kv",
        "outputId": "d530091d-a0e6-4d21-e870-b7151c34b243"
      },
      "outputs": [
        {
          "data": {
            "text/html": [
              "<div>\n",
              "<style scoped>\n",
              "    .dataframe tbody tr th:only-of-type {\n",
              "        vertical-align: middle;\n",
              "    }\n",
              "\n",
              "    .dataframe tbody tr th {\n",
              "        vertical-align: top;\n",
              "    }\n",
              "\n",
              "    .dataframe thead th {\n",
              "        text-align: right;\n",
              "    }\n",
              "</style>\n",
              "<table border=\"1\" class=\"dataframe\">\n",
              "  <thead>\n",
              "    <tr style=\"text-align: right;\">\n",
              "      <th></th>\n",
              "      <th>Unnamed: 0</th>\n",
              "      <th>text</th>\n",
              "      <th>class</th>\n",
              "    </tr>\n",
              "  </thead>\n",
              "  <tbody>\n",
              "    <tr>\n",
              "      <th>232066</th>\n",
              "      <td>348098</td>\n",
              "      <td>My mom tried to kill herself today. I feel los...</td>\n",
              "      <td>suicide</td>\n",
              "    </tr>\n",
              "    <tr>\n",
              "      <th>232067</th>\n",
              "      <td>348100</td>\n",
              "      <td>I’m a fucking scummy person and I can’t change...</td>\n",
              "      <td>suicide</td>\n",
              "    </tr>\n",
              "    <tr>\n",
              "      <th>232068</th>\n",
              "      <td>348101</td>\n",
              "      <td>I did something today I went sledding with my ...</td>\n",
              "      <td>non-suicide</td>\n",
              "    </tr>\n",
              "    <tr>\n",
              "      <th>232069</th>\n",
              "      <td>348103</td>\n",
              "      <td>If you don't like rock then your not going to ...</td>\n",
              "      <td>non-suicide</td>\n",
              "    </tr>\n",
              "    <tr>\n",
              "      <th>232070</th>\n",
              "      <td>348106</td>\n",
              "      <td>You how you can tell i have so many friends an...</td>\n",
              "      <td>non-suicide</td>\n",
              "    </tr>\n",
              "    <tr>\n",
              "      <th>232071</th>\n",
              "      <td>348107</td>\n",
              "      <td>pee probably tastes like salty tea😏💦‼️ can som...</td>\n",
              "      <td>non-suicide</td>\n",
              "    </tr>\n",
              "    <tr>\n",
              "      <th>232072</th>\n",
              "      <td>348108</td>\n",
              "      <td>The usual stuff you find hereI'm not posting t...</td>\n",
              "      <td>suicide</td>\n",
              "    </tr>\n",
              "    <tr>\n",
              "      <th>232073</th>\n",
              "      <td>348110</td>\n",
              "      <td>I still haven't beaten the first boss in Hollo...</td>\n",
              "      <td>non-suicide</td>\n",
              "    </tr>\n",
              "  </tbody>\n",
              "</table>\n",
              "</div>"
            ],
            "text/plain": [
              "        Unnamed: 0                                               text  \\\n",
              "232066      348098  My mom tried to kill herself today. I feel los...   \n",
              "232067      348100  I’m a fucking scummy person and I can’t change...   \n",
              "232068      348101  I did something today I went sledding with my ...   \n",
              "232069      348103  If you don't like rock then your not going to ...   \n",
              "232070      348106  You how you can tell i have so many friends an...   \n",
              "232071      348107  pee probably tastes like salty tea😏💦‼️ can som...   \n",
              "232072      348108  The usual stuff you find hereI'm not posting t...   \n",
              "232073      348110  I still haven't beaten the first boss in Hollo...   \n",
              "\n",
              "              class  \n",
              "232066      suicide  \n",
              "232067      suicide  \n",
              "232068  non-suicide  \n",
              "232069  non-suicide  \n",
              "232070  non-suicide  \n",
              "232071  non-suicide  \n",
              "232072      suicide  \n",
              "232073  non-suicide  "
            ]
          },
          "execution_count": 9,
          "metadata": {},
          "output_type": "execute_result"
        }
      ],
      "source": [
        "df.tail(8)"
      ]
    },
    {
      "cell_type": "code",
      "execution_count": 10,
      "metadata": {
        "colab": {
          "base_uri": "https://localhost:8080/"
        },
        "id": "h075480DZ3rU",
        "outputId": "0c850013-e236-40c4-cee6-89e522c92c85"
      },
      "outputs": [
        {
          "data": {
            "text/plain": [
              "(232074, 3)"
            ]
          },
          "execution_count": 10,
          "metadata": {},
          "output_type": "execute_result"
        }
      ],
      "source": [
        "df.shape"
      ]
    },
    {
      "cell_type": "code",
      "execution_count": 11,
      "metadata": {
        "colab": {
          "base_uri": "https://localhost:8080/"
        },
        "id": "Cdd-5q9YY9_Q",
        "outputId": "850f24af-800c-4438-b37a-9ab11b6efaac"
      },
      "outputs": [
        {
          "data": {
            "text/plain": [
              "Index(['Unnamed: 0', 'text', 'class'], dtype='object')"
            ]
          },
          "execution_count": 11,
          "metadata": {},
          "output_type": "execute_result"
        }
      ],
      "source": [
        "df.columns"
      ]
    },
    {
      "cell_type": "code",
      "execution_count": 12,
      "metadata": {
        "colab": {
          "base_uri": "https://localhost:8080/"
        },
        "id": "RGigmHrmZEVI",
        "outputId": "b861342d-1f54-49a4-bac0-d4b1f38203f1"
      },
      "outputs": [
        {
          "name": "stderr",
          "output_type": "stream",
          "text": [
            "C:\\Users\\DELL\\AppData\\Local\\Temp/ipykernel_3720/1823146266.py:1: FutureWarning: In a future version of pandas all arguments of DataFrame.drop except for the argument 'labels' will be keyword-only\n",
            "  df= df.drop('Unnamed: 0',1)\n"
          ]
        }
      ],
      "source": [
        "df= df.drop('Unnamed: 0',1)"
      ]
    },
    {
      "cell_type": "code",
      "execution_count": 13,
      "metadata": {
        "colab": {
          "base_uri": "https://localhost:8080/",
          "height": 424
        },
        "id": "gdt7BL2iZXdI",
        "outputId": "7fd04d88-0427-481f-b33e-424241019315"
      },
      "outputs": [
        {
          "data": {
            "text/html": [
              "<div>\n",
              "<style scoped>\n",
              "    .dataframe tbody tr th:only-of-type {\n",
              "        vertical-align: middle;\n",
              "    }\n",
              "\n",
              "    .dataframe tbody tr th {\n",
              "        vertical-align: top;\n",
              "    }\n",
              "\n",
              "    .dataframe thead th {\n",
              "        text-align: right;\n",
              "    }\n",
              "</style>\n",
              "<table border=\"1\" class=\"dataframe\">\n",
              "  <thead>\n",
              "    <tr style=\"text-align: right;\">\n",
              "      <th></th>\n",
              "      <th>text</th>\n",
              "      <th>class</th>\n",
              "    </tr>\n",
              "  </thead>\n",
              "  <tbody>\n",
              "    <tr>\n",
              "      <th>0</th>\n",
              "      <td>Ex Wife Threatening SuicideRecently I left my ...</td>\n",
              "      <td>suicide</td>\n",
              "    </tr>\n",
              "    <tr>\n",
              "      <th>1</th>\n",
              "      <td>Am I weird I don't get affected by compliments...</td>\n",
              "      <td>non-suicide</td>\n",
              "    </tr>\n",
              "    <tr>\n",
              "      <th>2</th>\n",
              "      <td>Finally 2020 is almost over... So I can never ...</td>\n",
              "      <td>non-suicide</td>\n",
              "    </tr>\n",
              "    <tr>\n",
              "      <th>3</th>\n",
              "      <td>i need helpjust help me im crying so hard</td>\n",
              "      <td>suicide</td>\n",
              "    </tr>\n",
              "    <tr>\n",
              "      <th>4</th>\n",
              "      <td>I’m so lostHello, my name is Adam (16) and I’v...</td>\n",
              "      <td>suicide</td>\n",
              "    </tr>\n",
              "    <tr>\n",
              "      <th>...</th>\n",
              "      <td>...</td>\n",
              "      <td>...</td>\n",
              "    </tr>\n",
              "    <tr>\n",
              "      <th>232069</th>\n",
              "      <td>If you don't like rock then your not going to ...</td>\n",
              "      <td>non-suicide</td>\n",
              "    </tr>\n",
              "    <tr>\n",
              "      <th>232070</th>\n",
              "      <td>You how you can tell i have so many friends an...</td>\n",
              "      <td>non-suicide</td>\n",
              "    </tr>\n",
              "    <tr>\n",
              "      <th>232071</th>\n",
              "      <td>pee probably tastes like salty tea😏💦‼️ can som...</td>\n",
              "      <td>non-suicide</td>\n",
              "    </tr>\n",
              "    <tr>\n",
              "      <th>232072</th>\n",
              "      <td>The usual stuff you find hereI'm not posting t...</td>\n",
              "      <td>suicide</td>\n",
              "    </tr>\n",
              "    <tr>\n",
              "      <th>232073</th>\n",
              "      <td>I still haven't beaten the first boss in Hollo...</td>\n",
              "      <td>non-suicide</td>\n",
              "    </tr>\n",
              "  </tbody>\n",
              "</table>\n",
              "<p>232074 rows × 2 columns</p>\n",
              "</div>"
            ],
            "text/plain": [
              "                                                     text        class\n",
              "0       Ex Wife Threatening SuicideRecently I left my ...      suicide\n",
              "1       Am I weird I don't get affected by compliments...  non-suicide\n",
              "2       Finally 2020 is almost over... So I can never ...  non-suicide\n",
              "3               i need helpjust help me im crying so hard      suicide\n",
              "4       I’m so lostHello, my name is Adam (16) and I’v...      suicide\n",
              "...                                                   ...          ...\n",
              "232069  If you don't like rock then your not going to ...  non-suicide\n",
              "232070  You how you can tell i have so many friends an...  non-suicide\n",
              "232071  pee probably tastes like salty tea😏💦‼️ can som...  non-suicide\n",
              "232072  The usual stuff you find hereI'm not posting t...      suicide\n",
              "232073  I still haven't beaten the first boss in Hollo...  non-suicide\n",
              "\n",
              "[232074 rows x 2 columns]"
            ]
          },
          "execution_count": 13,
          "metadata": {},
          "output_type": "execute_result"
        }
      ],
      "source": [
        "df"
      ]
    },
    {
      "cell_type": "code",
      "execution_count": 14,
      "metadata": {
        "id": "udpSmzrgaRYc"
      },
      "outputs": [],
      "source": [
        "labelling ={\n",
        "    'non-suicide':0,\n",
        "    'suicide':1\n",
        "}\n",
        "df['label'] = df['class'].map(labelling)"
      ]
    },
    {
      "cell_type": "code",
      "execution_count": 15,
      "metadata": {
        "colab": {
          "base_uri": "https://localhost:8080/",
          "height": 300
        },
        "id": "j9sf1i6WcRwR",
        "outputId": "ddcc6ae3-1759-455e-dccd-5431db4a5204"
      },
      "outputs": [
        {
          "data": {
            "text/html": [
              "<div>\n",
              "<style scoped>\n",
              "    .dataframe tbody tr th:only-of-type {\n",
              "        vertical-align: middle;\n",
              "    }\n",
              "\n",
              "    .dataframe tbody tr th {\n",
              "        vertical-align: top;\n",
              "    }\n",
              "\n",
              "    .dataframe thead th {\n",
              "        text-align: right;\n",
              "    }\n",
              "</style>\n",
              "<table border=\"1\" class=\"dataframe\">\n",
              "  <thead>\n",
              "    <tr style=\"text-align: right;\">\n",
              "      <th></th>\n",
              "      <th>text</th>\n",
              "      <th>class</th>\n",
              "      <th>label</th>\n",
              "    </tr>\n",
              "  </thead>\n",
              "  <tbody>\n",
              "    <tr>\n",
              "      <th>0</th>\n",
              "      <td>Ex Wife Threatening SuicideRecently I left my ...</td>\n",
              "      <td>suicide</td>\n",
              "      <td>1</td>\n",
              "    </tr>\n",
              "    <tr>\n",
              "      <th>1</th>\n",
              "      <td>Am I weird I don't get affected by compliments...</td>\n",
              "      <td>non-suicide</td>\n",
              "      <td>0</td>\n",
              "    </tr>\n",
              "    <tr>\n",
              "      <th>2</th>\n",
              "      <td>Finally 2020 is almost over... So I can never ...</td>\n",
              "      <td>non-suicide</td>\n",
              "      <td>0</td>\n",
              "    </tr>\n",
              "    <tr>\n",
              "      <th>3</th>\n",
              "      <td>i need helpjust help me im crying so hard</td>\n",
              "      <td>suicide</td>\n",
              "      <td>1</td>\n",
              "    </tr>\n",
              "    <tr>\n",
              "      <th>4</th>\n",
              "      <td>I’m so lostHello, my name is Adam (16) and I’v...</td>\n",
              "      <td>suicide</td>\n",
              "      <td>1</td>\n",
              "    </tr>\n",
              "    <tr>\n",
              "      <th>5</th>\n",
              "      <td>Honetly idkI dont know what im even doing here...</td>\n",
              "      <td>suicide</td>\n",
              "      <td>1</td>\n",
              "    </tr>\n",
              "    <tr>\n",
              "      <th>6</th>\n",
              "      <td>[Trigger warning] Excuse for self inflicted bu...</td>\n",
              "      <td>suicide</td>\n",
              "      <td>1</td>\n",
              "    </tr>\n",
              "    <tr>\n",
              "      <th>7</th>\n",
              "      <td>It ends tonight.I can’t do it anymore. \\nI quit.</td>\n",
              "      <td>suicide</td>\n",
              "      <td>1</td>\n",
              "    </tr>\n",
              "  </tbody>\n",
              "</table>\n",
              "</div>"
            ],
            "text/plain": [
              "                                                text        class  label\n",
              "0  Ex Wife Threatening SuicideRecently I left my ...      suicide      1\n",
              "1  Am I weird I don't get affected by compliments...  non-suicide      0\n",
              "2  Finally 2020 is almost over... So I can never ...  non-suicide      0\n",
              "3          i need helpjust help me im crying so hard      suicide      1\n",
              "4  I’m so lostHello, my name is Adam (16) and I’v...      suicide      1\n",
              "5  Honetly idkI dont know what im even doing here...      suicide      1\n",
              "6  [Trigger warning] Excuse for self inflicted bu...      suicide      1\n",
              "7   It ends tonight.I can’t do it anymore. \\nI quit.      suicide      1"
            ]
          },
          "execution_count": 15,
          "metadata": {},
          "output_type": "execute_result"
        }
      ],
      "source": [
        "df.head(8)"
      ]
    },
    {
      "cell_type": "code",
      "execution_count": 16,
      "metadata": {
        "colab": {
          "base_uri": "https://localhost:8080/"
        },
        "id": "sLIdI1jwciUP",
        "outputId": "14306036-c299-46e2-e2f5-21772297030f"
      },
      "outputs": [
        {
          "data": {
            "text/plain": [
              "1    116037\n",
              "0    116037\n",
              "Name: label, dtype: int64"
            ]
          },
          "execution_count": 16,
          "metadata": {},
          "output_type": "execute_result"
        }
      ],
      "source": [
        "df['label'].value_counts()"
      ]
    },
    {
      "cell_type": "code",
      "execution_count": 17,
      "metadata": {
        "id": "xcwwXw8jdduI"
      },
      "outputs": [],
      "source": [
        "df_0 =df[df['label'] == 0]\n",
        "df_1 =df[df['label'] == 1]"
      ]
    },
    {
      "cell_type": "code",
      "execution_count": 18,
      "metadata": {
        "colab": {
          "base_uri": "https://localhost:8080/"
        },
        "id": "jyxuI4lGeGMu",
        "outputId": "ec328b06-1e9a-452f-ea51-2d1f7464d9fb"
      },
      "outputs": [
        {
          "data": {
            "text/plain": [
              "(116037, 3)"
            ]
          },
          "execution_count": 18,
          "metadata": {},
          "output_type": "execute_result"
        }
      ],
      "source": [
        "df_0.shape"
      ]
    },
    {
      "cell_type": "code",
      "execution_count": 19,
      "metadata": {
        "colab": {
          "base_uri": "https://localhost:8080/",
          "height": 424
        },
        "id": "NoSCxZYQeOGg",
        "outputId": "99dd274b-6c28-4800-d09a-ebe1078de434"
      },
      "outputs": [
        {
          "data": {
            "text/html": [
              "<div>\n",
              "<style scoped>\n",
              "    .dataframe tbody tr th:only-of-type {\n",
              "        vertical-align: middle;\n",
              "    }\n",
              "\n",
              "    .dataframe tbody tr th {\n",
              "        vertical-align: top;\n",
              "    }\n",
              "\n",
              "    .dataframe thead th {\n",
              "        text-align: right;\n",
              "    }\n",
              "</style>\n",
              "<table border=\"1\" class=\"dataframe\">\n",
              "  <thead>\n",
              "    <tr style=\"text-align: right;\">\n",
              "      <th></th>\n",
              "      <th>text</th>\n",
              "      <th>class</th>\n",
              "      <th>label</th>\n",
              "    </tr>\n",
              "  </thead>\n",
              "  <tbody>\n",
              "    <tr>\n",
              "      <th>1</th>\n",
              "      <td>Am I weird I don't get affected by compliments...</td>\n",
              "      <td>non-suicide</td>\n",
              "      <td>0</td>\n",
              "    </tr>\n",
              "    <tr>\n",
              "      <th>2</th>\n",
              "      <td>Finally 2020 is almost over... So I can never ...</td>\n",
              "      <td>non-suicide</td>\n",
              "      <td>0</td>\n",
              "    </tr>\n",
              "    <tr>\n",
              "      <th>8</th>\n",
              "      <td>Everyone wants to be \"edgy\" and it's making me...</td>\n",
              "      <td>non-suicide</td>\n",
              "      <td>0</td>\n",
              "    </tr>\n",
              "    <tr>\n",
              "      <th>15</th>\n",
              "      <td>Fuck the verizon smart family app I can’t even...</td>\n",
              "      <td>non-suicide</td>\n",
              "      <td>0</td>\n",
              "    </tr>\n",
              "    <tr>\n",
              "      <th>17</th>\n",
              "      <td>Well, Im screwed. I locked myself in the schoo...</td>\n",
              "      <td>non-suicide</td>\n",
              "      <td>0</td>\n",
              "    </tr>\n",
              "    <tr>\n",
              "      <th>...</th>\n",
              "      <td>...</td>\n",
              "      <td>...</td>\n",
              "      <td>...</td>\n",
              "    </tr>\n",
              "    <tr>\n",
              "      <th>232068</th>\n",
              "      <td>I did something today I went sledding with my ...</td>\n",
              "      <td>non-suicide</td>\n",
              "      <td>0</td>\n",
              "    </tr>\n",
              "    <tr>\n",
              "      <th>232069</th>\n",
              "      <td>If you don't like rock then your not going to ...</td>\n",
              "      <td>non-suicide</td>\n",
              "      <td>0</td>\n",
              "    </tr>\n",
              "    <tr>\n",
              "      <th>232070</th>\n",
              "      <td>You how you can tell i have so many friends an...</td>\n",
              "      <td>non-suicide</td>\n",
              "      <td>0</td>\n",
              "    </tr>\n",
              "    <tr>\n",
              "      <th>232071</th>\n",
              "      <td>pee probably tastes like salty tea😏💦‼️ can som...</td>\n",
              "      <td>non-suicide</td>\n",
              "      <td>0</td>\n",
              "    </tr>\n",
              "    <tr>\n",
              "      <th>232073</th>\n",
              "      <td>I still haven't beaten the first boss in Hollo...</td>\n",
              "      <td>non-suicide</td>\n",
              "      <td>0</td>\n",
              "    </tr>\n",
              "  </tbody>\n",
              "</table>\n",
              "<p>116037 rows × 3 columns</p>\n",
              "</div>"
            ],
            "text/plain": [
              "                                                     text        class  label\n",
              "1       Am I weird I don't get affected by compliments...  non-suicide      0\n",
              "2       Finally 2020 is almost over... So I can never ...  non-suicide      0\n",
              "8       Everyone wants to be \"edgy\" and it's making me...  non-suicide      0\n",
              "15      Fuck the verizon smart family app I can’t even...  non-suicide      0\n",
              "17      Well, Im screwed. I locked myself in the schoo...  non-suicide      0\n",
              "...                                                   ...          ...    ...\n",
              "232068  I did something today I went sledding with my ...  non-suicide      0\n",
              "232069  If you don't like rock then your not going to ...  non-suicide      0\n",
              "232070  You how you can tell i have so many friends an...  non-suicide      0\n",
              "232071  pee probably tastes like salty tea😏💦‼️ can som...  non-suicide      0\n",
              "232073  I still haven't beaten the first boss in Hollo...  non-suicide      0\n",
              "\n",
              "[116037 rows x 3 columns]"
            ]
          },
          "execution_count": 19,
          "metadata": {},
          "output_type": "execute_result"
        }
      ],
      "source": [
        "df_0"
      ]
    },
    {
      "cell_type": "code",
      "execution_count": 20,
      "metadata": {
        "colab": {
          "base_uri": "https://localhost:8080/"
        },
        "id": "7OKV78RoeKl2",
        "outputId": "c98f86b4-142d-400a-cbfd-7efaad974f91"
      },
      "outputs": [
        {
          "data": {
            "text/plain": [
              "(116037, 3)"
            ]
          },
          "execution_count": 20,
          "metadata": {},
          "output_type": "execute_result"
        }
      ],
      "source": [
        "df_1.shape"
      ]
    },
    {
      "cell_type": "code",
      "execution_count": 21,
      "metadata": {
        "colab": {
          "base_uri": "https://localhost:8080/",
          "height": 424
        },
        "id": "URROWNsOe6q4",
        "outputId": "455dad9b-8f1b-4e6f-ce79-1c1fb615434e"
      },
      "outputs": [
        {
          "data": {
            "text/html": [
              "<div>\n",
              "<style scoped>\n",
              "    .dataframe tbody tr th:only-of-type {\n",
              "        vertical-align: middle;\n",
              "    }\n",
              "\n",
              "    .dataframe tbody tr th {\n",
              "        vertical-align: top;\n",
              "    }\n",
              "\n",
              "    .dataframe thead th {\n",
              "        text-align: right;\n",
              "    }\n",
              "</style>\n",
              "<table border=\"1\" class=\"dataframe\">\n",
              "  <thead>\n",
              "    <tr style=\"text-align: right;\">\n",
              "      <th></th>\n",
              "      <th>text</th>\n",
              "      <th>class</th>\n",
              "      <th>label</th>\n",
              "    </tr>\n",
              "  </thead>\n",
              "  <tbody>\n",
              "    <tr>\n",
              "      <th>0</th>\n",
              "      <td>Ex Wife Threatening SuicideRecently I left my ...</td>\n",
              "      <td>suicide</td>\n",
              "      <td>1</td>\n",
              "    </tr>\n",
              "    <tr>\n",
              "      <th>3</th>\n",
              "      <td>i need helpjust help me im crying so hard</td>\n",
              "      <td>suicide</td>\n",
              "      <td>1</td>\n",
              "    </tr>\n",
              "    <tr>\n",
              "      <th>4</th>\n",
              "      <td>I’m so lostHello, my name is Adam (16) and I’v...</td>\n",
              "      <td>suicide</td>\n",
              "      <td>1</td>\n",
              "    </tr>\n",
              "    <tr>\n",
              "      <th>5</th>\n",
              "      <td>Honetly idkI dont know what im even doing here...</td>\n",
              "      <td>suicide</td>\n",
              "      <td>1</td>\n",
              "    </tr>\n",
              "    <tr>\n",
              "      <th>6</th>\n",
              "      <td>[Trigger warning] Excuse for self inflicted bu...</td>\n",
              "      <td>suicide</td>\n",
              "      <td>1</td>\n",
              "    </tr>\n",
              "    <tr>\n",
              "      <th>...</th>\n",
              "      <td>...</td>\n",
              "      <td>...</td>\n",
              "      <td>...</td>\n",
              "    </tr>\n",
              "    <tr>\n",
              "      <th>232061</th>\n",
              "      <td>I’ve fucking had enough.None of this depressio...</td>\n",
              "      <td>suicide</td>\n",
              "      <td>1</td>\n",
              "    </tr>\n",
              "    <tr>\n",
              "      <th>232062</th>\n",
              "      <td>paralyzing anxiety &amp;amp; depression are pushin...</td>\n",
              "      <td>suicide</td>\n",
              "      <td>1</td>\n",
              "    </tr>\n",
              "    <tr>\n",
              "      <th>232066</th>\n",
              "      <td>My mom tried to kill herself today. I feel los...</td>\n",
              "      <td>suicide</td>\n",
              "      <td>1</td>\n",
              "    </tr>\n",
              "    <tr>\n",
              "      <th>232067</th>\n",
              "      <td>I’m a fucking scummy person and I can’t change...</td>\n",
              "      <td>suicide</td>\n",
              "      <td>1</td>\n",
              "    </tr>\n",
              "    <tr>\n",
              "      <th>232072</th>\n",
              "      <td>The usual stuff you find hereI'm not posting t...</td>\n",
              "      <td>suicide</td>\n",
              "      <td>1</td>\n",
              "    </tr>\n",
              "  </tbody>\n",
              "</table>\n",
              "<p>116037 rows × 3 columns</p>\n",
              "</div>"
            ],
            "text/plain": [
              "                                                     text    class  label\n",
              "0       Ex Wife Threatening SuicideRecently I left my ...  suicide      1\n",
              "3               i need helpjust help me im crying so hard  suicide      1\n",
              "4       I’m so lostHello, my name is Adam (16) and I’v...  suicide      1\n",
              "5       Honetly idkI dont know what im even doing here...  suicide      1\n",
              "6       [Trigger warning] Excuse for self inflicted bu...  suicide      1\n",
              "...                                                   ...      ...    ...\n",
              "232061  I’ve fucking had enough.None of this depressio...  suicide      1\n",
              "232062  paralyzing anxiety &amp; depression are pushin...  suicide      1\n",
              "232066  My mom tried to kill herself today. I feel los...  suicide      1\n",
              "232067  I’m a fucking scummy person and I can’t change...  suicide      1\n",
              "232072  The usual stuff you find hereI'm not posting t...  suicide      1\n",
              "\n",
              "[116037 rows x 3 columns]"
            ]
          },
          "execution_count": 21,
          "metadata": {},
          "output_type": "execute_result"
        }
      ],
      "source": [
        "df_1"
      ]
    },
    {
      "cell_type": "code",
      "execution_count": 22,
      "metadata": {
        "id": "6ege_sOVe-Hv"
      },
      "outputs": [],
      "source": [
        "df_0 = df_0.sample(n=3500, random_state =0)\n",
        "df_1 = df_1.sample(n=3500, random_state =0)"
      ]
    },
    {
      "cell_type": "code",
      "execution_count": 23,
      "metadata": {
        "colab": {
          "base_uri": "https://localhost:8080/"
        },
        "id": "KN3TeBTGfYaS",
        "outputId": "1af84d26-64d2-4c2c-bb96-d0d338106e2c"
      },
      "outputs": [
        {
          "data": {
            "text/plain": [
              "(                                                     text        class  label\n",
              " 80854   First day of new school year Please unlive me\\...  non-suicide      0\n",
              " 113174  Just cut off the dude that makes me wanna kill...  non-suicide      0\n",
              " 215271  Would you put ketchup or barbecue sauce on fis...  non-suicide      0\n",
              " 84155   bruh I gotta figure out how to stop getting bo...  non-suicide      0\n",
              " 19237   I FUCKING HATE MY BRAIN The story about this i...  non-suicide      0\n",
              " ...                                                   ...          ...    ...\n",
              " 187597  How do u get over someone you know you'll neve...  non-suicide      0\n",
              " 42248   To whoever keeps giving me gold.... Thanks I a...  non-suicide      0\n",
              " 201543  So apparently it’s my fault that my mom lost h...  non-suicide      0\n",
              " 120054  Anyone wanna start a discord? I have no idea w...  non-suicide      0\n",
              " 156198  Girls belong in to the kitchen ! And boys too,...  non-suicide      0\n",
              " \n",
              " [3500 rows x 3 columns],\n",
              "                                                      text    class  label\n",
              " 80926   Am so utterly suicidal but I’m so terrified I ...  suicide      1\n",
              " 112992  Bi-Polar, Uni-Polar, Schizophrenia. Should I g...  suicide      1\n",
              " 215187  What keeps y’all beans from pullin da trigger?...  suicide      1\n",
              " 84086   I can't go to the hospital because they'll thr...  suicide      1\n",
              " 19766   I'm scaredI really want to end it all, but I'm...  suicide      1\n",
              " ...                                                   ...      ...    ...\n",
              " 187572  I just want to be goneI have a good life I gue...  suicide      1\n",
              " 42485   Even though I can laugh, I don't feel anything...  suicide      1\n",
              " 201530  I ordered heroin to od onnot sure why I'm sayi...  suicide      1\n",
              " 119857  Please Help MeI can't go on like this anymore....  suicide      1\n",
              " 156137  I'm getting scared for my best friendShe told ...  suicide      1\n",
              " \n",
              " [3500 rows x 3 columns])"
            ]
          },
          "execution_count": 23,
          "metadata": {},
          "output_type": "execute_result"
        }
      ],
      "source": [
        "df_0, df_1"
      ]
    },
    {
      "cell_type": "code",
      "execution_count": 24,
      "metadata": {
        "id": "JRw0b-6AgheZ"
      },
      "outputs": [],
      "source": [
        "df_merged = pd.concat([df_0, df_1], join ='inner', ignore_index = True)"
      ]
    },
    {
      "cell_type": "code",
      "execution_count": 25,
      "metadata": {
        "colab": {
          "base_uri": "https://localhost:8080/",
          "height": 424
        },
        "id": "VCL237Czhe7t",
        "outputId": "3c7ee0f6-db88-49d1-9f81-cfc136293f00"
      },
      "outputs": [
        {
          "data": {
            "text/html": [
              "<div>\n",
              "<style scoped>\n",
              "    .dataframe tbody tr th:only-of-type {\n",
              "        vertical-align: middle;\n",
              "    }\n",
              "\n",
              "    .dataframe tbody tr th {\n",
              "        vertical-align: top;\n",
              "    }\n",
              "\n",
              "    .dataframe thead th {\n",
              "        text-align: right;\n",
              "    }\n",
              "</style>\n",
              "<table border=\"1\" class=\"dataframe\">\n",
              "  <thead>\n",
              "    <tr style=\"text-align: right;\">\n",
              "      <th></th>\n",
              "      <th>text</th>\n",
              "      <th>class</th>\n",
              "      <th>label</th>\n",
              "    </tr>\n",
              "  </thead>\n",
              "  <tbody>\n",
              "    <tr>\n",
              "      <th>0</th>\n",
              "      <td>First day of new school year Please unlive me\\...</td>\n",
              "      <td>non-suicide</td>\n",
              "      <td>0</td>\n",
              "    </tr>\n",
              "    <tr>\n",
              "      <th>1</th>\n",
              "      <td>Just cut off the dude that makes me wanna kill...</td>\n",
              "      <td>non-suicide</td>\n",
              "      <td>0</td>\n",
              "    </tr>\n",
              "    <tr>\n",
              "      <th>2</th>\n",
              "      <td>Would you put ketchup or barbecue sauce on fis...</td>\n",
              "      <td>non-suicide</td>\n",
              "      <td>0</td>\n",
              "    </tr>\n",
              "    <tr>\n",
              "      <th>3</th>\n",
              "      <td>bruh I gotta figure out how to stop getting bo...</td>\n",
              "      <td>non-suicide</td>\n",
              "      <td>0</td>\n",
              "    </tr>\n",
              "    <tr>\n",
              "      <th>4</th>\n",
              "      <td>I FUCKING HATE MY BRAIN The story about this i...</td>\n",
              "      <td>non-suicide</td>\n",
              "      <td>0</td>\n",
              "    </tr>\n",
              "    <tr>\n",
              "      <th>...</th>\n",
              "      <td>...</td>\n",
              "      <td>...</td>\n",
              "      <td>...</td>\n",
              "    </tr>\n",
              "    <tr>\n",
              "      <th>6995</th>\n",
              "      <td>I just want to be goneI have a good life I gue...</td>\n",
              "      <td>suicide</td>\n",
              "      <td>1</td>\n",
              "    </tr>\n",
              "    <tr>\n",
              "      <th>6996</th>\n",
              "      <td>Even though I can laugh, I don't feel anything...</td>\n",
              "      <td>suicide</td>\n",
              "      <td>1</td>\n",
              "    </tr>\n",
              "    <tr>\n",
              "      <th>6997</th>\n",
              "      <td>I ordered heroin to od onnot sure why I'm sayi...</td>\n",
              "      <td>suicide</td>\n",
              "      <td>1</td>\n",
              "    </tr>\n",
              "    <tr>\n",
              "      <th>6998</th>\n",
              "      <td>Please Help MeI can't go on like this anymore....</td>\n",
              "      <td>suicide</td>\n",
              "      <td>1</td>\n",
              "    </tr>\n",
              "    <tr>\n",
              "      <th>6999</th>\n",
              "      <td>I'm getting scared for my best friendShe told ...</td>\n",
              "      <td>suicide</td>\n",
              "      <td>1</td>\n",
              "    </tr>\n",
              "  </tbody>\n",
              "</table>\n",
              "<p>7000 rows × 3 columns</p>\n",
              "</div>"
            ],
            "text/plain": [
              "                                                   text        class  label\n",
              "0     First day of new school year Please unlive me\\...  non-suicide      0\n",
              "1     Just cut off the dude that makes me wanna kill...  non-suicide      0\n",
              "2     Would you put ketchup or barbecue sauce on fis...  non-suicide      0\n",
              "3     bruh I gotta figure out how to stop getting bo...  non-suicide      0\n",
              "4     I FUCKING HATE MY BRAIN The story about this i...  non-suicide      0\n",
              "...                                                 ...          ...    ...\n",
              "6995  I just want to be goneI have a good life I gue...      suicide      1\n",
              "6996  Even though I can laugh, I don't feel anything...      suicide      1\n",
              "6997  I ordered heroin to od onnot sure why I'm sayi...      suicide      1\n",
              "6998  Please Help MeI can't go on like this anymore....      suicide      1\n",
              "6999  I'm getting scared for my best friendShe told ...      suicide      1\n",
              "\n",
              "[7000 rows x 3 columns]"
            ]
          },
          "execution_count": 25,
          "metadata": {},
          "output_type": "execute_result"
        }
      ],
      "source": [
        "df_merged"
      ]
    },
    {
      "cell_type": "code",
      "execution_count": 26,
      "metadata": {
        "colab": {
          "base_uri": "https://localhost:8080/"
        },
        "id": "ndy-1mKEfyyo",
        "outputId": "e3d69c49-382d-4e39-8fa2-bed8e8358c94"
      },
      "outputs": [
        {
          "data": {
            "text/plain": [
              "0    3500\n",
              "1    3500\n",
              "Name: label, dtype: int64"
            ]
          },
          "execution_count": 26,
          "metadata": {},
          "output_type": "execute_result"
        }
      ],
      "source": [
        "df_merged['label'].value_counts()"
      ]
    },
    {
      "cell_type": "code",
      "execution_count": 27,
      "metadata": {
        "id": "wuovZ4Bkhmsq"
      },
      "outputs": [],
      "source": [
        "dff = df_merged"
      ]
    },
    {
      "cell_type": "code",
      "execution_count": 28,
      "metadata": {
        "colab": {
          "base_uri": "https://localhost:8080/",
          "height": 424
        },
        "id": "X86yffPAj_rZ",
        "outputId": "972992b8-d90b-46e3-8bfd-6981f5c1793e"
      },
      "outputs": [
        {
          "data": {
            "text/html": [
              "<div>\n",
              "<style scoped>\n",
              "    .dataframe tbody tr th:only-of-type {\n",
              "        vertical-align: middle;\n",
              "    }\n",
              "\n",
              "    .dataframe tbody tr th {\n",
              "        vertical-align: top;\n",
              "    }\n",
              "\n",
              "    .dataframe thead th {\n",
              "        text-align: right;\n",
              "    }\n",
              "</style>\n",
              "<table border=\"1\" class=\"dataframe\">\n",
              "  <thead>\n",
              "    <tr style=\"text-align: right;\">\n",
              "      <th></th>\n",
              "      <th>text</th>\n",
              "      <th>class</th>\n",
              "      <th>label</th>\n",
              "    </tr>\n",
              "  </thead>\n",
              "  <tbody>\n",
              "    <tr>\n",
              "      <th>0</th>\n",
              "      <td>First day of new school year Please unlive me\\...</td>\n",
              "      <td>non-suicide</td>\n",
              "      <td>0</td>\n",
              "    </tr>\n",
              "    <tr>\n",
              "      <th>1</th>\n",
              "      <td>Just cut off the dude that makes me wanna kill...</td>\n",
              "      <td>non-suicide</td>\n",
              "      <td>0</td>\n",
              "    </tr>\n",
              "    <tr>\n",
              "      <th>2</th>\n",
              "      <td>Would you put ketchup or barbecue sauce on fis...</td>\n",
              "      <td>non-suicide</td>\n",
              "      <td>0</td>\n",
              "    </tr>\n",
              "    <tr>\n",
              "      <th>3</th>\n",
              "      <td>bruh I gotta figure out how to stop getting bo...</td>\n",
              "      <td>non-suicide</td>\n",
              "      <td>0</td>\n",
              "    </tr>\n",
              "    <tr>\n",
              "      <th>4</th>\n",
              "      <td>I FUCKING HATE MY BRAIN The story about this i...</td>\n",
              "      <td>non-suicide</td>\n",
              "      <td>0</td>\n",
              "    </tr>\n",
              "    <tr>\n",
              "      <th>...</th>\n",
              "      <td>...</td>\n",
              "      <td>...</td>\n",
              "      <td>...</td>\n",
              "    </tr>\n",
              "    <tr>\n",
              "      <th>6995</th>\n",
              "      <td>I just want to be goneI have a good life I gue...</td>\n",
              "      <td>suicide</td>\n",
              "      <td>1</td>\n",
              "    </tr>\n",
              "    <tr>\n",
              "      <th>6996</th>\n",
              "      <td>Even though I can laugh, I don't feel anything...</td>\n",
              "      <td>suicide</td>\n",
              "      <td>1</td>\n",
              "    </tr>\n",
              "    <tr>\n",
              "      <th>6997</th>\n",
              "      <td>I ordered heroin to od onnot sure why I'm sayi...</td>\n",
              "      <td>suicide</td>\n",
              "      <td>1</td>\n",
              "    </tr>\n",
              "    <tr>\n",
              "      <th>6998</th>\n",
              "      <td>Please Help MeI can't go on like this anymore....</td>\n",
              "      <td>suicide</td>\n",
              "      <td>1</td>\n",
              "    </tr>\n",
              "    <tr>\n",
              "      <th>6999</th>\n",
              "      <td>I'm getting scared for my best friendShe told ...</td>\n",
              "      <td>suicide</td>\n",
              "      <td>1</td>\n",
              "    </tr>\n",
              "  </tbody>\n",
              "</table>\n",
              "<p>7000 rows × 3 columns</p>\n",
              "</div>"
            ],
            "text/plain": [
              "                                                   text        class  label\n",
              "0     First day of new school year Please unlive me\\...  non-suicide      0\n",
              "1     Just cut off the dude that makes me wanna kill...  non-suicide      0\n",
              "2     Would you put ketchup or barbecue sauce on fis...  non-suicide      0\n",
              "3     bruh I gotta figure out how to stop getting bo...  non-suicide      0\n",
              "4     I FUCKING HATE MY BRAIN The story about this i...  non-suicide      0\n",
              "...                                                 ...          ...    ...\n",
              "6995  I just want to be goneI have a good life I gue...      suicide      1\n",
              "6996  Even though I can laugh, I don't feel anything...      suicide      1\n",
              "6997  I ordered heroin to od onnot sure why I'm sayi...      suicide      1\n",
              "6998  Please Help MeI can't go on like this anymore....      suicide      1\n",
              "6999  I'm getting scared for my best friendShe told ...      suicide      1\n",
              "\n",
              "[7000 rows x 3 columns]"
            ]
          },
          "execution_count": 28,
          "metadata": {},
          "output_type": "execute_result"
        }
      ],
      "source": [
        "dff"
      ]
    },
    {
      "cell_type": "code",
      "execution_count": 29,
      "metadata": {
        "colab": {
          "base_uri": "https://localhost:8080/"
        },
        "id": "zHhfx1AoX5QR",
        "outputId": "ae0aefb1-9485-4edc-a785-aff50ef6ad05"
      },
      "outputs": [
        {
          "name": "stdout",
          "output_type": "stream",
          "text": [
            "Ex Wife Threatening SuicideRecently I left my wife for good because she has cheated on me twice and lied to me so much that I have decided to refuse to go back to her. As of a few days ago, she began threatening suicide. I have tirelessly spent these paat few days talking her out of it and she keeps hesitating because she wants to believe I'll come back. I know a lot of people will threaten this in order to get their way, but what happens if she really does? What do I do and how am I supposed to handle her death on my hands? I still love my wife but I cannot deal with getting cheated on again and constantly feeling insecure. I'm worried today may be the day she does it and I hope so much it doesn't happen.\n",
            "Am I weird I don't get affected by compliments if it's coming from someone I know irl but I feel really good when internet strangers do it\n",
            "Finally 2020 is almost over... So I can never hear \"2020 has been a bad year\" ever again. I swear to fucking God it's so annoying\n",
            "i need helpjust help me im crying so hard\n",
            "I’m so lostHello, my name is Adam (16) and I’ve been struggling for years and I’m afraid. Through these past years thoughts of suicide, fear, anxiety I’m so close to my limit . I’ve been quiet for so long and I’m too scared to come out to my family about these feelings. About 3 years ago  losing my aunt triggered it all. Everyday feeling hopeless , lost, guilty, and remorseful over her and all the things I’ve done in my life,but thoughts like these with the little I’ve experienced in life? Only time I’ve revealed these feelings to my family is when I broke down where they saw my cuts. Watching them get so worried over something I portrayed as an average day made me feel absolutely dreadful. They later found out I was an attempt survivor from attempt OD(overdose from pills) and attempt hanging. All that happened was a blackout from the pills and I never went through with the noose because I’m still so afraid. During my first therapy I was diagnosed with severe depression, social anxiety, and a eating disorder.\n",
            "I was later transferred to a fucken group therapy for some reason which made me feel more anxious. Eventually before my last session with a 1 on 1 therapy she showed me my results from a daily check up on my feelings(which was a 2 - step survey for me and my mom/dad )\n",
            "Come to find out as I’ve been putting feeling horrible and afraid/anxious everyday , my mom has been doing I’ve been doing absolutely amazing with me described as “happiest she’s ever seen me, therapy has helped him” \n",
            "I eventually was put on Sertaline (anti anxiety or anti depression I’m sorry I forgot) but I never finished my first prescription nor ever found the right type of anti depressant because my mom thought I only wanted the drugs so she took me off my recommended pill schedule after ~3 week and stopped me from taking them. All this time I’ve been feeling worse afraid of the damage/ worry I’ve caused them even more. \n",
            "Now here with everything going on, I’m as afraid as I’ve ever been . I’ve relapsed on cutting and have developed severe insomnia . Day after day feeling more hopeless, worthless questioning why am I still here? What’s my motivation to move out of bed and keep going? I ask these to myself nearly every night almost having a break down everytime. \n",
            "Please Please Please someone.. anyone help me.\n",
            "I’m so scared I might do something drastic, I’ve been shaped by fear and anxiety. Idk what to do anymore\n",
            "Honetly idkI dont know what im even doing here. I just feel like there is nothing and nowhere for me. All i can feel is either nothing or unbearably sad. Im ignoring friends every opitunity i can. I feel like im loosing my girlfriend. I only hurt everyone i talk too and i dont cause anything good. Im behind on my education, i feel alone but for the first time its not a feeling ive enjoyed. I have no hopes or dreams. I care about nothing, not family, not friends, not even my girlfriend (i still love her, its complicated and i dont have the words to describe it). \n",
            "\n",
            "I would do something to end myself but i know im not strong and brave enough to do it, and knowing im that weak makes me sadder. The only thing i can do is push away all emotion and be empty, because as bad as it is im used to it, its my way of being normal. \n",
            "\n",
            "I dont understand how people have hopes or dreams, and i mentioned how bad i was feeling to my girlfriend but she just got scared i would die so i havnt brought it up again. But in that talk i realised i cant even comprehend my life having meaning to anyone.\n",
            "\n",
            "I know this is just me rambling and i will probably regret posting this as ill think im taking the place of someone having a worse time with a gun to their head. I encoage all people who see this to help them instead of me. Ill probably suvive, they might not. Plus my life is meaningless and my future bleak, while they could cure cancer or something useful.\n",
            "\n",
            "Sorry for wasting your time\n",
            "[Trigger warning] Excuse for self inflicted burns*I do know the crisis line and used it after when I was having a panic attack.\n",
            "*I know it's not a healthy thing to do.\n",
            "\n",
            "But, I did. I did something stupid out of impulse. I burned myself.  I REALLY need help with an excuse as the father of my daughter knows my history (we were together 12 years.) He's seen my at my worst - but! I had always only cut on my ankles and wrists, I'm thinking the excuse for this would be easier than one for cuts.\n",
            "\n",
            "\n",
            " I did work on my car last night and I hadn't self harmed in a LONG time. I just did it without thinking, as usual; impulse and lost in the moment.\n",
            "\n",
            "\n",
            "Should I say I touched something under the hood while the car was still hot? I have 3 almost in a curved like pattern the first on forearm then down a little then on the side of my wrist. They are about an inch long, kind of wide and a little deep. \n",
            "\n",
            "I think the car excuse  is a good one but I would need to say what I was working on to explain the 3 burns. Maybe that there was a wire smooshed behind the engine and when I went to fix it I touched the engine? \n",
            "\n",
            "I do not want to self harm again, I just need to be able to explain this.\n",
            "It ends tonight.I can’t do it anymore. \n",
            "I quit.\n",
            "Everyone wants to be \"edgy\" and it's making me self conscious I feel like I don't stand out. I can draw yes and play the guitar but I honestly feel like am stuck in the past, my taste in music are all rock and alt metal from\n",
            "2000's to the 90's and it doesn't really make me feel unique it's just my style but seeing as my friends and classmates getting more into rap and EDM it's hard for me to feel like I fit in.\n",
            "The I don't feel like I stand out is because of all the others copying a style and if I do that I'd be just another\n",
            "\"Quirky kid\" who's in a cringey phase.\n",
            "Many of my friends say that I look good in grunge style and I kinda agree but it's hard for me to continue that if I can't even stand out from all the \"edgy\n",
            "People who wore crosses and wallet chains and do tiktoks\"\n",
            "\n",
            "Really feels like I don't fit in in all categories, am scared that people might confuse me with a CLOUT CHASER or a fucking tiktok e boy goddamn\n",
            "I hate my life\n",
            "My life is over at 20 years oldHello all. I am a 20 year old balding male. My hairline is trash and to make matters worse my head is HUGE. I have bipolar, depression and crippling social anxiety. Balding has been the cherry on top. I wear a hat 24/7 even in my room when I’m alone because I can’t stop thinking about it. I pop Xanax all day to try and numb the pain and it works for a little bit but it all comes crashing back twice as hard once I come down. I don’t know how to communicate with people anymore and I don’t know how to keep a relationship. I used to be one of the “popular kids” but after my dad passed away I feel into a deep dark hole. I’ve been arrested numerous times, been in rehab, mental hospitals, you name it. The only reason I haven’t killed myself yet is because of my mom and brothers. If I didn’t have them I’d be dead long ago. But it’s getting to the point where even their love and support isn’t going to be enough to keep me alive anymore. I’m either going to be the guy who killed himself, or the guy who went bald and 20 and looks like a child molestor. Which one would you choose?\n",
            "I took the rest of my sleeping pills and my painkillersI can’t wait for it to end, I’ve struggled for the past 6 years and I’m finally ending it.\n"
          ]
        }
      ],
      "source": [
        "for i in range(11):\n",
        "  print(df['text'][i])"
      ]
    },
    {
      "cell_type": "code",
      "execution_count": 30,
      "metadata": {
        "id": "R9IQ3uzGMJlI"
      },
      "outputs": [],
      "source": [
        "from nltk.stem.porter import PorterStemmer\n",
        "lemma = WordNetLemmatizer()\n",
        "PS = PorterStemmer()"
      ]
    },
    {
      "cell_type": "code",
      "execution_count": 31,
      "metadata": {
        "id": "C178yWxmZo4B"
      },
      "outputs": [],
      "source": [
        "dff['text'] = dff['text'].apply(lambda x: ' '.join([comment for comment in str(x).split() if not comment.startswith('@')]))"
      ]
    },
    {
      "cell_type": "code",
      "execution_count": 32,
      "metadata": {
        "id": "pmBr7rdzk9wm"
      },
      "outputs": [],
      "source": [
        "def clean_text(text): \n",
        "\n",
        "  \n",
        "  text = text.lower() \n",
        "\n",
        "\n",
        "  pattern = re.compile('http[s]?://(?:[a-zA-Z]|[0-9]|[$-_@.&+]|[!*\\(\\),]|(?:%[0-9a-fA-F][0-9a-fA-F]))+')\n",
        "  text = pattern.sub('', text)\n",
        "  \n",
        "  \n",
        "  text = re.sub(r\"[,.\\\"!@$%^&*(){}?/;`~:<>+=-]\", \"\", text)\n",
        "\n",
        "  \n",
        "  tokens = word_tokenize(text)\n",
        "  \n",
        "  table = str.maketrans('', '', string.punctuation)\n",
        "  stripped = [w.translate(table) for w in tokens]\n",
        "\n",
        "  \n",
        "  words = [ word for word in stripped if word.isalpha() ] \n",
        "  \n",
        "  stop_words = set(stopwords.words(\"english\"))\n",
        "  words = [w for w in words if not w in stop_words]  \n",
        "\n",
        "  words = [PS.stem(w) for w in words] \n",
        "  \n",
        "  words = [lemma.lemmatize(w) for w in words]\n",
        "\n",
        "  \n",
        "  words = ' '.join(words) \n",
        "\n",
        "  return words"
      ]
    },
    {
      "cell_type": "code",
      "execution_count": 33,
      "metadata": {
        "id": "PIivjZ92p406"
      },
      "outputs": [],
      "source": [
        "dff['clean_text'] = dff['text'].apply(lambda text: clean_text(text))"
      ]
    },
    {
      "cell_type": "code",
      "execution_count": 34,
      "metadata": {
        "colab": {
          "base_uri": "https://localhost:8080/"
        },
        "id": "29FFHmRtYBA1",
        "outputId": "e0580017-0319-40f2-ba73-d60c237b0e5f"
      },
      "outputs": [
        {
          "name": "stdout",
          "output_type": "stream",
          "text": [
            "first day new school year plea unliv filler filler filler filler filler filler filler filler filler filler filler filler\n",
            "cut dude make wan na kill time happier biggest piec shit ever happi best friend live peac without like ah cut as think fine done thing done also toxic friend get better trust\n",
            "would put ketchup barbecu sauc fish would consid abomin societi\n",
            "bruh got ta figur stop get bone everytim hear girlfriend voic h e l p\n",
            "fuck hate brain stori good dream good one fuck piec meat insid skull woke middl fuck night say pp goe broom broom want know dream\n",
            "anyon el think concept race gender whole fuck garbag there liter need differenti peopl someth born especi doesnt matter racismsex even wors pointless let peopl arewanna\n",
            "cute take compliment move\n",
            "anyon wan na join gc slot left llllllllllllllllllmdjdjejiajhwuudidjdjdhdhudusjshwhwbwbehwehebebbeheheh\n",
            "hour get readi nnn come tri die\n",
            "mad cup noodl gt put paper back top noodl went move wait cook bitch as decid nah ima burn person hand hand hurt\n",
            "lazi as sister lost dog even look last night pure bred basset hound pen sister tri sneak room well asleep sister tri appar somebodi let dog outsid ran lazi as sister look fault know much dog worth eight hundr buck first got reason run almost time everi time mom step dad make look liter chase peopl properti matter obvious gunna get shot rural usa fuck\n"
          ]
        }
      ],
      "source": [
        "for i in range(11):\n",
        "  print(dff['clean_text'][i])"
      ]
    },
    {
      "cell_type": "code",
      "execution_count": 35,
      "metadata": {
        "id": "iSU7rHF0hDjx"
      },
      "outputs": [],
      "source": [
        "dff['word_count'] = dff['clean_text'].apply(lambda x: len(x.split()))"
      ]
    },
    {
      "cell_type": "code",
      "execution_count": 36,
      "metadata": {
        "colab": {
          "base_uri": "https://localhost:8080/",
          "height": 824
        },
        "id": "QD08xyWKgrpt",
        "outputId": "1a91bf2a-6193-4511-c416-0cf8e35cd33b"
      },
      "outputs": [
        {
          "data": {
            "text/html": [
              "<div>\n",
              "<style scoped>\n",
              "    .dataframe tbody tr th:only-of-type {\n",
              "        vertical-align: middle;\n",
              "    }\n",
              "\n",
              "    .dataframe tbody tr th {\n",
              "        vertical-align: top;\n",
              "    }\n",
              "\n",
              "    .dataframe thead th {\n",
              "        text-align: right;\n",
              "    }\n",
              "</style>\n",
              "<table border=\"1\" class=\"dataframe\">\n",
              "  <thead>\n",
              "    <tr style=\"text-align: right;\">\n",
              "      <th></th>\n",
              "      <th>text</th>\n",
              "      <th>class</th>\n",
              "      <th>label</th>\n",
              "      <th>clean_text</th>\n",
              "      <th>word_count</th>\n",
              "    </tr>\n",
              "  </thead>\n",
              "  <tbody>\n",
              "    <tr>\n",
              "      <th>0</th>\n",
              "      <td>First day of new school year Please unlive me ...</td>\n",
              "      <td>non-suicide</td>\n",
              "      <td>0</td>\n",
              "      <td>first day new school year plea unliv filler fi...</td>\n",
              "      <td>19</td>\n",
              "    </tr>\n",
              "    <tr>\n",
              "      <th>1</th>\n",
              "      <td>Just cut off the dude that makes me wanna kill...</td>\n",
              "      <td>non-suicide</td>\n",
              "      <td>0</td>\n",
              "      <td>cut dude make wan na kill time happier biggest...</td>\n",
              "      <td>33</td>\n",
              "    </tr>\n",
              "    <tr>\n",
              "      <th>2</th>\n",
              "      <td>Would you put ketchup or barbecue sauce on fis...</td>\n",
              "      <td>non-suicide</td>\n",
              "      <td>0</td>\n",
              "      <td>would put ketchup barbecu sauc fish would cons...</td>\n",
              "      <td>10</td>\n",
              "    </tr>\n",
              "    <tr>\n",
              "      <th>3</th>\n",
              "      <td>bruh I gotta figure out how to stop getting bo...</td>\n",
              "      <td>non-suicide</td>\n",
              "      <td>0</td>\n",
              "      <td>bruh got ta figur stop get bone everytim hear ...</td>\n",
              "      <td>15</td>\n",
              "    </tr>\n",
              "    <tr>\n",
              "      <th>4</th>\n",
              "      <td>I FUCKING HATE MY BRAIN The story about this i...</td>\n",
              "      <td>non-suicide</td>\n",
              "      <td>0</td>\n",
              "      <td>fuck hate brain stori good dream good one fuck...</td>\n",
              "      <td>25</td>\n",
              "    </tr>\n",
              "    <tr>\n",
              "      <th>5</th>\n",
              "      <td>Anyone else just think that the concepts of ra...</td>\n",
              "      <td>non-suicide</td>\n",
              "      <td>0</td>\n",
              "      <td>anyon el think concept race gender whole fuck ...</td>\n",
              "      <td>26</td>\n",
              "    </tr>\n",
              "    <tr>\n",
              "      <th>6</th>\n",
              "      <td>you’re cute take the compliment and move on 🔫</td>\n",
              "      <td>non-suicide</td>\n",
              "      <td>0</td>\n",
              "      <td>cute take compliment move</td>\n",
              "      <td>4</td>\n",
              "    </tr>\n",
              "    <tr>\n",
              "      <th>7</th>\n",
              "      <td>Anyone wanna join a gc? Only 1 slot left. Llll...</td>\n",
              "      <td>non-suicide</td>\n",
              "      <td>0</td>\n",
              "      <td>anyon wan na join gc slot left lllllllllllllll...</td>\n",
              "      <td>8</td>\n",
              "    </tr>\n",
              "    <tr>\n",
              "      <th>8</th>\n",
              "      <td>7.5 hours Get ready. NNN is coming. Try not to...</td>\n",
              "      <td>non-suicide</td>\n",
              "      <td>0</td>\n",
              "      <td>hour get readi nnn come tri die</td>\n",
              "      <td>7</td>\n",
              "    </tr>\n",
              "    <tr>\n",
              "      <th>9</th>\n",
              "      <td>I’m mad at my cup of noodles &amp;gt;:( So I was p...</td>\n",
              "      <td>non-suicide</td>\n",
              "      <td>0</td>\n",
              "      <td>mad cup noodl gt put paper back top noodl went...</td>\n",
              "      <td>23</td>\n",
              "    </tr>\n",
              "    <tr>\n",
              "      <th>10</th>\n",
              "      <td>My lazy ass sister lost the dog and won’t even...</td>\n",
              "      <td>non-suicide</td>\n",
              "      <td>0</td>\n",
              "      <td>lazi as sister lost dog even look last night p...</td>\n",
              "      <td>65</td>\n",
              "    </tr>\n",
              "    <tr>\n",
              "      <th>11</th>\n",
              "      <td>do u recognize me im pretty cool, sometimes I ...</td>\n",
              "      <td>non-suicide</td>\n",
              "      <td>0</td>\n",
              "      <td>u recogn im pretti cool sometim make unfunni p...</td>\n",
              "      <td>21</td>\n",
              "    </tr>\n",
              "    <tr>\n",
              "      <th>12</th>\n",
              "      <td>What if sandwiches are just food orgy's ? Idk ...</td>\n",
              "      <td>non-suicide</td>\n",
              "      <td>0</td>\n",
              "      <td>sandwich food orgi idk got think veggietal por...</td>\n",
              "      <td>10</td>\n",
              "    </tr>\n",
              "    <tr>\n",
              "      <th>13</th>\n",
              "      <td>Not being old enough to have a job SUCKS Your ...</td>\n",
              "      <td>non-suicide</td>\n",
              "      <td>0</td>\n",
              "      <td>old enough job suck stuck poor till old enough...</td>\n",
              "      <td>14</td>\n",
              "    </tr>\n",
              "    <tr>\n",
              "      <th>14</th>\n",
              "      <td>What is the best color to have led strip light...</td>\n",
              "      <td>non-suicide</td>\n",
              "      <td>0</td>\n",
              "      <td>best color led strip light set got new one won...</td>\n",
              "      <td>17</td>\n",
              "    </tr>\n",
              "  </tbody>\n",
              "</table>\n",
              "</div>"
            ],
            "text/plain": [
              "                                                 text        class  label  \\\n",
              "0   First day of new school year Please unlive me ...  non-suicide      0   \n",
              "1   Just cut off the dude that makes me wanna kill...  non-suicide      0   \n",
              "2   Would you put ketchup or barbecue sauce on fis...  non-suicide      0   \n",
              "3   bruh I gotta figure out how to stop getting bo...  non-suicide      0   \n",
              "4   I FUCKING HATE MY BRAIN The story about this i...  non-suicide      0   \n",
              "5   Anyone else just think that the concepts of ra...  non-suicide      0   \n",
              "6       you’re cute take the compliment and move on 🔫  non-suicide      0   \n",
              "7   Anyone wanna join a gc? Only 1 slot left. Llll...  non-suicide      0   \n",
              "8   7.5 hours Get ready. NNN is coming. Try not to...  non-suicide      0   \n",
              "9   I’m mad at my cup of noodles &gt;:( So I was p...  non-suicide      0   \n",
              "10  My lazy ass sister lost the dog and won’t even...  non-suicide      0   \n",
              "11  do u recognize me im pretty cool, sometimes I ...  non-suicide      0   \n",
              "12  What if sandwiches are just food orgy's ? Idk ...  non-suicide      0   \n",
              "13  Not being old enough to have a job SUCKS Your ...  non-suicide      0   \n",
              "14  What is the best color to have led strip light...  non-suicide      0   \n",
              "\n",
              "                                           clean_text  word_count  \n",
              "0   first day new school year plea unliv filler fi...          19  \n",
              "1   cut dude make wan na kill time happier biggest...          33  \n",
              "2   would put ketchup barbecu sauc fish would cons...          10  \n",
              "3   bruh got ta figur stop get bone everytim hear ...          15  \n",
              "4   fuck hate brain stori good dream good one fuck...          25  \n",
              "5   anyon el think concept race gender whole fuck ...          26  \n",
              "6                           cute take compliment move           4  \n",
              "7   anyon wan na join gc slot left lllllllllllllll...           8  \n",
              "8                     hour get readi nnn come tri die           7  \n",
              "9   mad cup noodl gt put paper back top noodl went...          23  \n",
              "10  lazi as sister lost dog even look last night p...          65  \n",
              "11  u recogn im pretti cool sometim make unfunni p...          21  \n",
              "12  sandwich food orgi idk got think veggietal por...          10  \n",
              "13  old enough job suck stuck poor till old enough...          14  \n",
              "14  best color led strip light set got new one won...          17  "
            ]
          },
          "execution_count": 36,
          "metadata": {},
          "output_type": "execute_result"
        }
      ],
      "source": [
        "dff.head(15)"
      ]
    },
    {
      "cell_type": "code",
      "execution_count": 37,
      "metadata": {
        "colab": {
          "base_uri": "https://localhost:8080/",
          "height": 824
        },
        "id": "rEpHKlMkg2fe",
        "outputId": "739fcecf-efdc-49af-b348-dab34965f096"
      },
      "outputs": [
        {
          "data": {
            "text/html": [
              "<div>\n",
              "<style scoped>\n",
              "    .dataframe tbody tr th:only-of-type {\n",
              "        vertical-align: middle;\n",
              "    }\n",
              "\n",
              "    .dataframe tbody tr th {\n",
              "        vertical-align: top;\n",
              "    }\n",
              "\n",
              "    .dataframe thead th {\n",
              "        text-align: right;\n",
              "    }\n",
              "</style>\n",
              "<table border=\"1\" class=\"dataframe\">\n",
              "  <thead>\n",
              "    <tr style=\"text-align: right;\">\n",
              "      <th></th>\n",
              "      <th>text</th>\n",
              "      <th>class</th>\n",
              "      <th>label</th>\n",
              "      <th>clean_text</th>\n",
              "      <th>word_count</th>\n",
              "    </tr>\n",
              "  </thead>\n",
              "  <tbody>\n",
              "    <tr>\n",
              "      <th>6985</th>\n",
              "      <td>Planning it, but hurt right nowI dont really h...</td>\n",
              "      <td>suicide</td>\n",
              "      <td>1</td>\n",
              "      <td>plan hurt right nowi dont realli anyon el talk...</td>\n",
              "      <td>94</td>\n",
              "    </tr>\n",
              "    <tr>\n",
              "      <th>6986</th>\n",
              "      <td>I Have Tried So HardI am 23 years old and I ha...</td>\n",
              "      <td>suicide</td>\n",
              "      <td>1</td>\n",
              "      <td>tri hardi year old suicid sinc probabl longer ...</td>\n",
              "      <td>55</td>\n",
              "    </tr>\n",
              "    <tr>\n",
              "      <th>6987</th>\n",
              "      <td>I feel terribleUsually i have so many thoughts...</td>\n",
              "      <td>suicide</td>\n",
              "      <td>1</td>\n",
              "      <td>feel terribleusu mani thought nt even know wri...</td>\n",
              "      <td>111</td>\n",
              "    </tr>\n",
              "    <tr>\n",
              "      <th>6988</th>\n",
              "      <td>Need advice pleaseThis is the fourth time rewr...</td>\n",
              "      <td>suicide</td>\n",
              "      <td>1</td>\n",
              "      <td>need advic pleasethi fourth time rewrit sorri ...</td>\n",
              "      <td>194</td>\n",
              "    </tr>\n",
              "    <tr>\n",
              "      <th>6989</th>\n",
              "      <td>I need to get to Wednesday, please helpI made ...</td>\n",
              "      <td>suicide</td>\n",
              "      <td>1</td>\n",
              "      <td>need get wednesday plea helpi made promis psyc...</td>\n",
              "      <td>71</td>\n",
              "    </tr>\n",
              "    <tr>\n",
              "      <th>6990</th>\n",
              "      <td>I need someone to talk to...I was abused by my...</td>\n",
              "      <td>suicide</td>\n",
              "      <td>1</td>\n",
              "      <td>need someon talk toi abus mother father grow m...</td>\n",
              "      <td>185</td>\n",
              "    </tr>\n",
              "    <tr>\n",
              "      <th>6991</th>\n",
              "      <td>feeling badhello guys,i feel pretty helpless a...</td>\n",
              "      <td>suicide</td>\n",
              "      <td>1</td>\n",
              "      <td>feel badhello guysi feel pretti helpless momen...</td>\n",
              "      <td>197</td>\n",
              "    </tr>\n",
              "    <tr>\n",
              "      <th>6992</th>\n",
              "      <td>I asked two friends for help. One doesnt want ...</td>\n",
              "      <td>suicide</td>\n",
              "      <td>1</td>\n",
              "      <td>ask two friend help one doesnt want talk lefti...</td>\n",
              "      <td>14</td>\n",
              "    </tr>\n",
              "    <tr>\n",
              "      <th>6993</th>\n",
              "      <td>I don’t know what to doSorry for the long ramb...</td>\n",
              "      <td>suicide</td>\n",
              "      <td>1</td>\n",
              "      <td>know dosorri long rambl post know start strugg...</td>\n",
              "      <td>138</td>\n",
              "    </tr>\n",
              "    <tr>\n",
              "      <th>6994</th>\n",
              "      <td>spiraling depressionSo I have had the feeling ...</td>\n",
              "      <td>suicide</td>\n",
              "      <td>1</td>\n",
              "      <td>spiral depressionso feel thing ever get wors r...</td>\n",
              "      <td>37</td>\n",
              "    </tr>\n",
              "    <tr>\n",
              "      <th>6995</th>\n",
              "      <td>I just want to be goneI have a good life I gue...</td>\n",
              "      <td>suicide</td>\n",
              "      <td>1</td>\n",
              "      <td>want gonei good life guess realli tire fed giv...</td>\n",
              "      <td>17</td>\n",
              "    </tr>\n",
              "    <tr>\n",
              "      <th>6996</th>\n",
              "      <td>Even though I can laugh, I don't feel anything...</td>\n",
              "      <td>suicide</td>\n",
              "      <td>1</td>\n",
              "      <td>even though laugh nt feel anythingi know year ...</td>\n",
              "      <td>206</td>\n",
              "    </tr>\n",
              "    <tr>\n",
              "      <th>6997</th>\n",
              "      <td>I ordered heroin to od onnot sure why I'm sayi...</td>\n",
              "      <td>suicide</td>\n",
              "      <td>1</td>\n",
              "      <td>order heroin od onnot sure say guess know stro...</td>\n",
              "      <td>41</td>\n",
              "    </tr>\n",
              "    <tr>\n",
              "      <th>6998</th>\n",
              "      <td>Please Help MeI can't go on like this anymore....</td>\n",
              "      <td>suicide</td>\n",
              "      <td>1</td>\n",
              "      <td>plea help mei ca nt go like anymor wait sinc e...</td>\n",
              "      <td>47</td>\n",
              "    </tr>\n",
              "    <tr>\n",
              "      <th>6999</th>\n",
              "      <td>I'm getting scared for my best friendShe told ...</td>\n",
              "      <td>suicide</td>\n",
              "      <td>1</td>\n",
              "      <td>get scare best friendsh told show anybodi need...</td>\n",
              "      <td>82</td>\n",
              "    </tr>\n",
              "  </tbody>\n",
              "</table>\n",
              "</div>"
            ],
            "text/plain": [
              "                                                   text    class  label  \\\n",
              "6985  Planning it, but hurt right nowI dont really h...  suicide      1   \n",
              "6986  I Have Tried So HardI am 23 years old and I ha...  suicide      1   \n",
              "6987  I feel terribleUsually i have so many thoughts...  suicide      1   \n",
              "6988  Need advice pleaseThis is the fourth time rewr...  suicide      1   \n",
              "6989  I need to get to Wednesday, please helpI made ...  suicide      1   \n",
              "6990  I need someone to talk to...I was abused by my...  suicide      1   \n",
              "6991  feeling badhello guys,i feel pretty helpless a...  suicide      1   \n",
              "6992  I asked two friends for help. One doesnt want ...  suicide      1   \n",
              "6993  I don’t know what to doSorry for the long ramb...  suicide      1   \n",
              "6994  spiraling depressionSo I have had the feeling ...  suicide      1   \n",
              "6995  I just want to be goneI have a good life I gue...  suicide      1   \n",
              "6996  Even though I can laugh, I don't feel anything...  suicide      1   \n",
              "6997  I ordered heroin to od onnot sure why I'm sayi...  suicide      1   \n",
              "6998  Please Help MeI can't go on like this anymore....  suicide      1   \n",
              "6999  I'm getting scared for my best friendShe told ...  suicide      1   \n",
              "\n",
              "                                             clean_text  word_count  \n",
              "6985  plan hurt right nowi dont realli anyon el talk...          94  \n",
              "6986  tri hardi year old suicid sinc probabl longer ...          55  \n",
              "6987  feel terribleusu mani thought nt even know wri...         111  \n",
              "6988  need advic pleasethi fourth time rewrit sorri ...         194  \n",
              "6989  need get wednesday plea helpi made promis psyc...          71  \n",
              "6990  need someon talk toi abus mother father grow m...         185  \n",
              "6991  feel badhello guysi feel pretti helpless momen...         197  \n",
              "6992  ask two friend help one doesnt want talk lefti...          14  \n",
              "6993  know dosorri long rambl post know start strugg...         138  \n",
              "6994  spiral depressionso feel thing ever get wors r...          37  \n",
              "6995  want gonei good life guess realli tire fed giv...          17  \n",
              "6996  even though laugh nt feel anythingi know year ...         206  \n",
              "6997  order heroin od onnot sure say guess know stro...          41  \n",
              "6998  plea help mei ca nt go like anymor wait sinc e...          47  \n",
              "6999  get scare best friendsh told show anybodi need...          82  "
            ]
          },
          "execution_count": 37,
          "metadata": {},
          "output_type": "execute_result"
        }
      ],
      "source": [
        "dff.tail(15)"
      ]
    },
    {
      "cell_type": "code",
      "execution_count": 38,
      "metadata": {
        "colab": {
          "base_uri": "https://localhost:8080/",
          "height": 446
        },
        "id": "2Sjx0_zGhETa",
        "outputId": "22a02e65-c3ad-4a61-8cfa-d420a1e06e21"
      },
      "outputs": [
        {
          "data": {
            "image/png": "[encoded data removed]",
            "text/plain": [
              "<Figure size 576x432 with 1 Axes>"
            ]
          },
          "metadata": {},
          "output_type": "display_data"
        }
      ],
      "source": [
        "sns.displot(data = dff, x = dff.word_count[ df['label'] == 1 ], bins=400, color='coral')\n",
        "plt.gcf().set_size_inches(8, 6)\n",
        "\n",
        "plt.xlim(0, 400)\n",
        "plt.title('Sentence length of socidal comments')\n",
        "plt.xlabel('Sentence length')\n",
        "plt.ylabel('Frequency');"
      ]
    },
    {
      "cell_type": "code",
      "execution_count": 40,
      "metadata": {
        "colab": {
          "base_uri": "https://localhost:8080/",
          "height": 444
        },
        "id": "OYeSnFSijAhr",
        "outputId": "aca3e9c1-ebad-434c-bfd3-b8629c49e308"
      },
      "outputs": [
        {
          "data": {
            "image/png": "[encoded data removed]",
            "text/plain": [
              "<Figure size 576x432 with 1 Axes>"
            ]
          },
          "metadata": {},
          "output_type": "display_data"
        }
      ],
      "source": [
        "sns.displot(data = dff, x = dff.word_count[ dff['label'] == 0 ], bins=400, color='coral')\n",
        "plt.gcf().set_size_inches(8, 6)\n",
        "\n",
        "plt.xlim(0, 150)\n",
        "plt.title('Sentence length of non-socidal comments')\n",
        "plt.xlabel('Sentence Length')\n",
        "plt.ylabel('Frequency');"
      ]
    },
    {
      "cell_type": "code",
      "execution_count": 39,
      "metadata": {
        "colab": {
          "base_uri": "https://localhost:8080/"
        },
        "id": "82k1IrLCfC5I",
        "outputId": "5abf2218-0c8e-4375-bf14-3fc85a544f91"
      },
      "outputs": [
        {
          "data": {
            "text/plain": [
              "text          0\n",
              "class         0\n",
              "label         0\n",
              "clean_text    0\n",
              "word_count    0\n",
              "dtype: int64"
            ]
          },
          "execution_count": 39,
          "metadata": {},
          "output_type": "execute_result"
        }
      ],
      "source": [
        "dff.isna().sum()"
      ]
    },
    {
      "cell_type": "code",
      "execution_count": 40,
      "metadata": {
        "id": "GNzJdpCUfJcp"
      },
      "outputs": [],
      "source": [
        "X = dff['clean_text']\n",
        "Y = dff['label'].values"
      ]
    },
    {
      "cell_type": "code",
      "execution_count": 41,
      "metadata": {
        "colab": {
          "base_uri": "https://localhost:8080/"
        },
        "id": "q7ti9ZxKfOXq",
        "outputId": "a64bb0aa-596c-4d68-ca7d-f09a6c8d5032"
      },
      "outputs": [
        {
          "data": {
            "text/plain": [
              "((7000,), (7000,))"
            ]
          },
          "execution_count": 41,
          "metadata": {},
          "output_type": "execute_result"
        }
      ],
      "source": [
        "X.shape, Y.shape"
      ]
    },
    {
      "cell_type": "code",
      "execution_count": 72,
      "metadata": {
        "id": "P7zG0iSqfcLF"
      },
      "outputs": [
        {
          "ename": "ModuleNotFoundError",
          "evalue": "No module named 'tensorflow'",
          "output_type": "error",
          "traceback": [
            "\u001b[1;31m---------------------------------------------------------------------------\u001b[0m",
            "\u001b[1;31mModuleNotFoundError\u001b[0m                       Traceback (most recent call last)",
            "\u001b[1;32m~\\AppData\\Local\\Temp/ipykernel_3720/2707140272.py\u001b[0m in \u001b[0;36m<module>\u001b[1;34m\u001b[0m\n\u001b[1;32m----> 1\u001b[1;33m \u001b[1;32mfrom\u001b[0m \u001b[0mtensorflow\u001b[0m \u001b[1;32mimport\u001b[0m \u001b[0mkeras\u001b[0m\u001b[1;33m\u001b[0m\u001b[1;33m\u001b[0m\u001b[0m\n\u001b[0m\u001b[0;32m      2\u001b[0m \u001b[1;32mfrom\u001b[0m \u001b[0mtensorflow\u001b[0m\u001b[1;33m.\u001b[0m\u001b[0mkeras\u001b[0m\u001b[1;33m.\u001b[0m\u001b[0mpreprocessing\u001b[0m \u001b[1;32mimport\u001b[0m \u001b[0mtext\u001b[0m\u001b[1;33m,\u001b[0m \u001b[0msequence\u001b[0m\u001b[1;33m\u001b[0m\u001b[1;33m\u001b[0m\u001b[0m\n\u001b[0;32m      3\u001b[0m \u001b[1;32mfrom\u001b[0m \u001b[0mnltk\u001b[0m\u001b[1;33m.\u001b[0m\u001b[0mtokenize\u001b[0m \u001b[1;32mimport\u001b[0m \u001b[0mword_tokenize\u001b[0m\u001b[1;33m\u001b[0m\u001b[1;33m\u001b[0m\u001b[0m\n\u001b[0;32m      4\u001b[0m \u001b[1;32mfrom\u001b[0m \u001b[0mgensim\u001b[0m\u001b[1;33m.\u001b[0m\u001b[0mmodels\u001b[0m \u001b[1;32mimport\u001b[0m \u001b[0mWord2Vec\u001b[0m\u001b[1;33m\u001b[0m\u001b[1;33m\u001b[0m\u001b[0m\n\u001b[0;32m      5\u001b[0m \u001b[1;32mfrom\u001b[0m \u001b[0mkeras\u001b[0m \u001b[1;32mimport\u001b[0m \u001b[0mbackend\u001b[0m \u001b[1;32mas\u001b[0m \u001b[0mK\u001b[0m\u001b[1;33m\u001b[0m\u001b[1;33m\u001b[0m\u001b[0m\n",
            "\u001b[1;31mModuleNotFoundError\u001b[0m: No module named 'tensorflow'"
          ]
        }
      ],
      "source": [
        "from tensorflow import keras\n",
        "from tensorflow.keras.preprocessing import text, sequence\n",
        "from nltk.tokenize import word_tokenize\n",
        "from gensim.models import Word2Vec\n",
        "from keras import backend as K\n",
        "import os\n",
        "from tensorflow.keras.preprocessing.text import Tokenizer\n",
        "from tensorflow.keras.preprocessing.sequence import pad_sequences\n",
        "from keras.models import Sequential\n",
        "from keras.layers import Dense, Embedding, LSTM, Dropout, Flatten, Conv1D, GlobalMaxPooling1D, MaxPooling1D, SpatialDropout1D, GRU, Bidirectional\n",
        "from tensorflow.keras.layers import Embedding\n",
        "from keras.initializers import Constant\n",
        "from keras.callbacks import ModelCheckpoint\n",
        "from keras.models import load_model\n",
        "from sklearn.metrics import classification_report\n",
        "from sklearn.metrics import classification_report, confusion_matrix, accuracy_score, roc_curve, auc, roc_auc_score\n",
        "from sklearn.feature_extraction.text import TfidfVectorizer\n",
        "from sklearn.model_selection import train_test_split"
      ]
    },
    {
      "cell_type": "code",
      "execution_count": 48,
      "metadata": {
        "id": "xV2Zg6b2fkgP"
      },
      "outputs": [],
      "source": [
        "def sequence_text(\n",
        "                  clean_text: pd.Series, \n",
        "                  label: pd.Series, \n",
        "                  max_sen_length: int = 60, \n",
        "                  padding: str = 'post'):\n",
        "\n",
        "  sentences = []\n",
        "  tokenizer = Tokenizer()\n",
        "  lines = clean_text.values.tolist()\n",
        "\n",
        "  # looping through the column and tokenize the word\n",
        "  for line in lines :\n",
        "    tokens = word_tokenize(line)\n",
        "    sentences.append(tokens)\n",
        "\n",
        "  # sequences\n",
        "  tokenizer.fit_on_texts(sentences)\n",
        "  sequences = tokenizer.texts_to_sequences(sentences)\n",
        "  padded_sentence = pad_sequences(sequences, maxlen = max_sen_length, padding = padding)\n",
        "\n",
        "  # shuffling X, Y\n",
        "  indices = np.arange(padded_sentence.shape[0])\n",
        "  np.random.shuffle(indices)\n",
        "\n",
        "  # assinging feature and target \n",
        "  X = padded_sentence[indices]\n",
        "  Y = label[indices]\n",
        "  \n",
        "  prepocessing_data = {\n",
        "      'X': X,\n",
        "      'Y': Y,\n",
        "      'sentences': sentences,\n",
        "      'tokenizer': tokenizer\n",
        "  } \n",
        "\n",
        "  return prepocessing_data"
      ]
    },
    {
      "cell_type": "code",
      "execution_count": 49,
      "metadata": {
        "id": "XWelPCRjflvL"
      },
      "outputs": [
        {
          "ename": "NameError",
          "evalue": "name 'Tokenizer' is not defined",
          "output_type": "error",
          "traceback": [
            "\u001b[1;31m---------------------------------------------------------------------------\u001b[0m",
            "\u001b[1;31mNameError\u001b[0m                                 Traceback (most recent call last)",
            "\u001b[1;32m~\\AppData\\Local\\Temp/ipykernel_3244/1377958833.py\u001b[0m in \u001b[0;36m<module>\u001b[1;34m\u001b[0m\n\u001b[1;32m----> 1\u001b[1;33m \u001b[0mdata\u001b[0m \u001b[1;33m=\u001b[0m \u001b[0msequence_text\u001b[0m\u001b[1;33m(\u001b[0m\u001b[0mdff\u001b[0m\u001b[1;33m[\u001b[0m\u001b[1;34m'clean_text'\u001b[0m\u001b[1;33m]\u001b[0m\u001b[1;33m,\u001b[0m \u001b[0mdff\u001b[0m\u001b[1;33m.\u001b[0m\u001b[0mlabel\u001b[0m\u001b[1;33m)\u001b[0m\u001b[1;33m\u001b[0m\u001b[1;33m\u001b[0m\u001b[0m\n\u001b[0m",
            "\u001b[1;32m~\\AppData\\Local\\Temp/ipykernel_3244/405277684.py\u001b[0m in \u001b[0;36msequence_text\u001b[1;34m(clean_text, label, max_sen_length, padding)\u001b[0m\n\u001b[0;32m      6\u001b[0m \u001b[1;33m\u001b[0m\u001b[0m\n\u001b[0;32m      7\u001b[0m   \u001b[0msentences\u001b[0m \u001b[1;33m=\u001b[0m \u001b[1;33m[\u001b[0m\u001b[1;33m]\u001b[0m\u001b[1;33m\u001b[0m\u001b[1;33m\u001b[0m\u001b[0m\n\u001b[1;32m----> 8\u001b[1;33m   \u001b[0mtokenizer\u001b[0m \u001b[1;33m=\u001b[0m \u001b[0mTokenizer\u001b[0m\u001b[1;33m(\u001b[0m\u001b[1;33m)\u001b[0m\u001b[1;33m\u001b[0m\u001b[1;33m\u001b[0m\u001b[0m\n\u001b[0m\u001b[0;32m      9\u001b[0m   \u001b[0mlines\u001b[0m \u001b[1;33m=\u001b[0m \u001b[0mclean_text\u001b[0m\u001b[1;33m.\u001b[0m\u001b[0mvalues\u001b[0m\u001b[1;33m.\u001b[0m\u001b[0mtolist\u001b[0m\u001b[1;33m(\u001b[0m\u001b[1;33m)\u001b[0m\u001b[1;33m\u001b[0m\u001b[1;33m\u001b[0m\u001b[0m\n\u001b[0;32m     10\u001b[0m \u001b[1;33m\u001b[0m\u001b[0m\n",
            "\u001b[1;31mNameError\u001b[0m: name 'Tokenizer' is not defined"
          ]
        }
      ],
      "source": [
        "data = sequence_text(dff['clean_text'], dff.label)"
      ]
    },
    {
      "cell_type": "code",
      "execution_count": 57,
      "metadata": {
        "colab": {
          "base_uri": "https://localhost:8080/"
        },
        "id": "opXCtlAGfoo-",
        "outputId": "b5c025f4-cd94-4504-b55b-c075ff92787d"
      },
      "outputs": [
        {
          "ename": "KeyError",
          "evalue": "'X'",
          "output_type": "error",
          "traceback": [
            "\u001b[1;31m---------------------------------------------------------------------------\u001b[0m",
            "\u001b[1;31mKeyError\u001b[0m                                  Traceback (most recent call last)",
            "\u001b[1;32mc:\\Users\\DELL\\anaconda3\\lib\\site-packages\\pandas\\core\\indexes\\base.py\u001b[0m in \u001b[0;36mget_loc\u001b[1;34m(self, key, method, tolerance)\u001b[0m\n\u001b[0;32m   3360\u001b[0m             \u001b[1;32mtry\u001b[0m\u001b[1;33m:\u001b[0m\u001b[1;33m\u001b[0m\u001b[1;33m\u001b[0m\u001b[0m\n\u001b[1;32m-> 3361\u001b[1;33m                 \u001b[1;32mreturn\u001b[0m \u001b[0mself\u001b[0m\u001b[1;33m.\u001b[0m\u001b[0m_engine\u001b[0m\u001b[1;33m.\u001b[0m\u001b[0mget_loc\u001b[0m\u001b[1;33m(\u001b[0m\u001b[0mcasted_key\u001b[0m\u001b[1;33m)\u001b[0m\u001b[1;33m\u001b[0m\u001b[1;33m\u001b[0m\u001b[0m\n\u001b[0m\u001b[0;32m   3362\u001b[0m             \u001b[1;32mexcept\u001b[0m \u001b[0mKeyError\u001b[0m \u001b[1;32mas\u001b[0m \u001b[0merr\u001b[0m\u001b[1;33m:\u001b[0m\u001b[1;33m\u001b[0m\u001b[1;33m\u001b[0m\u001b[0m\n",
            "\u001b[1;32mc:\\Users\\DELL\\anaconda3\\lib\\site-packages\\pandas\\_libs\\index.pyx\u001b[0m in \u001b[0;36mpandas._libs.index.IndexEngine.get_loc\u001b[1;34m()\u001b[0m\n",
            "\u001b[1;32mc:\\Users\\DELL\\anaconda3\\lib\\site-packages\\pandas\\_libs\\index.pyx\u001b[0m in \u001b[0;36mpandas._libs.index.IndexEngine.get_loc\u001b[1;34m()\u001b[0m\n",
            "\u001b[1;32mpandas\\_libs\\hashtable_class_helper.pxi\u001b[0m in \u001b[0;36mpandas._libs.hashtable.PyObjectHashTable.get_item\u001b[1;34m()\u001b[0m\n",
            "\u001b[1;32mpandas\\_libs\\hashtable_class_helper.pxi\u001b[0m in \u001b[0;36mpandas._libs.hashtable.PyObjectHashTable.get_item\u001b[1;34m()\u001b[0m\n",
            "\u001b[1;31mKeyError\u001b[0m: 'X'",
            "\nThe above exception was the direct cause of the following exception:\n",
            "\u001b[1;31mKeyError\u001b[0m                                  Traceback (most recent call last)",
            "\u001b[1;32m~\\AppData\\Local\\Temp/ipykernel_3720/2152054397.py\u001b[0m in \u001b[0;36m<module>\u001b[1;34m\u001b[0m\n\u001b[1;32m----> 1\u001b[1;33m \u001b[0mdata\u001b[0m\u001b[1;33m[\u001b[0m\u001b[1;34m'X'\u001b[0m\u001b[1;33m]\u001b[0m\u001b[1;33m.\u001b[0m\u001b[0mshape\u001b[0m\u001b[1;33m,\u001b[0m \u001b[0mdata\u001b[0m\u001b[1;33m[\u001b[0m\u001b[1;34m'Y'\u001b[0m\u001b[1;33m]\u001b[0m\u001b[1;33m.\u001b[0m\u001b[0mshape\u001b[0m\u001b[1;33m\u001b[0m\u001b[1;33m\u001b[0m\u001b[0m\n\u001b[0m",
            "\u001b[1;32mc:\\Users\\DELL\\anaconda3\\lib\\site-packages\\pandas\\core\\frame.py\u001b[0m in \u001b[0;36m__getitem__\u001b[1;34m(self, key)\u001b[0m\n\u001b[0;32m   3456\u001b[0m             \u001b[1;32mif\u001b[0m \u001b[0mself\u001b[0m\u001b[1;33m.\u001b[0m\u001b[0mcolumns\u001b[0m\u001b[1;33m.\u001b[0m\u001b[0mnlevels\u001b[0m \u001b[1;33m>\u001b[0m \u001b[1;36m1\u001b[0m\u001b[1;33m:\u001b[0m\u001b[1;33m\u001b[0m\u001b[1;33m\u001b[0m\u001b[0m\n\u001b[0;32m   3457\u001b[0m                 \u001b[1;32mreturn\u001b[0m \u001b[0mself\u001b[0m\u001b[1;33m.\u001b[0m\u001b[0m_getitem_multilevel\u001b[0m\u001b[1;33m(\u001b[0m\u001b[0mkey\u001b[0m\u001b[1;33m)\u001b[0m\u001b[1;33m\u001b[0m\u001b[1;33m\u001b[0m\u001b[0m\n\u001b[1;32m-> 3458\u001b[1;33m             \u001b[0mindexer\u001b[0m \u001b[1;33m=\u001b[0m \u001b[0mself\u001b[0m\u001b[1;33m.\u001b[0m\u001b[0mcolumns\u001b[0m\u001b[1;33m.\u001b[0m\u001b[0mget_loc\u001b[0m\u001b[1;33m(\u001b[0m\u001b[0mkey\u001b[0m\u001b[1;33m)\u001b[0m\u001b[1;33m\u001b[0m\u001b[1;33m\u001b[0m\u001b[0m\n\u001b[0m\u001b[0;32m   3459\u001b[0m             \u001b[1;32mif\u001b[0m \u001b[0mis_integer\u001b[0m\u001b[1;33m(\u001b[0m\u001b[0mindexer\u001b[0m\u001b[1;33m)\u001b[0m\u001b[1;33m:\u001b[0m\u001b[1;33m\u001b[0m\u001b[1;33m\u001b[0m\u001b[0m\n\u001b[0;32m   3460\u001b[0m                 \u001b[0mindexer\u001b[0m \u001b[1;33m=\u001b[0m \u001b[1;33m[\u001b[0m\u001b[0mindexer\u001b[0m\u001b[1;33m]\u001b[0m\u001b[1;33m\u001b[0m\u001b[1;33m\u001b[0m\u001b[0m\n",
            "\u001b[1;32mc:\\Users\\DELL\\anaconda3\\lib\\site-packages\\pandas\\core\\indexes\\base.py\u001b[0m in \u001b[0;36mget_loc\u001b[1;34m(self, key, method, tolerance)\u001b[0m\n\u001b[0;32m   3361\u001b[0m                 \u001b[1;32mreturn\u001b[0m \u001b[0mself\u001b[0m\u001b[1;33m.\u001b[0m\u001b[0m_engine\u001b[0m\u001b[1;33m.\u001b[0m\u001b[0mget_loc\u001b[0m\u001b[1;33m(\u001b[0m\u001b[0mcasted_key\u001b[0m\u001b[1;33m)\u001b[0m\u001b[1;33m\u001b[0m\u001b[1;33m\u001b[0m\u001b[0m\n\u001b[0;32m   3362\u001b[0m             \u001b[1;32mexcept\u001b[0m \u001b[0mKeyError\u001b[0m \u001b[1;32mas\u001b[0m \u001b[0merr\u001b[0m\u001b[1;33m:\u001b[0m\u001b[1;33m\u001b[0m\u001b[1;33m\u001b[0m\u001b[0m\n\u001b[1;32m-> 3363\u001b[1;33m                 \u001b[1;32mraise\u001b[0m \u001b[0mKeyError\u001b[0m\u001b[1;33m(\u001b[0m\u001b[0mkey\u001b[0m\u001b[1;33m)\u001b[0m \u001b[1;32mfrom\u001b[0m \u001b[0merr\u001b[0m\u001b[1;33m\u001b[0m\u001b[1;33m\u001b[0m\u001b[0m\n\u001b[0m\u001b[0;32m   3364\u001b[0m \u001b[1;33m\u001b[0m\u001b[0m\n\u001b[0;32m   3365\u001b[0m         \u001b[1;32mif\u001b[0m \u001b[0mis_scalar\u001b[0m\u001b[1;33m(\u001b[0m\u001b[0mkey\u001b[0m\u001b[1;33m)\u001b[0m \u001b[1;32mand\u001b[0m \u001b[0misna\u001b[0m\u001b[1;33m(\u001b[0m\u001b[0mkey\u001b[0m\u001b[1;33m)\u001b[0m \u001b[1;32mand\u001b[0m \u001b[1;32mnot\u001b[0m \u001b[0mself\u001b[0m\u001b[1;33m.\u001b[0m\u001b[0mhasnans\u001b[0m\u001b[1;33m:\u001b[0m\u001b[1;33m\u001b[0m\u001b[1;33m\u001b[0m\u001b[0m\n",
            "\u001b[1;31mKeyError\u001b[0m: 'X'"
          ]
        }
      ],
      "source": [
        "data['X'].shape, data['Y'].shape"
      ]
    },
    {
      "cell_type": "code",
      "execution_count": 58,
      "metadata": {
        "colab": {
          "base_uri": "https://localhost:8080/"
        },
        "id": "t0MhgqzVfste",
        "outputId": "d4c76327-d195-4c08-c66a-5ff65ed2fd18"
      },
      "outputs": [
        {
          "data": {
            "text/plain": [
              "Index(['Unnamed: 0', 'text', 'class'], dtype='object')"
            ]
          },
          "execution_count": 58,
          "metadata": {},
          "output_type": "execute_result"
        }
      ],
      "source": [
        "data.keys()"
      ]
    },
    {
      "cell_type": "code",
      "execution_count": 59,
      "metadata": {
        "id": "oJ1ojgwmfvao"
      },
      "outputs": [],
      "source": [
        "MAX_SEN_LENGHT = 60\n",
        "EMBEDDING_DIM = 100"
      ]
    },
    {
      "cell_type": "code",
      "execution_count": 60,
      "metadata": {
        "id": "j8FVcILhfz5D"
      },
      "outputs": [
        {
          "ename": "NameError",
          "evalue": "name 'Word2Vec' is not defined",
          "output_type": "error",
          "traceback": [
            "\u001b[1;31m---------------------------------------------------------------------------\u001b[0m",
            "\u001b[1;31mNameError\u001b[0m                                 Traceback (most recent call last)",
            "\u001b[1;32m~\\AppData\\Local\\Temp/ipykernel_3720/1221832907.py\u001b[0m in \u001b[0;36m<module>\u001b[1;34m\u001b[0m\n\u001b[0;32m      1\u001b[0m \u001b[1;31m# training word embedding model\u001b[0m\u001b[1;33m\u001b[0m\u001b[1;33m\u001b[0m\u001b[0m\n\u001b[0;32m      2\u001b[0m \u001b[1;33m\u001b[0m\u001b[0m\n\u001b[1;32m----> 3\u001b[1;33m model_wv = Word2Vec(sentences = data['sentences'], \n\u001b[0m\u001b[0;32m      4\u001b[0m                                   \u001b[0mvector_size\u001b[0m\u001b[1;33m=\u001b[0m\u001b[1;36m100\u001b[0m\u001b[1;33m,\u001b[0m\u001b[1;33m\u001b[0m\u001b[1;33m\u001b[0m\u001b[0m\n\u001b[0;32m      5\u001b[0m                                   \u001b[0mworkers\u001b[0m\u001b[1;33m=\u001b[0m\u001b[1;36m4\u001b[0m\u001b[1;33m,\u001b[0m\u001b[1;33m\u001b[0m\u001b[1;33m\u001b[0m\u001b[0m\n",
            "\u001b[1;31mNameError\u001b[0m: name 'Word2Vec' is not defined"
          ]
        }
      ],
      "source": [
        "# training word embedding model\n",
        "\n",
        "model_wv = Word2Vec(sentences = data['sentences'], \n",
        "                                  vector_size=100, \n",
        "                                  workers=4, \n",
        "                                  sg=1, \n",
        "                                  epochs=10) #sg= 1:skip-gram 0:cbow\n",
        "                                  "
      ]
    },
    {
      "cell_type": "code",
      "execution_count": 61,
      "metadata": {
        "colab": {
          "base_uri": "https://localhost:8080/"
        },
        "id": "2_EsBqL4f6ld",
        "outputId": "6ab07297-6626-4b10-d7d3-5fb0789dcdc9"
      },
      "outputs": [
        {
          "ename": "NameError",
          "evalue": "name 'model_wv' is not defined",
          "output_type": "error",
          "traceback": [
            "\u001b[1;31m---------------------------------------------------------------------------\u001b[0m",
            "\u001b[1;31mNameError\u001b[0m                                 Traceback (most recent call last)",
            "\u001b[1;32m~\\AppData\\Local\\Temp/ipykernel_3720/1280695101.py\u001b[0m in \u001b[0;36m<module>\u001b[1;34m\u001b[0m\n\u001b[1;32m----> 1\u001b[1;33m \u001b[0mmodel_wv\u001b[0m\u001b[1;33m.\u001b[0m\u001b[0mwv\u001b[0m\u001b[1;33m.\u001b[0m\u001b[0mmost_similar\u001b[0m\u001b[1;33m(\u001b[0m\u001b[1;34m'miss'\u001b[0m\u001b[1;33m)\u001b[0m\u001b[1;33m\u001b[0m\u001b[1;33m\u001b[0m\u001b[0m\n\u001b[0m",
            "\u001b[1;31mNameError\u001b[0m: name 'model_wv' is not defined"
          ]
        }
      ],
      "source": [
        "model_wv.wv.most_similar('miss')"
      ]
    },
    {
      "cell_type": "code",
      "execution_count": 62,
      "metadata": {
        "id": "rf8aGGTLf-Oi"
      },
      "outputs": [
        {
          "ename": "NameError",
          "evalue": "name 'model_wv' is not defined",
          "output_type": "error",
          "traceback": [
            "\u001b[1;31m---------------------------------------------------------------------------\u001b[0m",
            "\u001b[1;31mNameError\u001b[0m                                 Traceback (most recent call last)",
            "\u001b[1;32m~\\AppData\\Local\\Temp/ipykernel_3720/1929959825.py\u001b[0m in \u001b[0;36m<module>\u001b[1;34m\u001b[0m\n\u001b[0;32m      1\u001b[0m \u001b[0mfilename\u001b[0m \u001b[1;33m=\u001b[0m \u001b[1;34m\"suicidal_taught_word2vec.txt\"\u001b[0m\u001b[1;33m\u001b[0m\u001b[1;33m\u001b[0m\u001b[0m\n\u001b[1;32m----> 2\u001b[1;33m \u001b[0mmodel_wv\u001b[0m\u001b[1;33m.\u001b[0m\u001b[0mwv\u001b[0m\u001b[1;33m.\u001b[0m\u001b[0msave_word2vec_format\u001b[0m\u001b[1;33m(\u001b[0m\u001b[0mfilename\u001b[0m\u001b[1;33m,\u001b[0m \u001b[0mbinary\u001b[0m\u001b[1;33m=\u001b[0m\u001b[1;32mFalse\u001b[0m\u001b[1;33m)\u001b[0m\u001b[1;33m\u001b[0m\u001b[1;33m\u001b[0m\u001b[0m\n\u001b[0m",
            "\u001b[1;31mNameError\u001b[0m: name 'model_wv' is not defined"
          ]
        }
      ],
      "source": [
        "filename = \"suicidal_taught_word2vec.txt\"\n",
        "model_wv.wv.save_word2vec_format(filename, binary=False)"
      ]
    },
    {
      "cell_type": "code",
      "execution_count": 64,
      "metadata": {
        "id": "DKCLUzaogBLm"
      },
      "outputs": [
        {
          "ename": "NameError",
          "evalue": "name 'os' is not defined",
          "output_type": "error",
          "traceback": [
            "\u001b[1;31m---------------------------------------------------------------------------\u001b[0m",
            "\u001b[1;31mNameError\u001b[0m                                 Traceback (most recent call last)",
            "\u001b[1;32m~\\AppData\\Local\\Temp/ipykernel_3720/4227142262.py\u001b[0m in \u001b[0;36m<module>\u001b[1;34m\u001b[0m\n\u001b[0;32m      1\u001b[0m \u001b[0membedding_index\u001b[0m \u001b[1;33m=\u001b[0m \u001b[1;33m{\u001b[0m\u001b[1;33m}\u001b[0m\u001b[1;33m\u001b[0m\u001b[1;33m\u001b[0m\u001b[0m\n\u001b[1;32m----> 2\u001b[1;33m \u001b[1;32mwith\u001b[0m \u001b[0mopen\u001b[0m\u001b[1;33m(\u001b[0m\u001b[0mos\u001b[0m\u001b[1;33m.\u001b[0m\u001b[0mpath\u001b[0m\u001b[1;33m.\u001b[0m\u001b[0mjoin\u001b[0m\u001b[1;33m(\u001b[0m\u001b[1;34m''\u001b[0m\u001b[1;33m,\u001b[0m \u001b[1;34m'suicidal_taught_word2vec.txt'\u001b[0m\u001b[1;33m)\u001b[0m\u001b[1;33m,\u001b[0m  \u001b[0mencoding\u001b[0m \u001b[1;33m=\u001b[0m \u001b[1;34m\"utf-8\"\u001b[0m\u001b[1;33m)\u001b[0m \u001b[1;32mas\u001b[0m \u001b[0mf\u001b[0m\u001b[1;33m:\u001b[0m\u001b[1;33m\u001b[0m\u001b[1;33m\u001b[0m\u001b[0m\n\u001b[0m\u001b[0;32m      3\u001b[0m   \u001b[1;32mfor\u001b[0m \u001b[0mline\u001b[0m \u001b[1;32min\u001b[0m \u001b[0mf\u001b[0m\u001b[1;33m:\u001b[0m\u001b[1;33m\u001b[0m\u001b[1;33m\u001b[0m\u001b[0m\n\u001b[0;32m      4\u001b[0m       \u001b[0mvalues\u001b[0m \u001b[1;33m=\u001b[0m \u001b[0mline\u001b[0m\u001b[1;33m.\u001b[0m\u001b[0msplit\u001b[0m\u001b[1;33m(\u001b[0m\u001b[1;33m)\u001b[0m\u001b[1;33m\u001b[0m\u001b[1;33m\u001b[0m\u001b[0m\n\u001b[0;32m      5\u001b[0m       \u001b[0mword\u001b[0m \u001b[1;33m=\u001b[0m \u001b[0mvalues\u001b[0m\u001b[1;33m[\u001b[0m\u001b[1;36m0\u001b[0m\u001b[1;33m]\u001b[0m\u001b[1;33m\u001b[0m\u001b[1;33m\u001b[0m\u001b[0m\n",
            "\u001b[1;31mNameError\u001b[0m: name 'os' is not defined"
          ]
        }
      ],
      "source": [
        "embedding_index = {}\n",
        "with open(os.path.join('', 'suicidal_taught_word2vec.txt'),  encoding = \"utf-8\") as f:\n",
        "  for line in f:\n",
        "      values = line.split()\n",
        "      word = values[0]\n",
        "      coeff = np.asarray(values[1:], dtype='float32')\n",
        "      embedding_index[word] = coeff\n",
        "\n",
        "embedding_matrix = np.zeros((len(data['tokenizer'].word_index) + 1, EMBEDDING_DIM))\n",
        "for word, i in data['tokenizer'].word_index.items():\n",
        "    embedding_vector = embedding_index.get(word)\n",
        "    if embedding_vector is not None:\n",
        "        embedding_matrix[i] = embedding_vector\n",
        "\n",
        "embedding_layer = Embedding(len(data['tokenizer'].word_index) + 1,\n",
        "                            EMBEDDING_DIM,\n",
        "                            weights=[embedding_matrix],\n",
        "                            input_length=MAX_SEN_LENGHT,\n",
        "                            trainable=False)"
      ]
    },
    {
      "cell_type": "code",
      "execution_count": 53,
      "metadata": {
        "id": "9v_mtxRegFDu"
      },
      "outputs": [],
      "source": [
        "# Spliting our Data into train and test\n",
        "xtrain, xtest, ytrain, ytest = train_test_split(data['X'], data['Y'], test_size=0.3, random_state=47) "
      ]
    },
    {
      "cell_type": "code",
      "execution_count": 54,
      "metadata": {
        "colab": {
          "base_uri": "https://localhost:8080/"
        },
        "id": "IpiKOKPDgIoN",
        "outputId": "1a213d02-0094-41eb-a7ae-95487822b31d"
      },
      "outputs": [
        {
          "data": {
            "text/plain": [
              "((4900, 60), (4900,))"
            ]
          },
          "execution_count": 54,
          "metadata": {},
          "output_type": "execute_result"
        }
      ],
      "source": [
        "# xtrain.shape , \n",
        "xtrain.shape, ytrain.shape"
      ]
    },
    {
      "cell_type": "code",
      "execution_count": 55,
      "metadata": {
        "id": "mgBLWx1wgLNJ"
      },
      "outputs": [],
      "source": [
        "# Creating this function for model validation\n",
        "\n",
        "def recall_m(y_true, y_pred):\n",
        "    true_positives = K.sum(K.round(K.clip(y_true * y_pred, 0, 1)))\n",
        "    possible_positives = K.sum(K.round(K.clip(y_true, 0, 1)))\n",
        "    recall = true_positives / (possible_positives + K.epsilon())\n",
        "    return recall\n",
        "\n",
        "def precision_m(y_true, y_pred):\n",
        "    true_positives = K.sum(K.round(K.clip(y_true * y_pred, 0, 1)))\n",
        "    predicted_positives = K.sum(K.round(K.clip(y_pred, 0, 1)))\n",
        "    precision = true_positives / (predicted_positives + K.epsilon())\n",
        "    return precision\n",
        "\n",
        "def f1_m(y_true, y_pred):\n",
        "    precision = precision_m(y_true, y_pred)\n",
        "    recall = recall_m(y_true, y_pred)\n",
        "    return 2*((precision*recall)/(precision+recall+K.epsilon()))"
      ]
    },
    {
      "cell_type": "code",
      "execution_count": 56,
      "metadata": {
        "id": "OE43YUyVgOXD"
      },
      "outputs": [],
      "source": [
        "import keras\n",
        "from keras.callbacks import EarlyStopping,ReduceLROnPlateau\n",
        "from tensorflow.keras import regularizers"
      ]
    },
    {
      "cell_type": "code",
      "execution_count": 57,
      "metadata": {
        "id": "M-ebzlHIgRYd"
      },
      "outputs": [],
      "source": [
        "early_stop = EarlyStopping(monitor='val_loss', patience=5)\n",
        "# reducelr = ReduceLROnPlateau(patience=5)"
      ]
    },
    {
      "cell_type": "code",
      "execution_count": 58,
      "metadata": {
        "colab": {
          "base_uri": "https://localhost:8080/"
        },
        "id": "nthaXzZugUkc",
        "outputId": "75ab9f8b-ff27-4b15-c1d4-6d675f9b342e"
      },
      "outputs": [
        {
          "name": "stdout",
          "output_type": "stream",
          "text": [
            "Epoch 1/20\n",
            "77/77 [==============================] - 4s 32ms/step - loss: 0.6155 - acc: 0.8318 - f1_m: 0.8302 - precision_m: 0.8480 - recall_m: 0.8237 - val_loss: 0.5015 - val_acc: 0.8676 - val_f1_m: 0.8695 - val_precision_m: 0.8240 - val_recall_m: 0.9228\n",
            "Epoch 2/20\n",
            "77/77 [==============================] - 2s 32ms/step - loss: 0.4298 - acc: 0.8988 - f1_m: 0.8986 - precision_m: 0.8997 - recall_m: 0.9015 - val_loss: 0.4398 - val_acc: 0.8914 - val_f1_m: 0.8799 - val_precision_m: 0.9241 - val_recall_m: 0.8422\n",
            "Epoch 3/20\n",
            "77/77 [==============================] - 2s 26ms/step - loss: 0.3531 - acc: 0.9216 - f1_m: 0.9206 - precision_m: 0.9295 - recall_m: 0.9143 - val_loss: 0.4316 - val_acc: 0.8857 - val_f1_m: 0.8750 - val_precision_m: 0.9080 - val_recall_m: 0.8479\n",
            "Epoch 4/20\n",
            "77/77 [==============================] - 2s 21ms/step - loss: 0.3050 - acc: 0.9359 - f1_m: 0.9353 - precision_m: 0.9438 - recall_m: 0.9290 - val_loss: 0.4317 - val_acc: 0.8843 - val_f1_m: 0.8816 - val_precision_m: 0.8582 - val_recall_m: 0.9101\n",
            "Epoch 5/20\n",
            "77/77 [==============================] - 2s 23ms/step - loss: 0.2879 - acc: 0.9414 - f1_m: 0.9405 - precision_m: 0.9471 - recall_m: 0.9373 - val_loss: 0.4606 - val_acc: 0.8852 - val_f1_m: 0.8825 - val_precision_m: 0.8620 - val_recall_m: 0.9074\n",
            "Epoch 6/20\n",
            "77/77 [==============================] - 2s 21ms/step - loss: 0.2797 - acc: 0.9443 - f1_m: 0.9436 - precision_m: 0.9510 - recall_m: 0.9384 - val_loss: 0.4638 - val_acc: 0.8857 - val_f1_m: 0.8840 - val_precision_m: 0.8648 - val_recall_m: 0.9069\n",
            "Epoch 7/20\n",
            "77/77 [==============================] - 2s 23ms/step - loss: 0.2586 - acc: 0.9516 - f1_m: 0.9506 - precision_m: 0.9540 - recall_m: 0.9487 - val_loss: 0.5015 - val_acc: 0.8905 - val_f1_m: 0.8892 - val_precision_m: 0.8624 - val_recall_m: 0.9205\n",
            "Epoch 8/20\n",
            "77/77 [==============================] - 2s 23ms/step - loss: 0.2569 - acc: 0.9518 - f1_m: 0.9505 - precision_m: 0.9560 - recall_m: 0.9468 - val_loss: 0.5345 - val_acc: 0.8790 - val_f1_m: 0.8777 - val_precision_m: 0.8436 - val_recall_m: 0.9167\n"
          ]
        }
      ],
      "source": [
        "dnn = Sequential()\n",
        "dnn.add(embedding_layer)\n",
        "dnn.add(Dropout(0.3))\n",
        "dnn.add(Flatten())\n",
        "dnn.add(Dense(128, activation='relu', kernel_regularizer = regularizers.l2(0.0010),\\\n",
        "                                 bias_regularizer = regularizers.l2(0.0010)))\n",
        "dnn.add(Dropout(0.3))\n",
        "dnn.add(Dense(64, activation='relu'))\n",
        "dnn.add(Dropout(0.3))\n",
        "# output layer\n",
        "dnn.add(Dense(1, activation='sigmoid'))\n",
        "\n",
        "# compile the model\n",
        "dnn.compile(optimizer='adam', loss='binary_crossentropy', metrics=['acc', f1_m, precision_m, recall_m]) #f1_m,precision_m, recall_m])\n",
        "\n",
        "# fit the model\n",
        "history_dnn = dnn.fit(xtrain, ytrain, validation_data=(xtest, ytest), epochs=20, verbose=1, batch_size=64, callbacks = [early_stop])\n"
      ]
    },
    {
      "cell_type": "code",
      "execution_count": 59,
      "metadata": {
        "colab": {
          "base_uri": "https://localhost:8080/"
        },
        "id": "fOFXVZIbgZGd",
        "outputId": "6ee25873-bfa5-45a9-e709-e2f428d87de4"
      },
      "outputs": [
        {
          "name": "stdout",
          "output_type": "stream",
          "text": [
            "66/66 [==============================] - 0s 6ms/step - loss: 0.5345 - acc: 0.8790 - f1_m: 0.8767 - precision_m: 0.8449 - recall_m: 0.9154\n"
          ]
        }
      ],
      "source": [
        "# evaluate the model\n",
        "loss_dnn, accuracy_dnn, f1_score_dnn, precision_dnn, recall_dnn = dnn.evaluate(xtest, ytest, verbose=1)"
      ]
    },
    {
      "cell_type": "code",
      "execution_count": 60,
      "metadata": {
        "colab": {
          "base_uri": "https://localhost:8080/",
          "height": 404
        },
        "id": "ODx0o7qDgcxk",
        "outputId": "dad4291b-8aed-4529-919a-bcceb204c63e"
      },
      "outputs": [
        {
          "data": {
            "image/png": "[encoded data removed]",
            "text/plain": [
              "<Figure size 576x432 with 1 Axes>"
            ]
          },
          "metadata": {},
          "output_type": "display_data"
        }
      ],
      "source": [
        "acc = history_dnn.history['acc']\n",
        "val_acc = history_dnn.history['val_acc']\n",
        "\n",
        "epochs = range(1, len(acc)+1)\n",
        "\n",
        "plt.figure(figsize=(8, 6))\n",
        "\n",
        "# plt.ylim(0.6, 0.90)\n",
        "plt.plot(epochs, acc, 'g', label='Training accuracy', )\n",
        "plt.plot(epochs, val_acc, 'r', label='Validation accuracy')\n",
        "plt.title(' Training vs Validation Curve (DNN)')\n",
        "plt.xlabel('Number of Epochs')\n",
        "plt.ylabel('Accuracy Score')\n",
        "plt.legend()\n",
        "plt.show()"
      ]
    },
    {
      "cell_type": "code",
      "execution_count": 61,
      "metadata": {
        "colab": {
          "base_uri": "https://localhost:8080/"
        },
        "id": "Q9yXwVOBggCc",
        "outputId": "35d92e2f-a5c3-4f76-996c-429478c85e4b"
      },
      "outputs": [
        {
          "name": "stdout",
          "output_type": "stream",
          "text": [
            "66/66 [==============================] - 0s 5ms/step\n"
          ]
        }
      ],
      "source": [
        "y_pred_d = dnn.predict(xtest)"
      ]
    },
    {
      "cell_type": "code",
      "execution_count": 62,
      "metadata": {
        "colab": {
          "base_uri": "https://localhost:8080/"
        },
        "id": "ngJAymr7gjWZ",
        "outputId": "d20272a9-663f-46e5-f9c1-a0b3895faf2b"
      },
      "outputs": [
        {
          "data": {
            "text/plain": [
              "(2100, 1)"
            ]
          },
          "execution_count": 62,
          "metadata": {},
          "output_type": "execute_result"
        }
      ],
      "source": [
        "y_pred_d.shape"
      ]
    },
    {
      "cell_type": "code",
      "execution_count": 63,
      "metadata": {
        "id": "TF8BdMs1gl7W"
      },
      "outputs": [],
      "source": [
        "y_pred_dnn = np.where(y_pred_d > .5, 1, 0)"
      ]
    },
    {
      "cell_type": "code",
      "execution_count": 64,
      "metadata": {
        "colab": {
          "base_uri": "https://localhost:8080/"
        },
        "id": "CrFLLHz8gpDZ",
        "outputId": "81691d9f-c2cc-49ca-c0bf-70b1e6c4322f"
      },
      "outputs": [
        {
          "data": {
            "text/plain": [
              "(2100, 1)"
            ]
          },
          "execution_count": 64,
          "metadata": {},
          "output_type": "execute_result"
        }
      ],
      "source": [
        "y_pred_dnn.shape"
      ]
    },
    {
      "cell_type": "code",
      "execution_count": 65,
      "metadata": {
        "colab": {
          "base_uri": "https://localhost:8080/",
          "height": 404
        },
        "id": "fAKpCOOAgsIs",
        "outputId": "f054a587-7fa8-4c48-c13c-bcb79d9b0fba"
      },
      "outputs": [
        {
          "data": {
            "image/png": "[encoded data removed]",
            "text/plain": [
              "<Figure size 576x432 with 2 Axes>"
            ]
          },
          "metadata": {},
          "output_type": "display_data"
        }
      ],
      "source": [
        "cf_matrix = confusion_matrix(ytest, y_pred_dnn)\n",
        "\n",
        "plt.figure(figsize=(8, 6))\n",
        "\n",
        "group_names = ['TN','FP','FN','TP']\n",
        "group_counts = ['{0:0.0f}'.format(value) for value in\n",
        "                cf_matrix.flatten()]\n",
        "group_percentages = ['{0:.2%}'.format(value) for value in\n",
        "                     cf_matrix.flatten()/np.sum(cf_matrix)]\n",
        "labels = [f'{v1}\\n{v2}\\n{v3}' for v1, v2, v3 in\n",
        "          zip(group_names,group_counts,group_percentages)]\n",
        "labels = np.asarray(labels).reshape(2,2)\n",
        "sns.heatmap(cf_matrix, annot=labels, fmt='', cmap='Blues')\n",
        "\n",
        "\n",
        "plt.title('Confusion Matrix of DNN')\n",
        "plt.xlabel(\"true label\")\n",
        "plt.ylabel(\"predicted label\")\n",
        "plt.savefig('DNN_conf_matrix', dpi=300)"
      ]
    },
    {
      "cell_type": "code",
      "execution_count": 66,
      "metadata": {
        "colab": {
          "base_uri": "https://localhost:8080/"
        },
        "id": "zzKFQn0ogwQS",
        "outputId": "4152f1dc-70f3-45d2-b527-901936f7c92b"
      },
      "outputs": [
        {
          "name": "stdout",
          "output_type": "stream",
          "text": [
            "Epoch 1/20\n",
            "77/77 [==============================] - 5s 44ms/step - loss: 0.6466 - acc: 0.7173 - f1_m: 0.7535 - precision_m: 0.7021 - recall_m: 0.8358 - val_loss: 0.3998 - val_acc: 0.8895 - val_f1_m: 0.8864 - val_precision_m: 0.8719 - val_recall_m: 0.9051\n",
            "Epoch 2/20\n",
            "77/77 [==============================] - 3s 40ms/step - loss: 0.3975 - acc: 0.8869 - f1_m: 0.8867 - precision_m: 0.8860 - recall_m: 0.8908 - val_loss: 0.3395 - val_acc: 0.9043 - val_f1_m: 0.8987 - val_precision_m: 0.9042 - val_recall_m: 0.8963\n",
            "Epoch 3/20\n",
            "77/77 [==============================] - 3s 39ms/step - loss: 0.3251 - acc: 0.9165 - f1_m: 0.9162 - precision_m: 0.9255 - recall_m: 0.9108 - val_loss: 0.3724 - val_acc: 0.8867 - val_f1_m: 0.8881 - val_precision_m: 0.8451 - val_recall_m: 0.9384\n",
            "Epoch 4/20\n",
            "77/77 [==============================] - 5s 62ms/step - loss: 0.2699 - acc: 0.9306 - f1_m: 0.9298 - precision_m: 0.9339 - recall_m: 0.9286 - val_loss: 0.3393 - val_acc: 0.9005 - val_f1_m: 0.8984 - val_precision_m: 0.8852 - val_recall_m: 0.9152\n",
            "Epoch 5/20\n",
            "77/77 [==============================] - 3s 39ms/step - loss: 0.2180 - acc: 0.9463 - f1_m: 0.9454 - precision_m: 0.9511 - recall_m: 0.9421 - val_loss: 0.3182 - val_acc: 0.9090 - val_f1_m: 0.9008 - val_precision_m: 0.9336 - val_recall_m: 0.8727\n",
            "Epoch 6/20\n",
            "77/77 [==============================] - 4s 48ms/step - loss: 0.1798 - acc: 0.9582 - f1_m: 0.9584 - precision_m: 0.9622 - recall_m: 0.9567 - val_loss: 0.3398 - val_acc: 0.9062 - val_f1_m: 0.9046 - val_precision_m: 0.8889 - val_recall_m: 0.9233\n",
            "Epoch 7/20\n",
            "77/77 [==============================] - 3s 40ms/step - loss: 0.1359 - acc: 0.9727 - f1_m: 0.9724 - precision_m: 0.9742 - recall_m: 0.9719 - val_loss: 0.3739 - val_acc: 0.8986 - val_f1_m: 0.8939 - val_precision_m: 0.8955 - val_recall_m: 0.8950\n",
            "Epoch 8/20\n",
            "77/77 [==============================] - 5s 63ms/step - loss: 0.1202 - acc: 0.9749 - f1_m: 0.9746 - precision_m: 0.9800 - recall_m: 0.9704 - val_loss: 0.3645 - val_acc: 0.9095 - val_f1_m: 0.9025 - val_precision_m: 0.9232 - val_recall_m: 0.8850\n",
            "Epoch 9/20\n",
            "77/77 [==============================] - 3s 36ms/step - loss: 0.1025 - acc: 0.9778 - f1_m: 0.9775 - precision_m: 0.9785 - recall_m: 0.9778 - val_loss: 0.3720 - val_acc: 0.9033 - val_f1_m: 0.8979 - val_precision_m: 0.9031 - val_recall_m: 0.8954\n",
            "Epoch 10/20\n",
            "77/77 [==============================] - 3s 37ms/step - loss: 0.0934 - acc: 0.9816 - f1_m: 0.9815 - precision_m: 0.9843 - recall_m: 0.9797 - val_loss: 0.3631 - val_acc: 0.9090 - val_f1_m: 0.9025 - val_precision_m: 0.9227 - val_recall_m: 0.8853\n"
          ]
        }
      ],
      "source": [
        "cnn = Sequential()\n",
        "cnn.add(embedding_layer) \n",
        "cnn.add(Conv1D(filters=128, kernel_size=5, padding='same', activation=\"relu\"))\n",
        "\n",
        "cnn.add(GlobalMaxPooling1D())\n",
        "cnn.add(Dropout(0.3))\n",
        "cnn.add(Dense(128, activation='relu', kernel_regularizer = regularizers.l2(0.0010),\\\n",
        "                                 bias_regularizer = regularizers.l2(0.0010)))\n",
        "# cnn.add(Dropout(0.3))\n",
        "# cnn.add(Dense(64, activation='relu'))\n",
        "cnn.add(Dropout(0.3))\n",
        "cnn.add(Dense(32, activation='relu'))\n",
        "cnn.add(Dropout(0.4))\n",
        "cnn.add(Dense(1, activation='sigmoid', kernel_regularizer = regularizers.l2(0.0002),\\\n",
        "                                 bias_regularizer = regularizers.l2(0.0002)))\n",
        "\n",
        "# compile the model\n",
        "cnn.compile(optimizer='adam', loss='binary_crossentropy', metrics=['acc', f1_m, precision_m, recall_m])\n",
        "\n",
        "# fit the model\n",
        "history_cnn = cnn.fit(xtrain, ytrain, validation_data=(xtest, ytest) , epochs=20, verbose=1, batch_size=64, callbacks=[early_stop])"
      ]
    },
    {
      "cell_type": "code",
      "execution_count": 67,
      "metadata": {
        "colab": {
          "base_uri": "https://localhost:8080/"
        },
        "id": "fT2vOaKPg0Oj",
        "outputId": "60f2e656-d45d-42e3-f217-81fdbd17e929"
      },
      "outputs": [
        {
          "name": "stdout",
          "output_type": "stream",
          "text": [
            "66/66 [==============================] - 1s 12ms/step - loss: 0.3631 - acc: 0.9090 - f1_m: 0.9007 - precision_m: 0.9223 - recall_m: 0.8854\n"
          ]
        }
      ],
      "source": [
        "# evaluate the model\n",
        "loss_cnn, accuracy_cnn, f1_score_cnn, precision_cnn, recall_cnn = cnn.evaluate(xtest, ytest, verbose=1)"
      ]
    },
    {
      "cell_type": "code",
      "execution_count": 68,
      "metadata": {
        "colab": {
          "base_uri": "https://localhost:8080/",
          "height": 404
        },
        "id": "qgXWNAg9g316",
        "outputId": "bb044939-8aed-491e-8678-2bf4d4be1d55"
      },
      "outputs": [
        {
          "data": {
            "image/png": "[encoded data removed]",
            "text/plain": [
              "<Figure size 576x432 with 1 Axes>"
            ]
          },
          "metadata": {},
          "output_type": "display_data"
        }
      ],
      "source": [
        "acc = history_cnn.history['acc']\n",
        "val_acc = history_cnn.history['val_acc']\n",
        "\n",
        "epochs = range(1, len(acc)+1)\n",
        "\n",
        "plt.figure(figsize=(8, 6))\n",
        "\n",
        "# plt.ylim(0.6, 0.90)\n",
        "plt.plot(epochs, acc, 'g', label='Training accuracy', )\n",
        "plt.plot(epochs, val_acc, 'r', label='Validation accuracy')\n",
        "plt.title(' Training vs Validation Curve (CNN)')\n",
        "plt.xlabel('Number of Epochs')\n",
        "plt.ylabel('Accuracy Score')\n",
        "plt.legend()\n",
        "plt.show()"
      ]
    },
    {
      "cell_type": "code",
      "execution_count": 69,
      "metadata": {
        "colab": {
          "base_uri": "https://localhost:8080/"
        },
        "id": "rUrQWqNzg6xO",
        "outputId": "c81d2fb4-3575-428d-a2ce-43b8aa3034df"
      },
      "outputs": [
        {
          "name": "stdout",
          "output_type": "stream",
          "text": [
            "66/66 [==============================] - 1s 7ms/step\n"
          ]
        }
      ],
      "source": [
        "y_pred_cnn = cnn.predict(xtest)\n",
        "y_pred_c = np.where(y_pred_cnn > .5, 1, 0)"
      ]
    },
    {
      "cell_type": "code",
      "execution_count": 70,
      "metadata": {
        "colab": {
          "base_uri": "https://localhost:8080/"
        },
        "id": "CLKLhReng-Hk",
        "outputId": "84e18b7e-ab67-4678-b722-dec36c9b8064"
      },
      "outputs": [
        {
          "data": {
            "text/plain": [
              "array([[2.9420392e-03],\n",
              "       [1.1841723e-03],\n",
              "       [9.9991572e-01],\n",
              "       ...,\n",
              "       [1.8522910e-04],\n",
              "       [9.9876285e-01],\n",
              "       [9.9385518e-01]], dtype=float32)"
            ]
          },
          "execution_count": 70,
          "metadata": {},
          "output_type": "execute_result"
        }
      ],
      "source": [
        "y_pred_cnn"
      ]
    },
    {
      "cell_type": "code",
      "execution_count": 71,
      "metadata": {
        "colab": {
          "base_uri": "https://localhost:8080/",
          "height": 404
        },
        "id": "0KCbjGYuhBe5",
        "outputId": "fa1faec5-6de7-4059-de6d-4f22e751a6ae"
      },
      "outputs": [
        {
          "data": {
            "image/png": "[encoded data removed]",
            "text/plain": [
              "<Figure size 576x432 with 2 Axes>"
            ]
          },
          "metadata": {},
          "output_type": "display_data"
        }
      ],
      "source": [
        "cf_matrix = confusion_matrix(ytest, y_pred_c)\n",
        "\n",
        "plt.figure(figsize=(8, 6))\n",
        "\n",
        "group_names = ['TN','FP','FN','TP']\n",
        "group_counts = ['{0:0.0f}'.format(value) for value in\n",
        "                cf_matrix.flatten()]\n",
        "group_percentages = ['{0:.2%}'.format(value) for value in\n",
        "                     cf_matrix.flatten()/np.sum(cf_matrix)]\n",
        "labels = [f'{v1}\\n{v2}\\n{v3}' for v1, v2, v3 in\n",
        "          zip(group_names,group_counts,group_percentages)]\n",
        "labels = np.asarray(labels).reshape(2,2)\n",
        "sns.heatmap(cf_matrix, annot=labels, fmt='', cmap='Blues')\n",
        "\n",
        "\n",
        "plt.title('Confusion Matrix of CNN')\n",
        "plt.xlabel(\"true label\")\n",
        "plt.ylabel(\"predicted label\")\n",
        "plt.savefig('CNN_conf_matrix', dpi=300)"
      ]
    },
    {
      "cell_type": "code",
      "execution_count": 72,
      "metadata": {
        "colab": {
          "base_uri": "https://localhost:8080/"
        },
        "id": "4athLTc2hEh9",
        "outputId": "fe7f65a4-d2b9-41f0-aaa9-dfe012eea43e"
      },
      "outputs": [
        {
          "name": "stdout",
          "output_type": "stream",
          "text": [
            "Epoch 1/20\n",
            "77/77 [==============================] - 25s 280ms/step - loss: 0.4230 - acc: 0.8633 - f1_m: 0.8655 - precision_m: 0.8714 - recall_m: 0.8684 - val_loss: 0.3307 - val_acc: 0.8981 - val_f1_m: 0.8886 - val_precision_m: 0.9206 - val_recall_m: 0.8624\n",
            "Epoch 2/20\n",
            "77/77 [==============================] - 21s 270ms/step - loss: 0.3222 - acc: 0.8996 - f1_m: 0.9002 - precision_m: 0.9057 - recall_m: 0.8985 - val_loss: 0.3010 - val_acc: 0.9043 - val_f1_m: 0.9000 - val_precision_m: 0.9012 - val_recall_m: 0.9016\n",
            "Epoch 3/20\n",
            "77/77 [==============================] - 20s 263ms/step - loss: 0.2846 - acc: 0.9092 - f1_m: 0.9080 - precision_m: 0.9121 - recall_m: 0.9070 - val_loss: 0.3123 - val_acc: 0.8881 - val_f1_m: 0.8847 - val_precision_m: 0.8701 - val_recall_m: 0.9032\n",
            "Epoch 4/20\n",
            "77/77 [==============================] - 22s 292ms/step - loss: 0.2794 - acc: 0.9073 - f1_m: 0.9079 - precision_m: 0.9134 - recall_m: 0.9071 - val_loss: 0.3022 - val_acc: 0.9019 - val_f1_m: 0.8993 - val_precision_m: 0.8843 - val_recall_m: 0.9179\n",
            "Epoch 5/20\n",
            "77/77 [==============================] - 20s 265ms/step - loss: 0.2615 - acc: 0.9157 - f1_m: 0.9145 - precision_m: 0.9136 - recall_m: 0.9184 - val_loss: 0.3060 - val_acc: 0.8943 - val_f1_m: 0.8823 - val_precision_m: 0.9335 - val_recall_m: 0.8396\n",
            "Epoch 6/20\n",
            "77/77 [==============================] - 22s 292ms/step - loss: 0.2533 - acc: 0.9202 - f1_m: 0.9197 - precision_m: 0.9240 - recall_m: 0.9192 - val_loss: 0.3021 - val_acc: 0.9029 - val_f1_m: 0.8935 - val_precision_m: 0.9288 - val_recall_m: 0.8638\n",
            "Epoch 7/20\n",
            "77/77 [==============================] - 20s 264ms/step - loss: 0.2493 - acc: 0.9173 - f1_m: 0.9161 - precision_m: 0.9217 - recall_m: 0.9148 - val_loss: 0.3263 - val_acc: 0.8957 - val_f1_m: 0.8946 - val_precision_m: 0.8655 - val_recall_m: 0.9297\n"
          ]
        }
      ],
      "source": [
        "model_LSTM = Sequential()\n",
        "model_LSTM.add(embedding_layer)                       \n",
        "model_LSTM.add(LSTM(128, dropout=0.2, recurrent_dropout=0.2, return_sequences=True,))                              \n",
        "model_LSTM.add(Flatten())\n",
        "model_LSTM.add(Dropout(0.4))\n",
        "model_LSTM.add(Dense(64, activation='relu', kernel_regularizer = regularizers.l2(0.0010),\\\n",
        "                                 bias_regularizer = regularizers.l2(0.0010)))\n",
        "model_LSTM.add(Dropout(0.3))\n",
        "model_LSTM.add(Dense(1, activation='sigmoid'))\n",
        "\n",
        "# compile the model\n",
        "model_LSTM.compile(optimizer='adam', loss='binary_crossentropy', metrics=['acc', f1_m, precision_m, recall_m])\n",
        "\n",
        "# fit the model\n",
        "history_lstm = model_LSTM.fit(xtrain, ytrain, validation_data=(xtest, ytest), epochs=20, verbose=1, batch_size=64, callbacks=[early_stop])"
      ]
    },
    {
      "cell_type": "code",
      "execution_count": 73,
      "metadata": {
        "colab": {
          "base_uri": "https://localhost:8080/"
        },
        "id": "jNtfwFEshIjg",
        "outputId": "dd1a6465-aa0b-459b-fc21-26d9edc9fee6"
      },
      "outputs": [
        {
          "name": "stdout",
          "output_type": "stream",
          "text": [
            "66/66 [==============================] - 3s 46ms/step - loss: 0.3263 - acc: 0.8957 - f1_m: 0.8940 - precision_m: 0.8669 - recall_m: 0.9291\n"
          ]
        }
      ],
      "source": [
        "# evaluate the model\n",
        "loss_lstm, accuracy_lstm, f1_score_lstm, precision_lstm, recall_lstm = model_LSTM.evaluate(xtest, ytest, verbose=1)"
      ]
    },
    {
      "cell_type": "code",
      "execution_count": 74,
      "metadata": {
        "colab": {
          "base_uri": "https://localhost:8080/",
          "height": 404
        },
        "id": "6UbPHGT1hMII",
        "outputId": "ee2ca080-a311-4429-e640-6fe742098a08"
      },
      "outputs": [
        {
          "data": {
            "image/png": "[encoded data removed]",
            "text/plain": [
              "<Figure size 576x432 with 1 Axes>"
            ]
          },
          "metadata": {},
          "output_type": "display_data"
        }
      ],
      "source": [
        "acc = history_dnn.history['f1_m']\n",
        "val_acc = history_dnn.history['val_f1_m']\n",
        "\n",
        "epochs = range(1, len(acc)+1)\n",
        "\n",
        "plt.figure(figsize=(8, 6))\n",
        "\n",
        "# plt.ylim(0.6, 0.90)\n",
        "plt.plot(epochs, acc, 'g', label='Training accuracy', )\n",
        "plt.plot(epochs, val_acc, 'r', label='Validation accuracy')\n",
        "plt.title(' Training vs Validation Curve (LSTM)')\n",
        "plt.xlabel('Number of Epochs')\n",
        "plt.ylabel('Accuracy Score')\n",
        "plt.legend()\n",
        "plt.show()"
      ]
    },
    {
      "cell_type": "code",
      "execution_count": 75,
      "metadata": {
        "colab": {
          "base_uri": "https://localhost:8080/"
        },
        "id": "Dy3EFb8thPWt",
        "outputId": "4801ede7-1fee-4819-d166-275e3f69a25c"
      },
      "outputs": [
        {
          "name": "stdout",
          "output_type": "stream",
          "text": [
            "66/66 [==============================] - 2s 31ms/step\n"
          ]
        }
      ],
      "source": [
        "y_pred_lstm = model_LSTM.predict(xtest)\n",
        "y_pred_l = np.where(y_pred_lstm > .5, 1, 0)"
      ]
    },
    {
      "cell_type": "code",
      "execution_count": 76,
      "metadata": {
        "colab": {
          "base_uri": "https://localhost:8080/",
          "height": 404
        },
        "id": "LPbLnZt3hSYe",
        "outputId": "7a2292fb-0879-4e0a-a184-675480ec56d3"
      },
      "outputs": [
        {
          "data": {
            "image/png": "[encoded data removed]",
            "text/plain": [
              "<Figure size 576x432 with 2 Axes>"
            ]
          },
          "metadata": {},
          "output_type": "display_data"
        }
      ],
      "source": [
        "cf_matrix = confusion_matrix(ytest, y_pred_l)\n",
        "\n",
        "plt.figure(figsize=(8, 6))\n",
        "\n",
        "group_names = ['TN','FP','FN','TP']\n",
        "group_counts = ['{0:0.0f}'.format(value) for value in\n",
        "                cf_matrix.flatten()]\n",
        "group_percentages = ['{0:.2%}'.format(value) for value in\n",
        "                     cf_matrix.flatten()/np.sum(cf_matrix)]\n",
        "labels = [f'{v1}\\n{v2}\\n{v3}' for v1, v2, v3 in\n",
        "          zip(group_names,group_counts,group_percentages)]\n",
        "labels = np.asarray(labels).reshape(2,2)\n",
        "sns.heatmap(cf_matrix, annot=labels, fmt='', cmap='Blues')\n",
        "\n",
        "\n",
        "plt.title('Confusion Matrix of LSTM')\n",
        "plt.xlabel(\"true label\")\n",
        "plt.ylabel(\"predicted label\")\n",
        "plt.savefig('LSTM_conf_matrix', dpi=300)"
      ]
    },
    {
      "cell_type": "code",
      "execution_count": 77,
      "metadata": {
        "colab": {
          "base_uri": "https://localhost:8080/"
        },
        "id": "7afAvHgBhWB8",
        "outputId": "8b8d79d5-812b-4df7-b92f-6e7fabfb93a1"
      },
      "outputs": [
        {
          "name": "stdout",
          "output_type": "stream",
          "text": [
            "Epoch 1/20\n",
            "77/77 [==============================] - 16s 169ms/step - loss: 0.4221 - acc: 0.8582 - f1_m: 0.8593 - precision_m: 0.8689 - recall_m: 0.8594 - val_loss: 0.3247 - val_acc: 0.9052 - val_f1_m: 0.8999 - val_precision_m: 0.9115 - val_recall_m: 0.8917\n",
            "Epoch 2/20\n",
            "77/77 [==============================] - 12s 162ms/step - loss: 0.3027 - acc: 0.9102 - f1_m: 0.9101 - precision_m: 0.9136 - recall_m: 0.9099 - val_loss: 0.3324 - val_acc: 0.8943 - val_f1_m: 0.8936 - val_precision_m: 0.8605 - val_recall_m: 0.9327\n",
            "Epoch 3/20\n",
            "77/77 [==============================] - 12s 154ms/step - loss: 0.2679 - acc: 0.9204 - f1_m: 0.9203 - precision_m: 0.9268 - recall_m: 0.9174 - val_loss: 0.2990 - val_acc: 0.9086 - val_f1_m: 0.9016 - val_precision_m: 0.9236 - val_recall_m: 0.8836\n",
            "Epoch 4/20\n",
            "77/77 [==============================] - 11s 142ms/step - loss: 0.2511 - acc: 0.9249 - f1_m: 0.9228 - precision_m: 0.9333 - recall_m: 0.9166 - val_loss: 0.3130 - val_acc: 0.9038 - val_f1_m: 0.8997 - val_precision_m: 0.8903 - val_recall_m: 0.9126\n",
            "Epoch 5/20\n",
            "77/77 [==============================] - 13s 163ms/step - loss: 0.2238 - acc: 0.9367 - f1_m: 0.9359 - precision_m: 0.9439 - recall_m: 0.9304 - val_loss: 0.3126 - val_acc: 0.9062 - val_f1_m: 0.9014 - val_precision_m: 0.9005 - val_recall_m: 0.9055\n",
            "Epoch 6/20\n",
            "77/77 [==============================] - 13s 164ms/step - loss: 0.2010 - acc: 0.9467 - f1_m: 0.9454 - precision_m: 0.9521 - recall_m: 0.9411 - val_loss: 0.3389 - val_acc: 0.8919 - val_f1_m: 0.8842 - val_precision_m: 0.9020 - val_recall_m: 0.8700\n",
            "Epoch 7/20\n",
            "77/77 [==============================] - 13s 164ms/step - loss: 0.1945 - acc: 0.9520 - f1_m: 0.9512 - precision_m: 0.9564 - recall_m: 0.9478 - val_loss: 0.3703 - val_acc: 0.8905 - val_f1_m: 0.8816 - val_precision_m: 0.9060 - val_recall_m: 0.8610\n",
            "Epoch 8/20\n",
            "77/77 [==============================] - 13s 164ms/step - loss: 0.1883 - acc: 0.9510 - f1_m: 0.9509 - precision_m: 0.9562 - recall_m: 0.9477 - val_loss: 0.3888 - val_acc: 0.8919 - val_f1_m: 0.8874 - val_precision_m: 0.8790 - val_recall_m: 0.8986\n"
          ]
        }
      ],
      "source": [
        "model_GRU = Sequential()\n",
        "model_GRU.add(embedding_layer)\n",
        "\n",
        "model_GRU.add(GRU(128, return_sequences=True))\n",
        "model_GRU.add(Dropout(0.3))  \n",
        "model_GRU.add(Flatten())\n",
        "model_GRU.add(Dense(64, activation='relu', kernel_regularizer = regularizers.l2(0.0010),\\\n",
        "                                 bias_regularizer = regularizers.l2(0.0010)))\n",
        "model_GRU.add(Dropout(0.4))\n",
        "model_GRU.add(Dense(1,activation='sigmoid'))\n",
        "\n",
        "# compile the model\n",
        "model_GRU.compile(optimizer='adam', loss='binary_crossentropy', metrics=['acc', f1_m, precision_m, recall_m])#f1_m,precision_m, recall_m])\n",
        "\n",
        "# fit the model\n",
        "history_gru = model_GRU.fit(xtrain, ytrain, validation_data=(xtest, ytest),epochs=20, verbose=1, batch_size=64, callbacks=[early_stop])"
      ]
    },
    {
      "cell_type": "code",
      "execution_count": 78,
      "metadata": {
        "colab": {
          "base_uri": "https://localhost:8080/"
        },
        "id": "8C5Tjie_hZu9",
        "outputId": "57185fea-134d-4d79-c4a9-bbe772d2c10b"
      },
      "outputs": [
        {
          "name": "stdout",
          "output_type": "stream",
          "text": [
            "66/66 [==============================] - 1s 21ms/step - loss: 0.3888 - acc: 0.8919 - f1_m: 0.8860 - precision_m: 0.8809 - recall_m: 0.8968\n"
          ]
        }
      ],
      "source": [
        "# evaluate the model\n",
        "loss_gru, accuracy_gru, f1_score_gru, precision_gru, recall_gru = model_GRU.evaluate(xtest, ytest, verbose=1)"
      ]
    },
    {
      "cell_type": "code",
      "execution_count": 79,
      "metadata": {
        "colab": {
          "base_uri": "https://localhost:8080/",
          "height": 404
        },
        "id": "mcM5TzpChdUz",
        "outputId": "35c87a74-c231-4d56-cb8f-8f7c999c1df1"
      },
      "outputs": [
        {
          "data": {
            "image/png": "[encoded data removed]",
            "text/plain": [
              "<Figure size 576x432 with 1 Axes>"
            ]
          },
          "metadata": {},
          "output_type": "display_data"
        }
      ],
      "source": [
        "acc = history_dnn.history['acc']\n",
        "val_acc = history_dnn.history['val_acc']\n",
        "\n",
        "epochs = range(1, len(acc)+1)\n",
        "\n",
        "plt.figure(figsize=(8, 6))\n",
        "\n",
        "# plt.ylim(0.6, 0.90)\n",
        "plt.plot(epochs, acc, 'g', label='Training accuracy', )\n",
        "plt.plot(epochs, val_acc, 'r', label='Validation accuracy')\n",
        "plt.title(' Training vs Validation Curve (GRU)')\n",
        "plt.xlabel('Number of Epochs')\n",
        "plt.ylabel('Accuracy Score')\n",
        "plt.legend()\n",
        "plt.show()"
      ]
    },
    {
      "cell_type": "code",
      "execution_count": 80,
      "metadata": {
        "colab": {
          "base_uri": "https://localhost:8080/"
        },
        "id": "EatQWF0MhgTj",
        "outputId": "d32fa06b-fe79-4fa4-b1f5-2def65170b2e"
      },
      "outputs": [
        {
          "name": "stdout",
          "output_type": "stream",
          "text": [
            "66/66 [==============================] - 3s 38ms/step\n"
          ]
        }
      ],
      "source": [
        "y_pred_gru = model_LSTM.predict(xtest)\n",
        "y_pred_g = np.where(y_pred_lstm > .5, 1, 0)"
      ]
    },
    {
      "cell_type": "code",
      "execution_count": 81,
      "metadata": {
        "colab": {
          "base_uri": "https://localhost:8080/",
          "height": 404
        },
        "id": "U7AFEX9BhjXJ",
        "outputId": "fe722a55-22ae-4aee-ca01-8c64e1082d92"
      },
      "outputs": [
        {
          "data": {
            "image/png": "[encoded data removed]",
            "text/plain": [
              "<Figure size 576x432 with 2 Axes>"
            ]
          },
          "metadata": {},
          "output_type": "display_data"
        }
      ],
      "source": [
        "cf_matrix = confusion_matrix(ytest, y_pred_g)\n",
        "\n",
        "plt.figure(figsize=(8, 6))\n",
        "\n",
        "group_names = ['TN','FP','FN','TP']\n",
        "group_counts = ['{0:0.0f}'.format(value) for value in\n",
        "                cf_matrix.flatten()]\n",
        "group_percentages = ['{0:.2%}'.format(value) for value in\n",
        "                     cf_matrix.flatten()/np.sum(cf_matrix)]\n",
        "labels = [f'{v1}\\n{v2}\\n{v3}' for v1, v2, v3 in\n",
        "          zip(group_names,group_counts,group_percentages)]\n",
        "labels = np.asarray(labels).reshape(2,2)\n",
        "sns.heatmap(cf_matrix, annot=labels, fmt='', cmap='Blues')\n",
        "\n",
        "\n",
        "plt.title('Confusion Matrix of GRU')\n",
        "plt.xlabel(\"true label\")\n",
        "plt.ylabel(\"predicted label\")\n",
        "plt.savefig('GRU_conf_matrix', dpi=300)"
      ]
    },
    {
      "cell_type": "code",
      "execution_count": 82,
      "metadata": {
        "colab": {
          "base_uri": "https://localhost:8080/"
        },
        "id": "Hvns1fh_hmTK",
        "outputId": "aebce344-dd3a-40a2-c963-5db08d85431c"
      },
      "outputs": [
        {
          "name": "stdout",
          "output_type": "stream",
          "text": [
            "66/66 [==============================] - 0s 3ms/step\n",
            "66/66 [==============================] - 1s 8ms/step\n",
            "66/66 [==============================] - 2s 27ms/step\n",
            "66/66 [==============================] - 2s 21ms/step\n"
          ]
        }
      ],
      "source": [
        "y_pred_dnn = dnn.predict(xtest)\n",
        "\n",
        "y_pred_cnn = cnn.predict(xtest)\n",
        "\n",
        "y_pred_lstm = model_LSTM.predict(xtest)\n",
        "\n",
        "y_pred_gru = model_GRU.predict(xtest)"
      ]
    },
    {
      "cell_type": "code",
      "execution_count": 83,
      "metadata": {
        "colab": {
          "base_uri": "https://localhost:8080/",
          "height": 555
        },
        "id": "LcnDqxTJhpzi",
        "outputId": "a7da5e75-9d71-45eb-d591-a9d9708f2582"
      },
      "outputs": [
        {
          "data": {
            "image/png": "[encoded data removed]",
            "text/plain": [
              "<Figure size 600x600 with 1 Axes>"
            ]
          },
          "metadata": {},
          "output_type": "display_data"
        }
      ],
      "source": [
        "# ROC curve of ML baseline models\n",
        "\n",
        "dnn_fpr, dnn_tpr, threshold = roc_curve(ytest, y_pred_dnn)\n",
        "auc_dnn = auc(dnn_fpr, dnn_tpr)\n",
        "\n",
        "cnn_fpr, cnn_tpr, threshold = roc_curve(ytest, y_pred_cnn)\n",
        "auc_cnn = auc(cnn_fpr, cnn_tpr)\n",
        "\n",
        "lstm_fpr, lstm_tpr, threshold = roc_curve(ytest, y_pred_lstm)\n",
        "auc_lstm = auc(lstm_fpr, lstm_tpr)\n",
        "\n",
        "gru_fpr, gru_tpr, threshold = roc_curve(ytest, y_pred_gru)\n",
        "auc_gru = auc(gru_fpr, gru_tpr)\n",
        "\n",
        "plt.figure(figsize=(6, 6), dpi=100)\n",
        "plt.plot(dnn_fpr, dnn_tpr, color='purple', linestyle='dotted', label='DNN (auc = %0.3f)' % auc_dnn)\n",
        "plt.plot(cnn_fpr, cnn_tpr, color='green', linestyle='solid', label='CNN (auc = %0.3f)' % auc_cnn)\n",
        "plt.plot(lstm_fpr, lstm_tpr, color='blue', linestyle='dashdot' , label='LSTM (auc = %0.3f)' % auc_lstm)\n",
        "plt.plot(gru_fpr, gru_tpr, linestyle='dotted' , color='red', label='GRU (auc = %0.3f)' % auc_gru)\n",
        "plt.plot([0, 1], [0, 1], color='grey',linestyle='--')\n",
        "\n",
        "plt.xlabel('False Positive Rate')\n",
        "plt.ylabel('True Positive Rate')\n",
        "\n",
        "plt.legend()\n",
        "plt.title('ROC Curve')\n",
        "plt.axis('tight')\n",
        "plt.legend(loc = 'lower right')\n",
        "plt.savefig('ROC-Curve', dpi=300)\n",
        "plt.show()"
      ]
    },
    {
      "cell_type": "code",
      "execution_count": 84,
      "metadata": {
        "id": "iMfrDws4huo7"
      },
      "outputs": [],
      "source": [
        "evaluation = {\n",
        "    \n",
        "    'models': ['DNN', 'CNN', 'LSTM', 'GRU'],\n",
        "    'scores': [accuracy_dnn, accuracy_cnn, accuracy_lstm, accuracy_gru]\n",
        "\n",
        "}"
      ]
    },
    {
      "cell_type": "code",
      "execution_count": 85,
      "metadata": {
        "colab": {
          "base_uri": "https://localhost:8080/"
        },
        "id": "LmgmZ0JOhzKJ",
        "outputId": "e76af715-c0f1-469d-d491-460aa6ebe353"
      },
      "outputs": [
        {
          "data": {
            "text/plain": [
              "[0.8790476322174072, 0.9090476036071777, 0.895714282989502, 0.8919047713279724]"
            ]
          },
          "execution_count": 85,
          "metadata": {},
          "output_type": "execute_result"
        }
      ],
      "source": [
        "evaluation['scores']"
      ]
    }
  ],
  "metadata": {
    "colab": {
      "provenance": []
    },
    "kernelspec": {
      "display_name": "Python 3",
      "name": "python3"
    },
    "language_info": {
      "codemirror_mode": {
        "name": "ipython",
        "version": 3
      },
      "file_extension": ".py",
      "mimetype": "text/x-python",
      "name": "python",
      "nbconvert_exporter": "python",
      "pygments_lexer": "ipython3",
      "version": "3.9.7"
    }
  },
  "nbformat": 4,
  "nbformat_minor": 0
}
