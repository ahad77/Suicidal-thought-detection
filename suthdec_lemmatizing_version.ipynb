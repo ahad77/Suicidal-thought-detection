{
  "cells": [
    {
      "cell_type": "code",
      "execution_count": 1,
      "metadata": {
        "colab": {
          "base_uri": "https://localhost:8080/"
        },
        "id": "4gfetNNSa-sZ",
        "outputId": "450eebfa-c001-412b-d36d-e2df9f7ace8c"
      },
      "outputs": [
        {
          "output_type": "stream",
          "name": "stdout",
          "text": [
            "Drive already mounted at /content/drive; to attempt to forcibly remount, call drive.mount(\"/content/drive\", force_remount=True).\n"
          ]
        }
      ],
      "source": [
        "from google.colab import drive\n",
        "drive.mount('/content/drive')"
      ]
    },
    {
      "cell_type": "code",
      "execution_count": 2,
      "metadata": {
        "id": "LbflMHYKFOLx"
      },
      "outputs": [],
      "source": [
        "import pandas as pd   \n",
        "import numpy as np    \n",
        "import matplotlib.pyplot as plt \n",
        "import seaborn as sns     \n",
        "sns.set_style('whitegrid')\n",
        "\n",
        "import re             \n",
        "import nltk           \n",
        "import string\n",
        "from nltk.tokenize import word_tokenize\n",
        "from nltk.corpus import stopwords\n",
        "from nltk.stem import WordNetLemmatizer"
      ]
    },
    {
      "cell_type": "code",
      "execution_count": 3,
      "metadata": {
        "colab": {
          "base_uri": "https://localhost:8080/"
        },
        "id": "CgGTOUWNLrDz",
        "outputId": "6189dfe0-90ab-4de3-eb26-2ba31a573dc1"
      },
      "outputs": [
        {
          "output_type": "stream",
          "name": "stderr",
          "text": [
            "[nltk_data] Downloading package punkt to /root/nltk_data...\n",
            "[nltk_data]   Unzipping tokenizers/punkt.zip.\n",
            "[nltk_data] Downloading package wordnet to /root/nltk_data...\n",
            "[nltk_data] Downloading package omw-1.4 to /root/nltk_data...\n",
            "[nltk_data] Downloading package stopwords to /root/nltk_data...\n",
            "[nltk_data]   Unzipping corpora/stopwords.zip.\n"
          ]
        },
        {
          "output_type": "execute_result",
          "data": {
            "text/plain": [
              "True"
            ]
          },
          "metadata": {},
          "execution_count": 3
        }
      ],
      "source": [
        "nltk.download('punkt')\n",
        "nltk.download('wordnet')\n",
        "nltk.download('omw-1.4')\n",
        "nltk.download('stopwords')"
      ]
    },
    {
      "cell_type": "code",
      "execution_count": 4,
      "metadata": {
        "id": "-Wvl49B7Mf5y"
      },
      "outputs": [],
      "source": [
        "data = pd.read_csv('/content/drive/MyDrive/Dataset_suthdet/Suicide_Detection.csv')"
      ]
    },
    {
      "cell_type": "code",
      "execution_count": 5,
      "metadata": {
        "id": "IPn2HfSKNxaM"
      },
      "outputs": [],
      "source": [
        "df = data"
      ]
    },
    {
      "cell_type": "code",
      "execution_count": 6,
      "metadata": {
        "colab": {
          "base_uri": "https://localhost:8080/"
        },
        "id": "mtlmPS-2YjTZ",
        "outputId": "44d9f043-5183-47b7-990b-a487a2b7b1f8"
      },
      "outputs": [
        {
          "output_type": "execute_result",
          "data": {
            "text/plain": [
              "140016800993088"
            ]
          },
          "metadata": {},
          "execution_count": 6
        }
      ],
      "source": [
        "id(df)"
      ]
    },
    {
      "cell_type": "code",
      "execution_count": 7,
      "metadata": {
        "colab": {
          "base_uri": "https://localhost:8080/"
        },
        "id": "lMgFLp7sYpR3",
        "outputId": "108d7eb9-2875-4c69-bf2f-2e5b2e281601"
      },
      "outputs": [
        {
          "output_type": "stream",
          "name": "stdout",
          "text": [
            "<class 'pandas.core.frame.DataFrame'>\n",
            "RangeIndex: 232074 entries, 0 to 232073\n",
            "Data columns (total 3 columns):\n",
            " #   Column      Non-Null Count   Dtype \n",
            "---  ------      --------------   ----- \n",
            " 0   Unnamed: 0  232074 non-null  int64 \n",
            " 1   text        232074 non-null  object\n",
            " 2   class       232074 non-null  object\n",
            "dtypes: int64(1), object(2)\n",
            "memory usage: 5.3+ MB\n"
          ]
        }
      ],
      "source": [
        "df.info()"
      ]
    },
    {
      "cell_type": "code",
      "execution_count": 8,
      "metadata": {
        "colab": {
          "base_uri": "https://localhost:8080/",
          "height": 300
        },
        "id": "vt2Cuj3zYxKv",
        "outputId": "2617d11c-032b-4a57-903d-d36f679e0dc6"
      },
      "outputs": [
        {
          "output_type": "execute_result",
          "data": {
            "text/plain": [
              "   Unnamed: 0                                               text        class\n",
              "0           2  Ex Wife Threatening SuicideRecently I left my ...      suicide\n",
              "1           3  Am I weird I don't get affected by compliments...  non-suicide\n",
              "2           4  Finally 2020 is almost over... So I can never ...  non-suicide\n",
              "3           8          i need helpjust help me im crying so hard      suicide\n",
              "4           9  I’m so lostHello, my name is Adam (16) and I’v...      suicide\n",
              "5          11  Honetly idkI dont know what im even doing here...      suicide\n",
              "6          12  [Trigger warning] Excuse for self inflicted bu...      suicide\n",
              "7          13   It ends tonight.I can’t do it anymore. \\nI quit.      suicide"
            ],
            "text/html": [
              "\n",
              "  <div id=\"df-9fa12173-7d2b-4d66-b498-44e5edd08cd8\">\n",
              "    <div class=\"colab-df-container\">\n",
              "      <div>\n",
              "<style scoped>\n",
              "    .dataframe tbody tr th:only-of-type {\n",
              "        vertical-align: middle;\n",
              "    }\n",
              "\n",
              "    .dataframe tbody tr th {\n",
              "        vertical-align: top;\n",
              "    }\n",
              "\n",
              "    .dataframe thead th {\n",
              "        text-align: right;\n",
              "    }\n",
              "</style>\n",
              "<table border=\"1\" class=\"dataframe\">\n",
              "  <thead>\n",
              "    <tr style=\"text-align: right;\">\n",
              "      <th></th>\n",
              "      <th>Unnamed: 0</th>\n",
              "      <th>text</th>\n",
              "      <th>class</th>\n",
              "    </tr>\n",
              "  </thead>\n",
              "  <tbody>\n",
              "    <tr>\n",
              "      <th>0</th>\n",
              "      <td>2</td>\n",
              "      <td>Ex Wife Threatening SuicideRecently I left my ...</td>\n",
              "      <td>suicide</td>\n",
              "    </tr>\n",
              "    <tr>\n",
              "      <th>1</th>\n",
              "      <td>3</td>\n",
              "      <td>Am I weird I don't get affected by compliments...</td>\n",
              "      <td>non-suicide</td>\n",
              "    </tr>\n",
              "    <tr>\n",
              "      <th>2</th>\n",
              "      <td>4</td>\n",
              "      <td>Finally 2020 is almost over... So I can never ...</td>\n",
              "      <td>non-suicide</td>\n",
              "    </tr>\n",
              "    <tr>\n",
              "      <th>3</th>\n",
              "      <td>8</td>\n",
              "      <td>i need helpjust help me im crying so hard</td>\n",
              "      <td>suicide</td>\n",
              "    </tr>\n",
              "    <tr>\n",
              "      <th>4</th>\n",
              "      <td>9</td>\n",
              "      <td>I’m so lostHello, my name is Adam (16) and I’v...</td>\n",
              "      <td>suicide</td>\n",
              "    </tr>\n",
              "    <tr>\n",
              "      <th>5</th>\n",
              "      <td>11</td>\n",
              "      <td>Honetly idkI dont know what im even doing here...</td>\n",
              "      <td>suicide</td>\n",
              "    </tr>\n",
              "    <tr>\n",
              "      <th>6</th>\n",
              "      <td>12</td>\n",
              "      <td>[Trigger warning] Excuse for self inflicted bu...</td>\n",
              "      <td>suicide</td>\n",
              "    </tr>\n",
              "    <tr>\n",
              "      <th>7</th>\n",
              "      <td>13</td>\n",
              "      <td>It ends tonight.I can’t do it anymore. \\nI quit.</td>\n",
              "      <td>suicide</td>\n",
              "    </tr>\n",
              "  </tbody>\n",
              "</table>\n",
              "</div>\n",
              "      <button class=\"colab-df-convert\" onclick=\"convertToInteractive('df-9fa12173-7d2b-4d66-b498-44e5edd08cd8')\"\n",
              "              title=\"Convert this dataframe to an interactive table.\"\n",
              "              style=\"display:none;\">\n",
              "        \n",
              "  <svg xmlns=\"http://www.w3.org/2000/svg\" height=\"24px\"viewBox=\"0 0 24 24\"\n",
              "       width=\"24px\">\n",
              "    <path d=\"M0 0h24v24H0V0z\" fill=\"none\"/>\n",
              "    <path d=\"M18.56 5.44l.94 2.06.94-2.06 2.06-.94-2.06-.94-.94-2.06-.94 2.06-2.06.94zm-11 1L8.5 8.5l.94-2.06 2.06-.94-2.06-.94L8.5 2.5l-.94 2.06-2.06.94zm10 10l.94 2.06.94-2.06 2.06-.94-2.06-.94-.94-2.06-.94 2.06-2.06.94z\"/><path d=\"M17.41 7.96l-1.37-1.37c-.4-.4-.92-.59-1.43-.59-.52 0-1.04.2-1.43.59L10.3 9.45l-7.72 7.72c-.78.78-.78 2.05 0 2.83L4 21.41c.39.39.9.59 1.41.59.51 0 1.02-.2 1.41-.59l7.78-7.78 2.81-2.81c.8-.78.8-2.07 0-2.86zM5.41 20L4 18.59l7.72-7.72 1.47 1.35L5.41 20z\"/>\n",
              "  </svg>\n",
              "      </button>\n",
              "      \n",
              "  <style>\n",
              "    .colab-df-container {\n",
              "      display:flex;\n",
              "      flex-wrap:wrap;\n",
              "      gap: 12px;\n",
              "    }\n",
              "\n",
              "    .colab-df-convert {\n",
              "      background-color: #E8F0FE;\n",
              "      border: none;\n",
              "      border-radius: 50%;\n",
              "      cursor: pointer;\n",
              "      display: none;\n",
              "      fill: #1967D2;\n",
              "      height: 32px;\n",
              "      padding: 0 0 0 0;\n",
              "      width: 32px;\n",
              "    }\n",
              "\n",
              "    .colab-df-convert:hover {\n",
              "      background-color: #E2EBFA;\n",
              "      box-shadow: 0px 1px 2px rgba(60, 64, 67, 0.3), 0px 1px 3px 1px rgba(60, 64, 67, 0.15);\n",
              "      fill: #174EA6;\n",
              "    }\n",
              "\n",
              "    [theme=dark] .colab-df-convert {\n",
              "      background-color: #3B4455;\n",
              "      fill: #D2E3FC;\n",
              "    }\n",
              "\n",
              "    [theme=dark] .colab-df-convert:hover {\n",
              "      background-color: #434B5C;\n",
              "      box-shadow: 0px 1px 3px 1px rgba(0, 0, 0, 0.15);\n",
              "      filter: drop-shadow(0px 1px 2px rgba(0, 0, 0, 0.3));\n",
              "      fill: #FFFFFF;\n",
              "    }\n",
              "  </style>\n",
              "\n",
              "      <script>\n",
              "        const buttonEl =\n",
              "          document.querySelector('#df-9fa12173-7d2b-4d66-b498-44e5edd08cd8 button.colab-df-convert');\n",
              "        buttonEl.style.display =\n",
              "          google.colab.kernel.accessAllowed ? 'block' : 'none';\n",
              "\n",
              "        async function convertToInteractive(key) {\n",
              "          const element = document.querySelector('#df-9fa12173-7d2b-4d66-b498-44e5edd08cd8');\n",
              "          const dataTable =\n",
              "            await google.colab.kernel.invokeFunction('convertToInteractive',\n",
              "                                                     [key], {});\n",
              "          if (!dataTable) return;\n",
              "\n",
              "          const docLinkHtml = 'Like what you see? Visit the ' +\n",
              "            '<a target=\"_blank\" href=https://colab.research.google.com/notebooks/data_table.ipynb>data table notebook</a>'\n",
              "            + ' to learn more about interactive tables.';\n",
              "          element.innerHTML = '';\n",
              "          dataTable['output_type'] = 'display_data';\n",
              "          await google.colab.output.renderOutput(dataTable, element);\n",
              "          const docLink = document.createElement('div');\n",
              "          docLink.innerHTML = docLinkHtml;\n",
              "          element.appendChild(docLink);\n",
              "        }\n",
              "      </script>\n",
              "    </div>\n",
              "  </div>\n",
              "  "
            ]
          },
          "metadata": {},
          "execution_count": 8
        }
      ],
      "source": [
        "df.head(8)"
      ]
    },
    {
      "cell_type": "code",
      "execution_count": 9,
      "metadata": {
        "colab": {
          "base_uri": "https://localhost:8080/",
          "height": 300
        },
        "id": "_cyQLjXAY1Kv",
        "outputId": "d8fdd9ac-f7be-4ac1-d7eb-d959c3fde4c5"
      },
      "outputs": [
        {
          "output_type": "execute_result",
          "data": {
            "text/plain": [
              "        Unnamed: 0                                               text  \\\n",
              "232066      348098  My mom tried to kill herself today. I feel los...   \n",
              "232067      348100  I’m a fucking scummy person and I can’t change...   \n",
              "232068      348101  I did something today I went sledding with my ...   \n",
              "232069      348103  If you don't like rock then your not going to ...   \n",
              "232070      348106  You how you can tell i have so many friends an...   \n",
              "232071      348107  pee probably tastes like salty tea😏💦‼️ can som...   \n",
              "232072      348108  The usual stuff you find hereI'm not posting t...   \n",
              "232073      348110  I still haven't beaten the first boss in Hollo...   \n",
              "\n",
              "              class  \n",
              "232066      suicide  \n",
              "232067      suicide  \n",
              "232068  non-suicide  \n",
              "232069  non-suicide  \n",
              "232070  non-suicide  \n",
              "232071  non-suicide  \n",
              "232072      suicide  \n",
              "232073  non-suicide  "
            ],
            "text/html": [
              "\n",
              "  <div id=\"df-0839466a-d654-407b-ba6a-238b3ff230d1\">\n",
              "    <div class=\"colab-df-container\">\n",
              "      <div>\n",
              "<style scoped>\n",
              "    .dataframe tbody tr th:only-of-type {\n",
              "        vertical-align: middle;\n",
              "    }\n",
              "\n",
              "    .dataframe tbody tr th {\n",
              "        vertical-align: top;\n",
              "    }\n",
              "\n",
              "    .dataframe thead th {\n",
              "        text-align: right;\n",
              "    }\n",
              "</style>\n",
              "<table border=\"1\" class=\"dataframe\">\n",
              "  <thead>\n",
              "    <tr style=\"text-align: right;\">\n",
              "      <th></th>\n",
              "      <th>Unnamed: 0</th>\n",
              "      <th>text</th>\n",
              "      <th>class</th>\n",
              "    </tr>\n",
              "  </thead>\n",
              "  <tbody>\n",
              "    <tr>\n",
              "      <th>232066</th>\n",
              "      <td>348098</td>\n",
              "      <td>My mom tried to kill herself today. I feel los...</td>\n",
              "      <td>suicide</td>\n",
              "    </tr>\n",
              "    <tr>\n",
              "      <th>232067</th>\n",
              "      <td>348100</td>\n",
              "      <td>I’m a fucking scummy person and I can’t change...</td>\n",
              "      <td>suicide</td>\n",
              "    </tr>\n",
              "    <tr>\n",
              "      <th>232068</th>\n",
              "      <td>348101</td>\n",
              "      <td>I did something today I went sledding with my ...</td>\n",
              "      <td>non-suicide</td>\n",
              "    </tr>\n",
              "    <tr>\n",
              "      <th>232069</th>\n",
              "      <td>348103</td>\n",
              "      <td>If you don't like rock then your not going to ...</td>\n",
              "      <td>non-suicide</td>\n",
              "    </tr>\n",
              "    <tr>\n",
              "      <th>232070</th>\n",
              "      <td>348106</td>\n",
              "      <td>You how you can tell i have so many friends an...</td>\n",
              "      <td>non-suicide</td>\n",
              "    </tr>\n",
              "    <tr>\n",
              "      <th>232071</th>\n",
              "      <td>348107</td>\n",
              "      <td>pee probably tastes like salty tea😏💦‼️ can som...</td>\n",
              "      <td>non-suicide</td>\n",
              "    </tr>\n",
              "    <tr>\n",
              "      <th>232072</th>\n",
              "      <td>348108</td>\n",
              "      <td>The usual stuff you find hereI'm not posting t...</td>\n",
              "      <td>suicide</td>\n",
              "    </tr>\n",
              "    <tr>\n",
              "      <th>232073</th>\n",
              "      <td>348110</td>\n",
              "      <td>I still haven't beaten the first boss in Hollo...</td>\n",
              "      <td>non-suicide</td>\n",
              "    </tr>\n",
              "  </tbody>\n",
              "</table>\n",
              "</div>\n",
              "      <button class=\"colab-df-convert\" onclick=\"convertToInteractive('df-0839466a-d654-407b-ba6a-238b3ff230d1')\"\n",
              "              title=\"Convert this dataframe to an interactive table.\"\n",
              "              style=\"display:none;\">\n",
              "        \n",
              "  <svg xmlns=\"http://www.w3.org/2000/svg\" height=\"24px\"viewBox=\"0 0 24 24\"\n",
              "       width=\"24px\">\n",
              "    <path d=\"M0 0h24v24H0V0z\" fill=\"none\"/>\n",
              "    <path d=\"M18.56 5.44l.94 2.06.94-2.06 2.06-.94-2.06-.94-.94-2.06-.94 2.06-2.06.94zm-11 1L8.5 8.5l.94-2.06 2.06-.94-2.06-.94L8.5 2.5l-.94 2.06-2.06.94zm10 10l.94 2.06.94-2.06 2.06-.94-2.06-.94-.94-2.06-.94 2.06-2.06.94z\"/><path d=\"M17.41 7.96l-1.37-1.37c-.4-.4-.92-.59-1.43-.59-.52 0-1.04.2-1.43.59L10.3 9.45l-7.72 7.72c-.78.78-.78 2.05 0 2.83L4 21.41c.39.39.9.59 1.41.59.51 0 1.02-.2 1.41-.59l7.78-7.78 2.81-2.81c.8-.78.8-2.07 0-2.86zM5.41 20L4 18.59l7.72-7.72 1.47 1.35L5.41 20z\"/>\n",
              "  </svg>\n",
              "      </button>\n",
              "      \n",
              "  <style>\n",
              "    .colab-df-container {\n",
              "      display:flex;\n",
              "      flex-wrap:wrap;\n",
              "      gap: 12px;\n",
              "    }\n",
              "\n",
              "    .colab-df-convert {\n",
              "      background-color: #E8F0FE;\n",
              "      border: none;\n",
              "      border-radius: 50%;\n",
              "      cursor: pointer;\n",
              "      display: none;\n",
              "      fill: #1967D2;\n",
              "      height: 32px;\n",
              "      padding: 0 0 0 0;\n",
              "      width: 32px;\n",
              "    }\n",
              "\n",
              "    .colab-df-convert:hover {\n",
              "      background-color: #E2EBFA;\n",
              "      box-shadow: 0px 1px 2px rgba(60, 64, 67, 0.3), 0px 1px 3px 1px rgba(60, 64, 67, 0.15);\n",
              "      fill: #174EA6;\n",
              "    }\n",
              "\n",
              "    [theme=dark] .colab-df-convert {\n",
              "      background-color: #3B4455;\n",
              "      fill: #D2E3FC;\n",
              "    }\n",
              "\n",
              "    [theme=dark] .colab-df-convert:hover {\n",
              "      background-color: #434B5C;\n",
              "      box-shadow: 0px 1px 3px 1px rgba(0, 0, 0, 0.15);\n",
              "      filter: drop-shadow(0px 1px 2px rgba(0, 0, 0, 0.3));\n",
              "      fill: #FFFFFF;\n",
              "    }\n",
              "  </style>\n",
              "\n",
              "      <script>\n",
              "        const buttonEl =\n",
              "          document.querySelector('#df-0839466a-d654-407b-ba6a-238b3ff230d1 button.colab-df-convert');\n",
              "        buttonEl.style.display =\n",
              "          google.colab.kernel.accessAllowed ? 'block' : 'none';\n",
              "\n",
              "        async function convertToInteractive(key) {\n",
              "          const element = document.querySelector('#df-0839466a-d654-407b-ba6a-238b3ff230d1');\n",
              "          const dataTable =\n",
              "            await google.colab.kernel.invokeFunction('convertToInteractive',\n",
              "                                                     [key], {});\n",
              "          if (!dataTable) return;\n",
              "\n",
              "          const docLinkHtml = 'Like what you see? Visit the ' +\n",
              "            '<a target=\"_blank\" href=https://colab.research.google.com/notebooks/data_table.ipynb>data table notebook</a>'\n",
              "            + ' to learn more about interactive tables.';\n",
              "          element.innerHTML = '';\n",
              "          dataTable['output_type'] = 'display_data';\n",
              "          await google.colab.output.renderOutput(dataTable, element);\n",
              "          const docLink = document.createElement('div');\n",
              "          docLink.innerHTML = docLinkHtml;\n",
              "          element.appendChild(docLink);\n",
              "        }\n",
              "      </script>\n",
              "    </div>\n",
              "  </div>\n",
              "  "
            ]
          },
          "metadata": {},
          "execution_count": 9
        }
      ],
      "source": [
        "df.tail(8)"
      ]
    },
    {
      "cell_type": "code",
      "execution_count": 10,
      "metadata": {
        "colab": {
          "base_uri": "https://localhost:8080/"
        },
        "id": "h075480DZ3rU",
        "outputId": "f0eb8c65-be57-4cb0-8114-ec89224bfc9a"
      },
      "outputs": [
        {
          "output_type": "execute_result",
          "data": {
            "text/plain": [
              "(232074, 3)"
            ]
          },
          "metadata": {},
          "execution_count": 10
        }
      ],
      "source": [
        "df.shape"
      ]
    },
    {
      "cell_type": "code",
      "execution_count": 11,
      "metadata": {
        "colab": {
          "base_uri": "https://localhost:8080/"
        },
        "id": "Cdd-5q9YY9_Q",
        "outputId": "a6783fb4-b0b3-4097-93a0-acf639cfc77f"
      },
      "outputs": [
        {
          "output_type": "execute_result",
          "data": {
            "text/plain": [
              "Index(['Unnamed: 0', 'text', 'class'], dtype='object')"
            ]
          },
          "metadata": {},
          "execution_count": 11
        }
      ],
      "source": [
        "df.columns"
      ]
    },
    {
      "cell_type": "code",
      "execution_count": 12,
      "metadata": {
        "colab": {
          "base_uri": "https://localhost:8080/"
        },
        "id": "RGigmHrmZEVI",
        "outputId": "72bf2a62-bd44-4b3f-eccc-7a419686e36f"
      },
      "outputs": [
        {
          "output_type": "stream",
          "name": "stderr",
          "text": [
            "<ipython-input-12-9ba57234f6cf>:1: FutureWarning: In a future version of pandas all arguments of DataFrame.drop except for the argument 'labels' will be keyword-only.\n",
            "  df= df.drop('Unnamed: 0',1)\n"
          ]
        }
      ],
      "source": [
        "df= df.drop('Unnamed: 0',1)"
      ]
    },
    {
      "cell_type": "code",
      "execution_count": 13,
      "metadata": {
        "colab": {
          "base_uri": "https://localhost:8080/",
          "height": 424
        },
        "id": "gdt7BL2iZXdI",
        "outputId": "af43fff2-3cb5-4231-c9ab-9829ec5e4eff"
      },
      "outputs": [
        {
          "output_type": "execute_result",
          "data": {
            "text/plain": [
              "                                                     text        class\n",
              "0       Ex Wife Threatening SuicideRecently I left my ...      suicide\n",
              "1       Am I weird I don't get affected by compliments...  non-suicide\n",
              "2       Finally 2020 is almost over... So I can never ...  non-suicide\n",
              "3               i need helpjust help me im crying so hard      suicide\n",
              "4       I’m so lostHello, my name is Adam (16) and I’v...      suicide\n",
              "...                                                   ...          ...\n",
              "232069  If you don't like rock then your not going to ...  non-suicide\n",
              "232070  You how you can tell i have so many friends an...  non-suicide\n",
              "232071  pee probably tastes like salty tea😏💦‼️ can som...  non-suicide\n",
              "232072  The usual stuff you find hereI'm not posting t...      suicide\n",
              "232073  I still haven't beaten the first boss in Hollo...  non-suicide\n",
              "\n",
              "[232074 rows x 2 columns]"
            ],
            "text/html": [
              "\n",
              "  <div id=\"df-fdd0383d-a9a0-4f2a-8992-9b26545d26c6\">\n",
              "    <div class=\"colab-df-container\">\n",
              "      <div>\n",
              "<style scoped>\n",
              "    .dataframe tbody tr th:only-of-type {\n",
              "        vertical-align: middle;\n",
              "    }\n",
              "\n",
              "    .dataframe tbody tr th {\n",
              "        vertical-align: top;\n",
              "    }\n",
              "\n",
              "    .dataframe thead th {\n",
              "        text-align: right;\n",
              "    }\n",
              "</style>\n",
              "<table border=\"1\" class=\"dataframe\">\n",
              "  <thead>\n",
              "    <tr style=\"text-align: right;\">\n",
              "      <th></th>\n",
              "      <th>text</th>\n",
              "      <th>class</th>\n",
              "    </tr>\n",
              "  </thead>\n",
              "  <tbody>\n",
              "    <tr>\n",
              "      <th>0</th>\n",
              "      <td>Ex Wife Threatening SuicideRecently I left my ...</td>\n",
              "      <td>suicide</td>\n",
              "    </tr>\n",
              "    <tr>\n",
              "      <th>1</th>\n",
              "      <td>Am I weird I don't get affected by compliments...</td>\n",
              "      <td>non-suicide</td>\n",
              "    </tr>\n",
              "    <tr>\n",
              "      <th>2</th>\n",
              "      <td>Finally 2020 is almost over... So I can never ...</td>\n",
              "      <td>non-suicide</td>\n",
              "    </tr>\n",
              "    <tr>\n",
              "      <th>3</th>\n",
              "      <td>i need helpjust help me im crying so hard</td>\n",
              "      <td>suicide</td>\n",
              "    </tr>\n",
              "    <tr>\n",
              "      <th>4</th>\n",
              "      <td>I’m so lostHello, my name is Adam (16) and I’v...</td>\n",
              "      <td>suicide</td>\n",
              "    </tr>\n",
              "    <tr>\n",
              "      <th>...</th>\n",
              "      <td>...</td>\n",
              "      <td>...</td>\n",
              "    </tr>\n",
              "    <tr>\n",
              "      <th>232069</th>\n",
              "      <td>If you don't like rock then your not going to ...</td>\n",
              "      <td>non-suicide</td>\n",
              "    </tr>\n",
              "    <tr>\n",
              "      <th>232070</th>\n",
              "      <td>You how you can tell i have so many friends an...</td>\n",
              "      <td>non-suicide</td>\n",
              "    </tr>\n",
              "    <tr>\n",
              "      <th>232071</th>\n",
              "      <td>pee probably tastes like salty tea😏💦‼️ can som...</td>\n",
              "      <td>non-suicide</td>\n",
              "    </tr>\n",
              "    <tr>\n",
              "      <th>232072</th>\n",
              "      <td>The usual stuff you find hereI'm not posting t...</td>\n",
              "      <td>suicide</td>\n",
              "    </tr>\n",
              "    <tr>\n",
              "      <th>232073</th>\n",
              "      <td>I still haven't beaten the first boss in Hollo...</td>\n",
              "      <td>non-suicide</td>\n",
              "    </tr>\n",
              "  </tbody>\n",
              "</table>\n",
              "<p>232074 rows × 2 columns</p>\n",
              "</div>\n",
              "      <button class=\"colab-df-convert\" onclick=\"convertToInteractive('df-fdd0383d-a9a0-4f2a-8992-9b26545d26c6')\"\n",
              "              title=\"Convert this dataframe to an interactive table.\"\n",
              "              style=\"display:none;\">\n",
              "        \n",
              "  <svg xmlns=\"http://www.w3.org/2000/svg\" height=\"24px\"viewBox=\"0 0 24 24\"\n",
              "       width=\"24px\">\n",
              "    <path d=\"M0 0h24v24H0V0z\" fill=\"none\"/>\n",
              "    <path d=\"M18.56 5.44l.94 2.06.94-2.06 2.06-.94-2.06-.94-.94-2.06-.94 2.06-2.06.94zm-11 1L8.5 8.5l.94-2.06 2.06-.94-2.06-.94L8.5 2.5l-.94 2.06-2.06.94zm10 10l.94 2.06.94-2.06 2.06-.94-2.06-.94-.94-2.06-.94 2.06-2.06.94z\"/><path d=\"M17.41 7.96l-1.37-1.37c-.4-.4-.92-.59-1.43-.59-.52 0-1.04.2-1.43.59L10.3 9.45l-7.72 7.72c-.78.78-.78 2.05 0 2.83L4 21.41c.39.39.9.59 1.41.59.51 0 1.02-.2 1.41-.59l7.78-7.78 2.81-2.81c.8-.78.8-2.07 0-2.86zM5.41 20L4 18.59l7.72-7.72 1.47 1.35L5.41 20z\"/>\n",
              "  </svg>\n",
              "      </button>\n",
              "      \n",
              "  <style>\n",
              "    .colab-df-container {\n",
              "      display:flex;\n",
              "      flex-wrap:wrap;\n",
              "      gap: 12px;\n",
              "    }\n",
              "\n",
              "    .colab-df-convert {\n",
              "      background-color: #E8F0FE;\n",
              "      border: none;\n",
              "      border-radius: 50%;\n",
              "      cursor: pointer;\n",
              "      display: none;\n",
              "      fill: #1967D2;\n",
              "      height: 32px;\n",
              "      padding: 0 0 0 0;\n",
              "      width: 32px;\n",
              "    }\n",
              "\n",
              "    .colab-df-convert:hover {\n",
              "      background-color: #E2EBFA;\n",
              "      box-shadow: 0px 1px 2px rgba(60, 64, 67, 0.3), 0px 1px 3px 1px rgba(60, 64, 67, 0.15);\n",
              "      fill: #174EA6;\n",
              "    }\n",
              "\n",
              "    [theme=dark] .colab-df-convert {\n",
              "      background-color: #3B4455;\n",
              "      fill: #D2E3FC;\n",
              "    }\n",
              "\n",
              "    [theme=dark] .colab-df-convert:hover {\n",
              "      background-color: #434B5C;\n",
              "      box-shadow: 0px 1px 3px 1px rgba(0, 0, 0, 0.15);\n",
              "      filter: drop-shadow(0px 1px 2px rgba(0, 0, 0, 0.3));\n",
              "      fill: #FFFFFF;\n",
              "    }\n",
              "  </style>\n",
              "\n",
              "      <script>\n",
              "        const buttonEl =\n",
              "          document.querySelector('#df-fdd0383d-a9a0-4f2a-8992-9b26545d26c6 button.colab-df-convert');\n",
              "        buttonEl.style.display =\n",
              "          google.colab.kernel.accessAllowed ? 'block' : 'none';\n",
              "\n",
              "        async function convertToInteractive(key) {\n",
              "          const element = document.querySelector('#df-fdd0383d-a9a0-4f2a-8992-9b26545d26c6');\n",
              "          const dataTable =\n",
              "            await google.colab.kernel.invokeFunction('convertToInteractive',\n",
              "                                                     [key], {});\n",
              "          if (!dataTable) return;\n",
              "\n",
              "          const docLinkHtml = 'Like what you see? Visit the ' +\n",
              "            '<a target=\"_blank\" href=https://colab.research.google.com/notebooks/data_table.ipynb>data table notebook</a>'\n",
              "            + ' to learn more about interactive tables.';\n",
              "          element.innerHTML = '';\n",
              "          dataTable['output_type'] = 'display_data';\n",
              "          await google.colab.output.renderOutput(dataTable, element);\n",
              "          const docLink = document.createElement('div');\n",
              "          docLink.innerHTML = docLinkHtml;\n",
              "          element.appendChild(docLink);\n",
              "        }\n",
              "      </script>\n",
              "    </div>\n",
              "  </div>\n",
              "  "
            ]
          },
          "metadata": {},
          "execution_count": 13
        }
      ],
      "source": [
        "df"
      ]
    },
    {
      "cell_type": "code",
      "execution_count": 14,
      "metadata": {
        "id": "udpSmzrgaRYc"
      },
      "outputs": [],
      "source": [
        "labelling ={\n",
        "    'non-suicide':0,\n",
        "    'suicide':1\n",
        "}\n",
        "df['label'] = df['class'].map(labelling)"
      ]
    },
    {
      "cell_type": "code",
      "execution_count": 15,
      "metadata": {
        "colab": {
          "base_uri": "https://localhost:8080/",
          "height": 300
        },
        "id": "j9sf1i6WcRwR",
        "outputId": "13e4bf79-b77c-44a1-8265-7cec708b6c2b"
      },
      "outputs": [
        {
          "output_type": "execute_result",
          "data": {
            "text/plain": [
              "                                                text        class  label\n",
              "0  Ex Wife Threatening SuicideRecently I left my ...      suicide      1\n",
              "1  Am I weird I don't get affected by compliments...  non-suicide      0\n",
              "2  Finally 2020 is almost over... So I can never ...  non-suicide      0\n",
              "3          i need helpjust help me im crying so hard      suicide      1\n",
              "4  I’m so lostHello, my name is Adam (16) and I’v...      suicide      1\n",
              "5  Honetly idkI dont know what im even doing here...      suicide      1\n",
              "6  [Trigger warning] Excuse for self inflicted bu...      suicide      1\n",
              "7   It ends tonight.I can’t do it anymore. \\nI quit.      suicide      1"
            ],
            "text/html": [
              "\n",
              "  <div id=\"df-147d510c-e120-4d31-be21-3386ca0caaa3\">\n",
              "    <div class=\"colab-df-container\">\n",
              "      <div>\n",
              "<style scoped>\n",
              "    .dataframe tbody tr th:only-of-type {\n",
              "        vertical-align: middle;\n",
              "    }\n",
              "\n",
              "    .dataframe tbody tr th {\n",
              "        vertical-align: top;\n",
              "    }\n",
              "\n",
              "    .dataframe thead th {\n",
              "        text-align: right;\n",
              "    }\n",
              "</style>\n",
              "<table border=\"1\" class=\"dataframe\">\n",
              "  <thead>\n",
              "    <tr style=\"text-align: right;\">\n",
              "      <th></th>\n",
              "      <th>text</th>\n",
              "      <th>class</th>\n",
              "      <th>label</th>\n",
              "    </tr>\n",
              "  </thead>\n",
              "  <tbody>\n",
              "    <tr>\n",
              "      <th>0</th>\n",
              "      <td>Ex Wife Threatening SuicideRecently I left my ...</td>\n",
              "      <td>suicide</td>\n",
              "      <td>1</td>\n",
              "    </tr>\n",
              "    <tr>\n",
              "      <th>1</th>\n",
              "      <td>Am I weird I don't get affected by compliments...</td>\n",
              "      <td>non-suicide</td>\n",
              "      <td>0</td>\n",
              "    </tr>\n",
              "    <tr>\n",
              "      <th>2</th>\n",
              "      <td>Finally 2020 is almost over... So I can never ...</td>\n",
              "      <td>non-suicide</td>\n",
              "      <td>0</td>\n",
              "    </tr>\n",
              "    <tr>\n",
              "      <th>3</th>\n",
              "      <td>i need helpjust help me im crying so hard</td>\n",
              "      <td>suicide</td>\n",
              "      <td>1</td>\n",
              "    </tr>\n",
              "    <tr>\n",
              "      <th>4</th>\n",
              "      <td>I’m so lostHello, my name is Adam (16) and I’v...</td>\n",
              "      <td>suicide</td>\n",
              "      <td>1</td>\n",
              "    </tr>\n",
              "    <tr>\n",
              "      <th>5</th>\n",
              "      <td>Honetly idkI dont know what im even doing here...</td>\n",
              "      <td>suicide</td>\n",
              "      <td>1</td>\n",
              "    </tr>\n",
              "    <tr>\n",
              "      <th>6</th>\n",
              "      <td>[Trigger warning] Excuse for self inflicted bu...</td>\n",
              "      <td>suicide</td>\n",
              "      <td>1</td>\n",
              "    </tr>\n",
              "    <tr>\n",
              "      <th>7</th>\n",
              "      <td>It ends tonight.I can’t do it anymore. \\nI quit.</td>\n",
              "      <td>suicide</td>\n",
              "      <td>1</td>\n",
              "    </tr>\n",
              "  </tbody>\n",
              "</table>\n",
              "</div>\n",
              "      <button class=\"colab-df-convert\" onclick=\"convertToInteractive('df-147d510c-e120-4d31-be21-3386ca0caaa3')\"\n",
              "              title=\"Convert this dataframe to an interactive table.\"\n",
              "              style=\"display:none;\">\n",
              "        \n",
              "  <svg xmlns=\"http://www.w3.org/2000/svg\" height=\"24px\"viewBox=\"0 0 24 24\"\n",
              "       width=\"24px\">\n",
              "    <path d=\"M0 0h24v24H0V0z\" fill=\"none\"/>\n",
              "    <path d=\"M18.56 5.44l.94 2.06.94-2.06 2.06-.94-2.06-.94-.94-2.06-.94 2.06-2.06.94zm-11 1L8.5 8.5l.94-2.06 2.06-.94-2.06-.94L8.5 2.5l-.94 2.06-2.06.94zm10 10l.94 2.06.94-2.06 2.06-.94-2.06-.94-.94-2.06-.94 2.06-2.06.94z\"/><path d=\"M17.41 7.96l-1.37-1.37c-.4-.4-.92-.59-1.43-.59-.52 0-1.04.2-1.43.59L10.3 9.45l-7.72 7.72c-.78.78-.78 2.05 0 2.83L4 21.41c.39.39.9.59 1.41.59.51 0 1.02-.2 1.41-.59l7.78-7.78 2.81-2.81c.8-.78.8-2.07 0-2.86zM5.41 20L4 18.59l7.72-7.72 1.47 1.35L5.41 20z\"/>\n",
              "  </svg>\n",
              "      </button>\n",
              "      \n",
              "  <style>\n",
              "    .colab-df-container {\n",
              "      display:flex;\n",
              "      flex-wrap:wrap;\n",
              "      gap: 12px;\n",
              "    }\n",
              "\n",
              "    .colab-df-convert {\n",
              "      background-color: #E8F0FE;\n",
              "      border: none;\n",
              "      border-radius: 50%;\n",
              "      cursor: pointer;\n",
              "      display: none;\n",
              "      fill: #1967D2;\n",
              "      height: 32px;\n",
              "      padding: 0 0 0 0;\n",
              "      width: 32px;\n",
              "    }\n",
              "\n",
              "    .colab-df-convert:hover {\n",
              "      background-color: #E2EBFA;\n",
              "      box-shadow: 0px 1px 2px rgba(60, 64, 67, 0.3), 0px 1px 3px 1px rgba(60, 64, 67, 0.15);\n",
              "      fill: #174EA6;\n",
              "    }\n",
              "\n",
              "    [theme=dark] .colab-df-convert {\n",
              "      background-color: #3B4455;\n",
              "      fill: #D2E3FC;\n",
              "    }\n",
              "\n",
              "    [theme=dark] .colab-df-convert:hover {\n",
              "      background-color: #434B5C;\n",
              "      box-shadow: 0px 1px 3px 1px rgba(0, 0, 0, 0.15);\n",
              "      filter: drop-shadow(0px 1px 2px rgba(0, 0, 0, 0.3));\n",
              "      fill: #FFFFFF;\n",
              "    }\n",
              "  </style>\n",
              "\n",
              "      <script>\n",
              "        const buttonEl =\n",
              "          document.querySelector('#df-147d510c-e120-4d31-be21-3386ca0caaa3 button.colab-df-convert');\n",
              "        buttonEl.style.display =\n",
              "          google.colab.kernel.accessAllowed ? 'block' : 'none';\n",
              "\n",
              "        async function convertToInteractive(key) {\n",
              "          const element = document.querySelector('#df-147d510c-e120-4d31-be21-3386ca0caaa3');\n",
              "          const dataTable =\n",
              "            await google.colab.kernel.invokeFunction('convertToInteractive',\n",
              "                                                     [key], {});\n",
              "          if (!dataTable) return;\n",
              "\n",
              "          const docLinkHtml = 'Like what you see? Visit the ' +\n",
              "            '<a target=\"_blank\" href=https://colab.research.google.com/notebooks/data_table.ipynb>data table notebook</a>'\n",
              "            + ' to learn more about interactive tables.';\n",
              "          element.innerHTML = '';\n",
              "          dataTable['output_type'] = 'display_data';\n",
              "          await google.colab.output.renderOutput(dataTable, element);\n",
              "          const docLink = document.createElement('div');\n",
              "          docLink.innerHTML = docLinkHtml;\n",
              "          element.appendChild(docLink);\n",
              "        }\n",
              "      </script>\n",
              "    </div>\n",
              "  </div>\n",
              "  "
            ]
          },
          "metadata": {},
          "execution_count": 15
        }
      ],
      "source": [
        "df.head(8)"
      ]
    },
    {
      "cell_type": "code",
      "execution_count": 16,
      "metadata": {
        "colab": {
          "base_uri": "https://localhost:8080/"
        },
        "id": "sLIdI1jwciUP",
        "outputId": "ad61d15f-3c63-47e5-89d2-037af976c62b"
      },
      "outputs": [
        {
          "output_type": "execute_result",
          "data": {
            "text/plain": [
              "1    116037\n",
              "0    116037\n",
              "Name: label, dtype: int64"
            ]
          },
          "metadata": {},
          "execution_count": 16
        }
      ],
      "source": [
        "df['label'].value_counts()"
      ]
    },
    {
      "cell_type": "code",
      "execution_count": 17,
      "metadata": {
        "id": "xcwwXw8jdduI"
      },
      "outputs": [],
      "source": [
        "df_0 =df[df['label'] == 0]\n",
        "df_1 =df[df['label'] == 1]"
      ]
    },
    {
      "cell_type": "code",
      "execution_count": 18,
      "metadata": {
        "colab": {
          "base_uri": "https://localhost:8080/"
        },
        "id": "jyxuI4lGeGMu",
        "outputId": "05492efe-1282-4c09-e153-6c46b6a141c2"
      },
      "outputs": [
        {
          "output_type": "execute_result",
          "data": {
            "text/plain": [
              "(116037, 3)"
            ]
          },
          "metadata": {},
          "execution_count": 18
        }
      ],
      "source": [
        "df_0.shape"
      ]
    },
    {
      "cell_type": "code",
      "execution_count": 19,
      "metadata": {
        "colab": {
          "base_uri": "https://localhost:8080/",
          "height": 424
        },
        "id": "NoSCxZYQeOGg",
        "outputId": "13f625a5-26bd-40d1-be5d-be859127aa32"
      },
      "outputs": [
        {
          "output_type": "execute_result",
          "data": {
            "text/plain": [
              "                                                     text        class  label\n",
              "1       Am I weird I don't get affected by compliments...  non-suicide      0\n",
              "2       Finally 2020 is almost over... So I can never ...  non-suicide      0\n",
              "8       Everyone wants to be \"edgy\" and it's making me...  non-suicide      0\n",
              "15      Fuck the verizon smart family app I can’t even...  non-suicide      0\n",
              "17      Well, Im screwed. I locked myself in the schoo...  non-suicide      0\n",
              "...                                                   ...          ...    ...\n",
              "232068  I did something today I went sledding with my ...  non-suicide      0\n",
              "232069  If you don't like rock then your not going to ...  non-suicide      0\n",
              "232070  You how you can tell i have so many friends an...  non-suicide      0\n",
              "232071  pee probably tastes like salty tea😏💦‼️ can som...  non-suicide      0\n",
              "232073  I still haven't beaten the first boss in Hollo...  non-suicide      0\n",
              "\n",
              "[116037 rows x 3 columns]"
            ],
            "text/html": [
              "\n",
              "  <div id=\"df-e8c66662-9e6c-4a97-bf48-20861834bf33\">\n",
              "    <div class=\"colab-df-container\">\n",
              "      <div>\n",
              "<style scoped>\n",
              "    .dataframe tbody tr th:only-of-type {\n",
              "        vertical-align: middle;\n",
              "    }\n",
              "\n",
              "    .dataframe tbody tr th {\n",
              "        vertical-align: top;\n",
              "    }\n",
              "\n",
              "    .dataframe thead th {\n",
              "        text-align: right;\n",
              "    }\n",
              "</style>\n",
              "<table border=\"1\" class=\"dataframe\">\n",
              "  <thead>\n",
              "    <tr style=\"text-align: right;\">\n",
              "      <th></th>\n",
              "      <th>text</th>\n",
              "      <th>class</th>\n",
              "      <th>label</th>\n",
              "    </tr>\n",
              "  </thead>\n",
              "  <tbody>\n",
              "    <tr>\n",
              "      <th>1</th>\n",
              "      <td>Am I weird I don't get affected by compliments...</td>\n",
              "      <td>non-suicide</td>\n",
              "      <td>0</td>\n",
              "    </tr>\n",
              "    <tr>\n",
              "      <th>2</th>\n",
              "      <td>Finally 2020 is almost over... So I can never ...</td>\n",
              "      <td>non-suicide</td>\n",
              "      <td>0</td>\n",
              "    </tr>\n",
              "    <tr>\n",
              "      <th>8</th>\n",
              "      <td>Everyone wants to be \"edgy\" and it's making me...</td>\n",
              "      <td>non-suicide</td>\n",
              "      <td>0</td>\n",
              "    </tr>\n",
              "    <tr>\n",
              "      <th>15</th>\n",
              "      <td>Fuck the verizon smart family app I can’t even...</td>\n",
              "      <td>non-suicide</td>\n",
              "      <td>0</td>\n",
              "    </tr>\n",
              "    <tr>\n",
              "      <th>17</th>\n",
              "      <td>Well, Im screwed. I locked myself in the schoo...</td>\n",
              "      <td>non-suicide</td>\n",
              "      <td>0</td>\n",
              "    </tr>\n",
              "    <tr>\n",
              "      <th>...</th>\n",
              "      <td>...</td>\n",
              "      <td>...</td>\n",
              "      <td>...</td>\n",
              "    </tr>\n",
              "    <tr>\n",
              "      <th>232068</th>\n",
              "      <td>I did something today I went sledding with my ...</td>\n",
              "      <td>non-suicide</td>\n",
              "      <td>0</td>\n",
              "    </tr>\n",
              "    <tr>\n",
              "      <th>232069</th>\n",
              "      <td>If you don't like rock then your not going to ...</td>\n",
              "      <td>non-suicide</td>\n",
              "      <td>0</td>\n",
              "    </tr>\n",
              "    <tr>\n",
              "      <th>232070</th>\n",
              "      <td>You how you can tell i have so many friends an...</td>\n",
              "      <td>non-suicide</td>\n",
              "      <td>0</td>\n",
              "    </tr>\n",
              "    <tr>\n",
              "      <th>232071</th>\n",
              "      <td>pee probably tastes like salty tea😏💦‼️ can som...</td>\n",
              "      <td>non-suicide</td>\n",
              "      <td>0</td>\n",
              "    </tr>\n",
              "    <tr>\n",
              "      <th>232073</th>\n",
              "      <td>I still haven't beaten the first boss in Hollo...</td>\n",
              "      <td>non-suicide</td>\n",
              "      <td>0</td>\n",
              "    </tr>\n",
              "  </tbody>\n",
              "</table>\n",
              "<p>116037 rows × 3 columns</p>\n",
              "</div>\n",
              "      <button class=\"colab-df-convert\" onclick=\"convertToInteractive('df-e8c66662-9e6c-4a97-bf48-20861834bf33')\"\n",
              "              title=\"Convert this dataframe to an interactive table.\"\n",
              "              style=\"display:none;\">\n",
              "        \n",
              "  <svg xmlns=\"http://www.w3.org/2000/svg\" height=\"24px\"viewBox=\"0 0 24 24\"\n",
              "       width=\"24px\">\n",
              "    <path d=\"M0 0h24v24H0V0z\" fill=\"none\"/>\n",
              "    <path d=\"M18.56 5.44l.94 2.06.94-2.06 2.06-.94-2.06-.94-.94-2.06-.94 2.06-2.06.94zm-11 1L8.5 8.5l.94-2.06 2.06-.94-2.06-.94L8.5 2.5l-.94 2.06-2.06.94zm10 10l.94 2.06.94-2.06 2.06-.94-2.06-.94-.94-2.06-.94 2.06-2.06.94z\"/><path d=\"M17.41 7.96l-1.37-1.37c-.4-.4-.92-.59-1.43-.59-.52 0-1.04.2-1.43.59L10.3 9.45l-7.72 7.72c-.78.78-.78 2.05 0 2.83L4 21.41c.39.39.9.59 1.41.59.51 0 1.02-.2 1.41-.59l7.78-7.78 2.81-2.81c.8-.78.8-2.07 0-2.86zM5.41 20L4 18.59l7.72-7.72 1.47 1.35L5.41 20z\"/>\n",
              "  </svg>\n",
              "      </button>\n",
              "      \n",
              "  <style>\n",
              "    .colab-df-container {\n",
              "      display:flex;\n",
              "      flex-wrap:wrap;\n",
              "      gap: 12px;\n",
              "    }\n",
              "\n",
              "    .colab-df-convert {\n",
              "      background-color: #E8F0FE;\n",
              "      border: none;\n",
              "      border-radius: 50%;\n",
              "      cursor: pointer;\n",
              "      display: none;\n",
              "      fill: #1967D2;\n",
              "      height: 32px;\n",
              "      padding: 0 0 0 0;\n",
              "      width: 32px;\n",
              "    }\n",
              "\n",
              "    .colab-df-convert:hover {\n",
              "      background-color: #E2EBFA;\n",
              "      box-shadow: 0px 1px 2px rgba(60, 64, 67, 0.3), 0px 1px 3px 1px rgba(60, 64, 67, 0.15);\n",
              "      fill: #174EA6;\n",
              "    }\n",
              "\n",
              "    [theme=dark] .colab-df-convert {\n",
              "      background-color: #3B4455;\n",
              "      fill: #D2E3FC;\n",
              "    }\n",
              "\n",
              "    [theme=dark] .colab-df-convert:hover {\n",
              "      background-color: #434B5C;\n",
              "      box-shadow: 0px 1px 3px 1px rgba(0, 0, 0, 0.15);\n",
              "      filter: drop-shadow(0px 1px 2px rgba(0, 0, 0, 0.3));\n",
              "      fill: #FFFFFF;\n",
              "    }\n",
              "  </style>\n",
              "\n",
              "      <script>\n",
              "        const buttonEl =\n",
              "          document.querySelector('#df-e8c66662-9e6c-4a97-bf48-20861834bf33 button.colab-df-convert');\n",
              "        buttonEl.style.display =\n",
              "          google.colab.kernel.accessAllowed ? 'block' : 'none';\n",
              "\n",
              "        async function convertToInteractive(key) {\n",
              "          const element = document.querySelector('#df-e8c66662-9e6c-4a97-bf48-20861834bf33');\n",
              "          const dataTable =\n",
              "            await google.colab.kernel.invokeFunction('convertToInteractive',\n",
              "                                                     [key], {});\n",
              "          if (!dataTable) return;\n",
              "\n",
              "          const docLinkHtml = 'Like what you see? Visit the ' +\n",
              "            '<a target=\"_blank\" href=https://colab.research.google.com/notebooks/data_table.ipynb>data table notebook</a>'\n",
              "            + ' to learn more about interactive tables.';\n",
              "          element.innerHTML = '';\n",
              "          dataTable['output_type'] = 'display_data';\n",
              "          await google.colab.output.renderOutput(dataTable, element);\n",
              "          const docLink = document.createElement('div');\n",
              "          docLink.innerHTML = docLinkHtml;\n",
              "          element.appendChild(docLink);\n",
              "        }\n",
              "      </script>\n",
              "    </div>\n",
              "  </div>\n",
              "  "
            ]
          },
          "metadata": {},
          "execution_count": 19
        }
      ],
      "source": [
        "df_0"
      ]
    },
    {
      "cell_type": "code",
      "execution_count": 20,
      "metadata": {
        "colab": {
          "base_uri": "https://localhost:8080/"
        },
        "id": "7OKV78RoeKl2",
        "outputId": "e1a337e5-20d1-45d6-f9e3-a16858e49211"
      },
      "outputs": [
        {
          "output_type": "execute_result",
          "data": {
            "text/plain": [
              "(116037, 3)"
            ]
          },
          "metadata": {},
          "execution_count": 20
        }
      ],
      "source": [
        "df_1.shape"
      ]
    },
    {
      "cell_type": "code",
      "execution_count": 21,
      "metadata": {
        "colab": {
          "base_uri": "https://localhost:8080/",
          "height": 424
        },
        "id": "URROWNsOe6q4",
        "outputId": "4d11e69a-2e24-4de6-cbc0-fcf701d6051b"
      },
      "outputs": [
        {
          "output_type": "execute_result",
          "data": {
            "text/plain": [
              "                                                     text    class  label\n",
              "0       Ex Wife Threatening SuicideRecently I left my ...  suicide      1\n",
              "3               i need helpjust help me im crying so hard  suicide      1\n",
              "4       I’m so lostHello, my name is Adam (16) and I’v...  suicide      1\n",
              "5       Honetly idkI dont know what im even doing here...  suicide      1\n",
              "6       [Trigger warning] Excuse for self inflicted bu...  suicide      1\n",
              "...                                                   ...      ...    ...\n",
              "232061  I’ve fucking had enough.None of this depressio...  suicide      1\n",
              "232062  paralyzing anxiety &amp; depression are pushin...  suicide      1\n",
              "232066  My mom tried to kill herself today. I feel los...  suicide      1\n",
              "232067  I’m a fucking scummy person and I can’t change...  suicide      1\n",
              "232072  The usual stuff you find hereI'm not posting t...  suicide      1\n",
              "\n",
              "[116037 rows x 3 columns]"
            ],
            "text/html": [
              "\n",
              "  <div id=\"df-b61348c4-d51c-4a44-a487-32f0871a2379\">\n",
              "    <div class=\"colab-df-container\">\n",
              "      <div>\n",
              "<style scoped>\n",
              "    .dataframe tbody tr th:only-of-type {\n",
              "        vertical-align: middle;\n",
              "    }\n",
              "\n",
              "    .dataframe tbody tr th {\n",
              "        vertical-align: top;\n",
              "    }\n",
              "\n",
              "    .dataframe thead th {\n",
              "        text-align: right;\n",
              "    }\n",
              "</style>\n",
              "<table border=\"1\" class=\"dataframe\">\n",
              "  <thead>\n",
              "    <tr style=\"text-align: right;\">\n",
              "      <th></th>\n",
              "      <th>text</th>\n",
              "      <th>class</th>\n",
              "      <th>label</th>\n",
              "    </tr>\n",
              "  </thead>\n",
              "  <tbody>\n",
              "    <tr>\n",
              "      <th>0</th>\n",
              "      <td>Ex Wife Threatening SuicideRecently I left my ...</td>\n",
              "      <td>suicide</td>\n",
              "      <td>1</td>\n",
              "    </tr>\n",
              "    <tr>\n",
              "      <th>3</th>\n",
              "      <td>i need helpjust help me im crying so hard</td>\n",
              "      <td>suicide</td>\n",
              "      <td>1</td>\n",
              "    </tr>\n",
              "    <tr>\n",
              "      <th>4</th>\n",
              "      <td>I’m so lostHello, my name is Adam (16) and I’v...</td>\n",
              "      <td>suicide</td>\n",
              "      <td>1</td>\n",
              "    </tr>\n",
              "    <tr>\n",
              "      <th>5</th>\n",
              "      <td>Honetly idkI dont know what im even doing here...</td>\n",
              "      <td>suicide</td>\n",
              "      <td>1</td>\n",
              "    </tr>\n",
              "    <tr>\n",
              "      <th>6</th>\n",
              "      <td>[Trigger warning] Excuse for self inflicted bu...</td>\n",
              "      <td>suicide</td>\n",
              "      <td>1</td>\n",
              "    </tr>\n",
              "    <tr>\n",
              "      <th>...</th>\n",
              "      <td>...</td>\n",
              "      <td>...</td>\n",
              "      <td>...</td>\n",
              "    </tr>\n",
              "    <tr>\n",
              "      <th>232061</th>\n",
              "      <td>I’ve fucking had enough.None of this depressio...</td>\n",
              "      <td>suicide</td>\n",
              "      <td>1</td>\n",
              "    </tr>\n",
              "    <tr>\n",
              "      <th>232062</th>\n",
              "      <td>paralyzing anxiety &amp;amp; depression are pushin...</td>\n",
              "      <td>suicide</td>\n",
              "      <td>1</td>\n",
              "    </tr>\n",
              "    <tr>\n",
              "      <th>232066</th>\n",
              "      <td>My mom tried to kill herself today. I feel los...</td>\n",
              "      <td>suicide</td>\n",
              "      <td>1</td>\n",
              "    </tr>\n",
              "    <tr>\n",
              "      <th>232067</th>\n",
              "      <td>I’m a fucking scummy person and I can’t change...</td>\n",
              "      <td>suicide</td>\n",
              "      <td>1</td>\n",
              "    </tr>\n",
              "    <tr>\n",
              "      <th>232072</th>\n",
              "      <td>The usual stuff you find hereI'm not posting t...</td>\n",
              "      <td>suicide</td>\n",
              "      <td>1</td>\n",
              "    </tr>\n",
              "  </tbody>\n",
              "</table>\n",
              "<p>116037 rows × 3 columns</p>\n",
              "</div>\n",
              "      <button class=\"colab-df-convert\" onclick=\"convertToInteractive('df-b61348c4-d51c-4a44-a487-32f0871a2379')\"\n",
              "              title=\"Convert this dataframe to an interactive table.\"\n",
              "              style=\"display:none;\">\n",
              "        \n",
              "  <svg xmlns=\"http://www.w3.org/2000/svg\" height=\"24px\"viewBox=\"0 0 24 24\"\n",
              "       width=\"24px\">\n",
              "    <path d=\"M0 0h24v24H0V0z\" fill=\"none\"/>\n",
              "    <path d=\"M18.56 5.44l.94 2.06.94-2.06 2.06-.94-2.06-.94-.94-2.06-.94 2.06-2.06.94zm-11 1L8.5 8.5l.94-2.06 2.06-.94-2.06-.94L8.5 2.5l-.94 2.06-2.06.94zm10 10l.94 2.06.94-2.06 2.06-.94-2.06-.94-.94-2.06-.94 2.06-2.06.94z\"/><path d=\"M17.41 7.96l-1.37-1.37c-.4-.4-.92-.59-1.43-.59-.52 0-1.04.2-1.43.59L10.3 9.45l-7.72 7.72c-.78.78-.78 2.05 0 2.83L4 21.41c.39.39.9.59 1.41.59.51 0 1.02-.2 1.41-.59l7.78-7.78 2.81-2.81c.8-.78.8-2.07 0-2.86zM5.41 20L4 18.59l7.72-7.72 1.47 1.35L5.41 20z\"/>\n",
              "  </svg>\n",
              "      </button>\n",
              "      \n",
              "  <style>\n",
              "    .colab-df-container {\n",
              "      display:flex;\n",
              "      flex-wrap:wrap;\n",
              "      gap: 12px;\n",
              "    }\n",
              "\n",
              "    .colab-df-convert {\n",
              "      background-color: #E8F0FE;\n",
              "      border: none;\n",
              "      border-radius: 50%;\n",
              "      cursor: pointer;\n",
              "      display: none;\n",
              "      fill: #1967D2;\n",
              "      height: 32px;\n",
              "      padding: 0 0 0 0;\n",
              "      width: 32px;\n",
              "    }\n",
              "\n",
              "    .colab-df-convert:hover {\n",
              "      background-color: #E2EBFA;\n",
              "      box-shadow: 0px 1px 2px rgba(60, 64, 67, 0.3), 0px 1px 3px 1px rgba(60, 64, 67, 0.15);\n",
              "      fill: #174EA6;\n",
              "    }\n",
              "\n",
              "    [theme=dark] .colab-df-convert {\n",
              "      background-color: #3B4455;\n",
              "      fill: #D2E3FC;\n",
              "    }\n",
              "\n",
              "    [theme=dark] .colab-df-convert:hover {\n",
              "      background-color: #434B5C;\n",
              "      box-shadow: 0px 1px 3px 1px rgba(0, 0, 0, 0.15);\n",
              "      filter: drop-shadow(0px 1px 2px rgba(0, 0, 0, 0.3));\n",
              "      fill: #FFFFFF;\n",
              "    }\n",
              "  </style>\n",
              "\n",
              "      <script>\n",
              "        const buttonEl =\n",
              "          document.querySelector('#df-b61348c4-d51c-4a44-a487-32f0871a2379 button.colab-df-convert');\n",
              "        buttonEl.style.display =\n",
              "          google.colab.kernel.accessAllowed ? 'block' : 'none';\n",
              "\n",
              "        async function convertToInteractive(key) {\n",
              "          const element = document.querySelector('#df-b61348c4-d51c-4a44-a487-32f0871a2379');\n",
              "          const dataTable =\n",
              "            await google.colab.kernel.invokeFunction('convertToInteractive',\n",
              "                                                     [key], {});\n",
              "          if (!dataTable) return;\n",
              "\n",
              "          const docLinkHtml = 'Like what you see? Visit the ' +\n",
              "            '<a target=\"_blank\" href=https://colab.research.google.com/notebooks/data_table.ipynb>data table notebook</a>'\n",
              "            + ' to learn more about interactive tables.';\n",
              "          element.innerHTML = '';\n",
              "          dataTable['output_type'] = 'display_data';\n",
              "          await google.colab.output.renderOutput(dataTable, element);\n",
              "          const docLink = document.createElement('div');\n",
              "          docLink.innerHTML = docLinkHtml;\n",
              "          element.appendChild(docLink);\n",
              "        }\n",
              "      </script>\n",
              "    </div>\n",
              "  </div>\n",
              "  "
            ]
          },
          "metadata": {},
          "execution_count": 21
        }
      ],
      "source": [
        "df_1"
      ]
    },
    {
      "cell_type": "code",
      "execution_count": 22,
      "metadata": {
        "id": "6ege_sOVe-Hv"
      },
      "outputs": [],
      "source": [
        "df_0 = df_0.sample(n=3500, random_state =0)\n",
        "df_1 = df_1.sample(n=3500, random_state =0)"
      ]
    },
    {
      "cell_type": "code",
      "execution_count": 23,
      "metadata": {
        "colab": {
          "base_uri": "https://localhost:8080/"
        },
        "id": "KN3TeBTGfYaS",
        "outputId": "4b55ade3-084c-4e4b-cf6b-26407146f567"
      },
      "outputs": [
        {
          "output_type": "execute_result",
          "data": {
            "text/plain": [
              "(                                                     text        class  label\n",
              " 80854   First day of new school year Please unlive me\\...  non-suicide      0\n",
              " 113174  Just cut off the dude that makes me wanna kill...  non-suicide      0\n",
              " 215271  Would you put ketchup or barbecue sauce on fis...  non-suicide      0\n",
              " 84155   bruh I gotta figure out how to stop getting bo...  non-suicide      0\n",
              " 19237   I FUCKING HATE MY BRAIN The story about this i...  non-suicide      0\n",
              " ...                                                   ...          ...    ...\n",
              " 187597  How do u get over someone you know you'll neve...  non-suicide      0\n",
              " 42248   To whoever keeps giving me gold.... Thanks I a...  non-suicide      0\n",
              " 201543  So apparently it’s my fault that my mom lost h...  non-suicide      0\n",
              " 120054  Anyone wanna start a discord? I have no idea w...  non-suicide      0\n",
              " 156198  Girls belong in to the kitchen ! And boys too,...  non-suicide      0\n",
              " \n",
              " [3500 rows x 3 columns],\n",
              "                                                      text    class  label\n",
              " 80926   Am so utterly suicidal but I’m so terrified I ...  suicide      1\n",
              " 112992  Bi-Polar, Uni-Polar, Schizophrenia. Should I g...  suicide      1\n",
              " 215187  What keeps y’all beans from pullin da trigger?...  suicide      1\n",
              " 84086   I can't go to the hospital because they'll thr...  suicide      1\n",
              " 19766   I'm scaredI really want to end it all, but I'm...  suicide      1\n",
              " ...                                                   ...      ...    ...\n",
              " 187572  I just want to be goneI have a good life I gue...  suicide      1\n",
              " 42485   Even though I can laugh, I don't feel anything...  suicide      1\n",
              " 201530  I ordered heroin to od onnot sure why I'm sayi...  suicide      1\n",
              " 119857  Please Help MeI can't go on like this anymore....  suicide      1\n",
              " 156137  I'm getting scared for my best friendShe told ...  suicide      1\n",
              " \n",
              " [3500 rows x 3 columns])"
            ]
          },
          "metadata": {},
          "execution_count": 23
        }
      ],
      "source": [
        "df_0, df_1"
      ]
    },
    {
      "cell_type": "code",
      "execution_count": 24,
      "metadata": {
        "id": "JRw0b-6AgheZ"
      },
      "outputs": [],
      "source": [
        "df_merged = pd.concat([df_0, df_1], join ='inner', ignore_index = True)"
      ]
    },
    {
      "cell_type": "code",
      "execution_count": 25,
      "metadata": {
        "colab": {
          "base_uri": "https://localhost:8080/",
          "height": 424
        },
        "id": "VCL237Czhe7t",
        "outputId": "9952118d-fc4d-405c-e6ae-0262457d6085"
      },
      "outputs": [
        {
          "output_type": "execute_result",
          "data": {
            "text/plain": [
              "                                                   text        class  label\n",
              "0     First day of new school year Please unlive me\\...  non-suicide      0\n",
              "1     Just cut off the dude that makes me wanna kill...  non-suicide      0\n",
              "2     Would you put ketchup or barbecue sauce on fis...  non-suicide      0\n",
              "3     bruh I gotta figure out how to stop getting bo...  non-suicide      0\n",
              "4     I FUCKING HATE MY BRAIN The story about this i...  non-suicide      0\n",
              "...                                                 ...          ...    ...\n",
              "6995  I just want to be goneI have a good life I gue...      suicide      1\n",
              "6996  Even though I can laugh, I don't feel anything...      suicide      1\n",
              "6997  I ordered heroin to od onnot sure why I'm sayi...      suicide      1\n",
              "6998  Please Help MeI can't go on like this anymore....      suicide      1\n",
              "6999  I'm getting scared for my best friendShe told ...      suicide      1\n",
              "\n",
              "[7000 rows x 3 columns]"
            ],
            "text/html": [
              "\n",
              "  <div id=\"df-1f89bca5-9088-4c0f-bdca-06cb641bb567\">\n",
              "    <div class=\"colab-df-container\">\n",
              "      <div>\n",
              "<style scoped>\n",
              "    .dataframe tbody tr th:only-of-type {\n",
              "        vertical-align: middle;\n",
              "    }\n",
              "\n",
              "    .dataframe tbody tr th {\n",
              "        vertical-align: top;\n",
              "    }\n",
              "\n",
              "    .dataframe thead th {\n",
              "        text-align: right;\n",
              "    }\n",
              "</style>\n",
              "<table border=\"1\" class=\"dataframe\">\n",
              "  <thead>\n",
              "    <tr style=\"text-align: right;\">\n",
              "      <th></th>\n",
              "      <th>text</th>\n",
              "      <th>class</th>\n",
              "      <th>label</th>\n",
              "    </tr>\n",
              "  </thead>\n",
              "  <tbody>\n",
              "    <tr>\n",
              "      <th>0</th>\n",
              "      <td>First day of new school year Please unlive me\\...</td>\n",
              "      <td>non-suicide</td>\n",
              "      <td>0</td>\n",
              "    </tr>\n",
              "    <tr>\n",
              "      <th>1</th>\n",
              "      <td>Just cut off the dude that makes me wanna kill...</td>\n",
              "      <td>non-suicide</td>\n",
              "      <td>0</td>\n",
              "    </tr>\n",
              "    <tr>\n",
              "      <th>2</th>\n",
              "      <td>Would you put ketchup or barbecue sauce on fis...</td>\n",
              "      <td>non-suicide</td>\n",
              "      <td>0</td>\n",
              "    </tr>\n",
              "    <tr>\n",
              "      <th>3</th>\n",
              "      <td>bruh I gotta figure out how to stop getting bo...</td>\n",
              "      <td>non-suicide</td>\n",
              "      <td>0</td>\n",
              "    </tr>\n",
              "    <tr>\n",
              "      <th>4</th>\n",
              "      <td>I FUCKING HATE MY BRAIN The story about this i...</td>\n",
              "      <td>non-suicide</td>\n",
              "      <td>0</td>\n",
              "    </tr>\n",
              "    <tr>\n",
              "      <th>...</th>\n",
              "      <td>...</td>\n",
              "      <td>...</td>\n",
              "      <td>...</td>\n",
              "    </tr>\n",
              "    <tr>\n",
              "      <th>6995</th>\n",
              "      <td>I just want to be goneI have a good life I gue...</td>\n",
              "      <td>suicide</td>\n",
              "      <td>1</td>\n",
              "    </tr>\n",
              "    <tr>\n",
              "      <th>6996</th>\n",
              "      <td>Even though I can laugh, I don't feel anything...</td>\n",
              "      <td>suicide</td>\n",
              "      <td>1</td>\n",
              "    </tr>\n",
              "    <tr>\n",
              "      <th>6997</th>\n",
              "      <td>I ordered heroin to od onnot sure why I'm sayi...</td>\n",
              "      <td>suicide</td>\n",
              "      <td>1</td>\n",
              "    </tr>\n",
              "    <tr>\n",
              "      <th>6998</th>\n",
              "      <td>Please Help MeI can't go on like this anymore....</td>\n",
              "      <td>suicide</td>\n",
              "      <td>1</td>\n",
              "    </tr>\n",
              "    <tr>\n",
              "      <th>6999</th>\n",
              "      <td>I'm getting scared for my best friendShe told ...</td>\n",
              "      <td>suicide</td>\n",
              "      <td>1</td>\n",
              "    </tr>\n",
              "  </tbody>\n",
              "</table>\n",
              "<p>7000 rows × 3 columns</p>\n",
              "</div>\n",
              "      <button class=\"colab-df-convert\" onclick=\"convertToInteractive('df-1f89bca5-9088-4c0f-bdca-06cb641bb567')\"\n",
              "              title=\"Convert this dataframe to an interactive table.\"\n",
              "              style=\"display:none;\">\n",
              "        \n",
              "  <svg xmlns=\"http://www.w3.org/2000/svg\" height=\"24px\"viewBox=\"0 0 24 24\"\n",
              "       width=\"24px\">\n",
              "    <path d=\"M0 0h24v24H0V0z\" fill=\"none\"/>\n",
              "    <path d=\"M18.56 5.44l.94 2.06.94-2.06 2.06-.94-2.06-.94-.94-2.06-.94 2.06-2.06.94zm-11 1L8.5 8.5l.94-2.06 2.06-.94-2.06-.94L8.5 2.5l-.94 2.06-2.06.94zm10 10l.94 2.06.94-2.06 2.06-.94-2.06-.94-.94-2.06-.94 2.06-2.06.94z\"/><path d=\"M17.41 7.96l-1.37-1.37c-.4-.4-.92-.59-1.43-.59-.52 0-1.04.2-1.43.59L10.3 9.45l-7.72 7.72c-.78.78-.78 2.05 0 2.83L4 21.41c.39.39.9.59 1.41.59.51 0 1.02-.2 1.41-.59l7.78-7.78 2.81-2.81c.8-.78.8-2.07 0-2.86zM5.41 20L4 18.59l7.72-7.72 1.47 1.35L5.41 20z\"/>\n",
              "  </svg>\n",
              "      </button>\n",
              "      \n",
              "  <style>\n",
              "    .colab-df-container {\n",
              "      display:flex;\n",
              "      flex-wrap:wrap;\n",
              "      gap: 12px;\n",
              "    }\n",
              "\n",
              "    .colab-df-convert {\n",
              "      background-color: #E8F0FE;\n",
              "      border: none;\n",
              "      border-radius: 50%;\n",
              "      cursor: pointer;\n",
              "      display: none;\n",
              "      fill: #1967D2;\n",
              "      height: 32px;\n",
              "      padding: 0 0 0 0;\n",
              "      width: 32px;\n",
              "    }\n",
              "\n",
              "    .colab-df-convert:hover {\n",
              "      background-color: #E2EBFA;\n",
              "      box-shadow: 0px 1px 2px rgba(60, 64, 67, 0.3), 0px 1px 3px 1px rgba(60, 64, 67, 0.15);\n",
              "      fill: #174EA6;\n",
              "    }\n",
              "\n",
              "    [theme=dark] .colab-df-convert {\n",
              "      background-color: #3B4455;\n",
              "      fill: #D2E3FC;\n",
              "    }\n",
              "\n",
              "    [theme=dark] .colab-df-convert:hover {\n",
              "      background-color: #434B5C;\n",
              "      box-shadow: 0px 1px 3px 1px rgba(0, 0, 0, 0.15);\n",
              "      filter: drop-shadow(0px 1px 2px rgba(0, 0, 0, 0.3));\n",
              "      fill: #FFFFFF;\n",
              "    }\n",
              "  </style>\n",
              "\n",
              "      <script>\n",
              "        const buttonEl =\n",
              "          document.querySelector('#df-1f89bca5-9088-4c0f-bdca-06cb641bb567 button.colab-df-convert');\n",
              "        buttonEl.style.display =\n",
              "          google.colab.kernel.accessAllowed ? 'block' : 'none';\n",
              "\n",
              "        async function convertToInteractive(key) {\n",
              "          const element = document.querySelector('#df-1f89bca5-9088-4c0f-bdca-06cb641bb567');\n",
              "          const dataTable =\n",
              "            await google.colab.kernel.invokeFunction('convertToInteractive',\n",
              "                                                     [key], {});\n",
              "          if (!dataTable) return;\n",
              "\n",
              "          const docLinkHtml = 'Like what you see? Visit the ' +\n",
              "            '<a target=\"_blank\" href=https://colab.research.google.com/notebooks/data_table.ipynb>data table notebook</a>'\n",
              "            + ' to learn more about interactive tables.';\n",
              "          element.innerHTML = '';\n",
              "          dataTable['output_type'] = 'display_data';\n",
              "          await google.colab.output.renderOutput(dataTable, element);\n",
              "          const docLink = document.createElement('div');\n",
              "          docLink.innerHTML = docLinkHtml;\n",
              "          element.appendChild(docLink);\n",
              "        }\n",
              "      </script>\n",
              "    </div>\n",
              "  </div>\n",
              "  "
            ]
          },
          "metadata": {},
          "execution_count": 25
        }
      ],
      "source": [
        "df_merged"
      ]
    },
    {
      "cell_type": "code",
      "execution_count": 26,
      "metadata": {
        "colab": {
          "base_uri": "https://localhost:8080/"
        },
        "id": "ndy-1mKEfyyo",
        "outputId": "b01b16e6-c3f4-43d6-f551-c159e39485a3"
      },
      "outputs": [
        {
          "output_type": "execute_result",
          "data": {
            "text/plain": [
              "0    3500\n",
              "1    3500\n",
              "Name: label, dtype: int64"
            ]
          },
          "metadata": {},
          "execution_count": 26
        }
      ],
      "source": [
        "df_merged['label'].value_counts()"
      ]
    },
    {
      "cell_type": "code",
      "execution_count": 27,
      "metadata": {
        "id": "wuovZ4Bkhmsq"
      },
      "outputs": [],
      "source": [
        "dff = df_merged"
      ]
    },
    {
      "cell_type": "code",
      "execution_count": 28,
      "metadata": {
        "colab": {
          "base_uri": "https://localhost:8080/",
          "height": 424
        },
        "id": "X86yffPAj_rZ",
        "outputId": "9a9647cb-97d4-4bf6-d6fc-d38942247591"
      },
      "outputs": [
        {
          "output_type": "execute_result",
          "data": {
            "text/plain": [
              "                                                   text        class  label\n",
              "0     First day of new school year Please unlive me\\...  non-suicide      0\n",
              "1     Just cut off the dude that makes me wanna kill...  non-suicide      0\n",
              "2     Would you put ketchup or barbecue sauce on fis...  non-suicide      0\n",
              "3     bruh I gotta figure out how to stop getting bo...  non-suicide      0\n",
              "4     I FUCKING HATE MY BRAIN The story about this i...  non-suicide      0\n",
              "...                                                 ...          ...    ...\n",
              "6995  I just want to be goneI have a good life I gue...      suicide      1\n",
              "6996  Even though I can laugh, I don't feel anything...      suicide      1\n",
              "6997  I ordered heroin to od onnot sure why I'm sayi...      suicide      1\n",
              "6998  Please Help MeI can't go on like this anymore....      suicide      1\n",
              "6999  I'm getting scared for my best friendShe told ...      suicide      1\n",
              "\n",
              "[7000 rows x 3 columns]"
            ],
            "text/html": [
              "\n",
              "  <div id=\"df-ef85e196-2ce8-4276-a676-299aefddfa27\">\n",
              "    <div class=\"colab-df-container\">\n",
              "      <div>\n",
              "<style scoped>\n",
              "    .dataframe tbody tr th:only-of-type {\n",
              "        vertical-align: middle;\n",
              "    }\n",
              "\n",
              "    .dataframe tbody tr th {\n",
              "        vertical-align: top;\n",
              "    }\n",
              "\n",
              "    .dataframe thead th {\n",
              "        text-align: right;\n",
              "    }\n",
              "</style>\n",
              "<table border=\"1\" class=\"dataframe\">\n",
              "  <thead>\n",
              "    <tr style=\"text-align: right;\">\n",
              "      <th></th>\n",
              "      <th>text</th>\n",
              "      <th>class</th>\n",
              "      <th>label</th>\n",
              "    </tr>\n",
              "  </thead>\n",
              "  <tbody>\n",
              "    <tr>\n",
              "      <th>0</th>\n",
              "      <td>First day of new school year Please unlive me\\...</td>\n",
              "      <td>non-suicide</td>\n",
              "      <td>0</td>\n",
              "    </tr>\n",
              "    <tr>\n",
              "      <th>1</th>\n",
              "      <td>Just cut off the dude that makes me wanna kill...</td>\n",
              "      <td>non-suicide</td>\n",
              "      <td>0</td>\n",
              "    </tr>\n",
              "    <tr>\n",
              "      <th>2</th>\n",
              "      <td>Would you put ketchup or barbecue sauce on fis...</td>\n",
              "      <td>non-suicide</td>\n",
              "      <td>0</td>\n",
              "    </tr>\n",
              "    <tr>\n",
              "      <th>3</th>\n",
              "      <td>bruh I gotta figure out how to stop getting bo...</td>\n",
              "      <td>non-suicide</td>\n",
              "      <td>0</td>\n",
              "    </tr>\n",
              "    <tr>\n",
              "      <th>4</th>\n",
              "      <td>I FUCKING HATE MY BRAIN The story about this i...</td>\n",
              "      <td>non-suicide</td>\n",
              "      <td>0</td>\n",
              "    </tr>\n",
              "    <tr>\n",
              "      <th>...</th>\n",
              "      <td>...</td>\n",
              "      <td>...</td>\n",
              "      <td>...</td>\n",
              "    </tr>\n",
              "    <tr>\n",
              "      <th>6995</th>\n",
              "      <td>I just want to be goneI have a good life I gue...</td>\n",
              "      <td>suicide</td>\n",
              "      <td>1</td>\n",
              "    </tr>\n",
              "    <tr>\n",
              "      <th>6996</th>\n",
              "      <td>Even though I can laugh, I don't feel anything...</td>\n",
              "      <td>suicide</td>\n",
              "      <td>1</td>\n",
              "    </tr>\n",
              "    <tr>\n",
              "      <th>6997</th>\n",
              "      <td>I ordered heroin to od onnot sure why I'm sayi...</td>\n",
              "      <td>suicide</td>\n",
              "      <td>1</td>\n",
              "    </tr>\n",
              "    <tr>\n",
              "      <th>6998</th>\n",
              "      <td>Please Help MeI can't go on like this anymore....</td>\n",
              "      <td>suicide</td>\n",
              "      <td>1</td>\n",
              "    </tr>\n",
              "    <tr>\n",
              "      <th>6999</th>\n",
              "      <td>I'm getting scared for my best friendShe told ...</td>\n",
              "      <td>suicide</td>\n",
              "      <td>1</td>\n",
              "    </tr>\n",
              "  </tbody>\n",
              "</table>\n",
              "<p>7000 rows × 3 columns</p>\n",
              "</div>\n",
              "      <button class=\"colab-df-convert\" onclick=\"convertToInteractive('df-ef85e196-2ce8-4276-a676-299aefddfa27')\"\n",
              "              title=\"Convert this dataframe to an interactive table.\"\n",
              "              style=\"display:none;\">\n",
              "        \n",
              "  <svg xmlns=\"http://www.w3.org/2000/svg\" height=\"24px\"viewBox=\"0 0 24 24\"\n",
              "       width=\"24px\">\n",
              "    <path d=\"M0 0h24v24H0V0z\" fill=\"none\"/>\n",
              "    <path d=\"M18.56 5.44l.94 2.06.94-2.06 2.06-.94-2.06-.94-.94-2.06-.94 2.06-2.06.94zm-11 1L8.5 8.5l.94-2.06 2.06-.94-2.06-.94L8.5 2.5l-.94 2.06-2.06.94zm10 10l.94 2.06.94-2.06 2.06-.94-2.06-.94-.94-2.06-.94 2.06-2.06.94z\"/><path d=\"M17.41 7.96l-1.37-1.37c-.4-.4-.92-.59-1.43-.59-.52 0-1.04.2-1.43.59L10.3 9.45l-7.72 7.72c-.78.78-.78 2.05 0 2.83L4 21.41c.39.39.9.59 1.41.59.51 0 1.02-.2 1.41-.59l7.78-7.78 2.81-2.81c.8-.78.8-2.07 0-2.86zM5.41 20L4 18.59l7.72-7.72 1.47 1.35L5.41 20z\"/>\n",
              "  </svg>\n",
              "      </button>\n",
              "      \n",
              "  <style>\n",
              "    .colab-df-container {\n",
              "      display:flex;\n",
              "      flex-wrap:wrap;\n",
              "      gap: 12px;\n",
              "    }\n",
              "\n",
              "    .colab-df-convert {\n",
              "      background-color: #E8F0FE;\n",
              "      border: none;\n",
              "      border-radius: 50%;\n",
              "      cursor: pointer;\n",
              "      display: none;\n",
              "      fill: #1967D2;\n",
              "      height: 32px;\n",
              "      padding: 0 0 0 0;\n",
              "      width: 32px;\n",
              "    }\n",
              "\n",
              "    .colab-df-convert:hover {\n",
              "      background-color: #E2EBFA;\n",
              "      box-shadow: 0px 1px 2px rgba(60, 64, 67, 0.3), 0px 1px 3px 1px rgba(60, 64, 67, 0.15);\n",
              "      fill: #174EA6;\n",
              "    }\n",
              "\n",
              "    [theme=dark] .colab-df-convert {\n",
              "      background-color: #3B4455;\n",
              "      fill: #D2E3FC;\n",
              "    }\n",
              "\n",
              "    [theme=dark] .colab-df-convert:hover {\n",
              "      background-color: #434B5C;\n",
              "      box-shadow: 0px 1px 3px 1px rgba(0, 0, 0, 0.15);\n",
              "      filter: drop-shadow(0px 1px 2px rgba(0, 0, 0, 0.3));\n",
              "      fill: #FFFFFF;\n",
              "    }\n",
              "  </style>\n",
              "\n",
              "      <script>\n",
              "        const buttonEl =\n",
              "          document.querySelector('#df-ef85e196-2ce8-4276-a676-299aefddfa27 button.colab-df-convert');\n",
              "        buttonEl.style.display =\n",
              "          google.colab.kernel.accessAllowed ? 'block' : 'none';\n",
              "\n",
              "        async function convertToInteractive(key) {\n",
              "          const element = document.querySelector('#df-ef85e196-2ce8-4276-a676-299aefddfa27');\n",
              "          const dataTable =\n",
              "            await google.colab.kernel.invokeFunction('convertToInteractive',\n",
              "                                                     [key], {});\n",
              "          if (!dataTable) return;\n",
              "\n",
              "          const docLinkHtml = 'Like what you see? Visit the ' +\n",
              "            '<a target=\"_blank\" href=https://colab.research.google.com/notebooks/data_table.ipynb>data table notebook</a>'\n",
              "            + ' to learn more about interactive tables.';\n",
              "          element.innerHTML = '';\n",
              "          dataTable['output_type'] = 'display_data';\n",
              "          await google.colab.output.renderOutput(dataTable, element);\n",
              "          const docLink = document.createElement('div');\n",
              "          docLink.innerHTML = docLinkHtml;\n",
              "          element.appendChild(docLink);\n",
              "        }\n",
              "      </script>\n",
              "    </div>\n",
              "  </div>\n",
              "  "
            ]
          },
          "metadata": {},
          "execution_count": 28
        }
      ],
      "source": [
        "dff"
      ]
    },
    {
      "cell_type": "code",
      "execution_count": 29,
      "metadata": {
        "colab": {
          "base_uri": "https://localhost:8080/"
        },
        "id": "zHhfx1AoX5QR",
        "outputId": "a9e90316-2006-4cfe-9d6a-8be27a705b4e"
      },
      "outputs": [
        {
          "output_type": "stream",
          "name": "stdout",
          "text": [
            "Ex Wife Threatening SuicideRecently I left my wife for good because she has cheated on me twice and lied to me so much that I have decided to refuse to go back to her. As of a few days ago, she began threatening suicide. I have tirelessly spent these paat few days talking her out of it and she keeps hesitating because she wants to believe I'll come back. I know a lot of people will threaten this in order to get their way, but what happens if she really does? What do I do and how am I supposed to handle her death on my hands? I still love my wife but I cannot deal with getting cheated on again and constantly feeling insecure. I'm worried today may be the day she does it and I hope so much it doesn't happen.\n",
            "Am I weird I don't get affected by compliments if it's coming from someone I know irl but I feel really good when internet strangers do it\n",
            "Finally 2020 is almost over... So I can never hear \"2020 has been a bad year\" ever again. I swear to fucking God it's so annoying\n",
            "i need helpjust help me im crying so hard\n",
            "I’m so lostHello, my name is Adam (16) and I’ve been struggling for years and I’m afraid. Through these past years thoughts of suicide, fear, anxiety I’m so close to my limit . I’ve been quiet for so long and I’m too scared to come out to my family about these feelings. About 3 years ago  losing my aunt triggered it all. Everyday feeling hopeless , lost, guilty, and remorseful over her and all the things I’ve done in my life,but thoughts like these with the little I’ve experienced in life? Only time I’ve revealed these feelings to my family is when I broke down where they saw my cuts. Watching them get so worried over something I portrayed as an average day made me feel absolutely dreadful. They later found out I was an attempt survivor from attempt OD(overdose from pills) and attempt hanging. All that happened was a blackout from the pills and I never went through with the noose because I’m still so afraid. During my first therapy I was diagnosed with severe depression, social anxiety, and a eating disorder.\n",
            "I was later transferred to a fucken group therapy for some reason which made me feel more anxious. Eventually before my last session with a 1 on 1 therapy she showed me my results from a daily check up on my feelings(which was a 2 - step survey for me and my mom/dad )\n",
            "Come to find out as I’ve been putting feeling horrible and afraid/anxious everyday , my mom has been doing I’ve been doing absolutely amazing with me described as “happiest she’s ever seen me, therapy has helped him” \n",
            "I eventually was put on Sertaline (anti anxiety or anti depression I’m sorry I forgot) but I never finished my first prescription nor ever found the right type of anti depressant because my mom thought I only wanted the drugs so she took me off my recommended pill schedule after ~3 week and stopped me from taking them. All this time I’ve been feeling worse afraid of the damage/ worry I’ve caused them even more. \n",
            "Now here with everything going on, I’m as afraid as I’ve ever been . I’ve relapsed on cutting and have developed severe insomnia . Day after day feeling more hopeless, worthless questioning why am I still here? What’s my motivation to move out of bed and keep going? I ask these to myself nearly every night almost having a break down everytime. \n",
            "Please Please Please someone.. anyone help me.\n",
            "I’m so scared I might do something drastic, I’ve been shaped by fear and anxiety. Idk what to do anymore\n",
            "Honetly idkI dont know what im even doing here. I just feel like there is nothing and nowhere for me. All i can feel is either nothing or unbearably sad. Im ignoring friends every opitunity i can. I feel like im loosing my girlfriend. I only hurt everyone i talk too and i dont cause anything good. Im behind on my education, i feel alone but for the first time its not a feeling ive enjoyed. I have no hopes or dreams. I care about nothing, not family, not friends, not even my girlfriend (i still love her, its complicated and i dont have the words to describe it). \n",
            "\n",
            "I would do something to end myself but i know im not strong and brave enough to do it, and knowing im that weak makes me sadder. The only thing i can do is push away all emotion and be empty, because as bad as it is im used to it, its my way of being normal. \n",
            "\n",
            "I dont understand how people have hopes or dreams, and i mentioned how bad i was feeling to my girlfriend but she just got scared i would die so i havnt brought it up again. But in that talk i realised i cant even comprehend my life having meaning to anyone.\n",
            "\n",
            "I know this is just me rambling and i will probably regret posting this as ill think im taking the place of someone having a worse time with a gun to their head. I encoage all people who see this to help them instead of me. Ill probably suvive, they might not. Plus my life is meaningless and my future bleak, while they could cure cancer or something useful.\n",
            "\n",
            "Sorry for wasting your time\n",
            "[Trigger warning] Excuse for self inflicted burns*I do know the crisis line and used it after when I was having a panic attack.\n",
            "*I know it's not a healthy thing to do.\n",
            "\n",
            "But, I did. I did something stupid out of impulse. I burned myself.  I REALLY need help with an excuse as the father of my daughter knows my history (we were together 12 years.) He's seen my at my worst - but! I had always only cut on my ankles and wrists, I'm thinking the excuse for this would be easier than one for cuts.\n",
            "\n",
            "\n",
            " I did work on my car last night and I hadn't self harmed in a LONG time. I just did it without thinking, as usual; impulse and lost in the moment.\n",
            "\n",
            "\n",
            "Should I say I touched something under the hood while the car was still hot? I have 3 almost in a curved like pattern the first on forearm then down a little then on the side of my wrist. They are about an inch long, kind of wide and a little deep. \n",
            "\n",
            "I think the car excuse  is a good one but I would need to say what I was working on to explain the 3 burns. Maybe that there was a wire smooshed behind the engine and when I went to fix it I touched the engine? \n",
            "\n",
            "I do not want to self harm again, I just need to be able to explain this.\n",
            "It ends tonight.I can’t do it anymore. \n",
            "I quit.\n",
            "Everyone wants to be \"edgy\" and it's making me self conscious I feel like I don't stand out. I can draw yes and play the guitar but I honestly feel like am stuck in the past, my taste in music are all rock and alt metal from\n",
            "2000's to the 90's and it doesn't really make me feel unique it's just my style but seeing as my friends and classmates getting more into rap and EDM it's hard for me to feel like I fit in.\n",
            "The I don't feel like I stand out is because of all the others copying a style and if I do that I'd be just another\n",
            "\"Quirky kid\" who's in a cringey phase.\n",
            "Many of my friends say that I look good in grunge style and I kinda agree but it's hard for me to continue that if I can't even stand out from all the \"edgy\n",
            "People who wore crosses and wallet chains and do tiktoks\"\n",
            "\n",
            "Really feels like I don't fit in in all categories, am scared that people might confuse me with a CLOUT CHASER or a fucking tiktok e boy goddamn\n",
            "I hate my life\n",
            "My life is over at 20 years oldHello all. I am a 20 year old balding male. My hairline is trash and to make matters worse my head is HUGE. I have bipolar, depression and crippling social anxiety. Balding has been the cherry on top. I wear a hat 24/7 even in my room when I’m alone because I can’t stop thinking about it. I pop Xanax all day to try and numb the pain and it works for a little bit but it all comes crashing back twice as hard once I come down. I don’t know how to communicate with people anymore and I don’t know how to keep a relationship. I used to be one of the “popular kids” but after my dad passed away I feel into a deep dark hole. I’ve been arrested numerous times, been in rehab, mental hospitals, you name it. The only reason I haven’t killed myself yet is because of my mom and brothers. If I didn’t have them I’d be dead long ago. But it’s getting to the point where even their love and support isn’t going to be enough to keep me alive anymore. I’m either going to be the guy who killed himself, or the guy who went bald and 20 and looks like a child molestor. Which one would you choose?\n",
            "I took the rest of my sleeping pills and my painkillersI can’t wait for it to end, I’ve struggled for the past 6 years and I’m finally ending it.\n"
          ]
        }
      ],
      "source": [
        "for i in range(11):\n",
        "  print(df['text'][i])"
      ]
    },
    {
      "cell_type": "code",
      "source": [
        "from nltk.stem.porter import PorterStemmer\n",
        "lemma = WordNetLemmatizer()\n",
        "PS = PorterStemmer()"
      ],
      "metadata": {
        "id": "R9IQ3uzGMJlI"
      },
      "execution_count": 30,
      "outputs": []
    },
    {
      "cell_type": "code",
      "execution_count": 31,
      "metadata": {
        "id": "C178yWxmZo4B"
      },
      "outputs": [],
      "source": [
        "dff['text'] = dff['text'].apply(lambda x: ' '.join([comment for comment in str(x).split() if not comment.startswith('@')]))"
      ]
    },
    {
      "cell_type": "code",
      "execution_count": 32,
      "metadata": {
        "id": "pmBr7rdzk9wm"
      },
      "outputs": [],
      "source": [
        "def clean_text(text): \n",
        "\n",
        "  \n",
        "  text = text.lower() \n",
        "\n",
        "\n",
        "  pattern = re.compile('http[s]?://(?:[a-zA-Z]|[0-9]|[$-_@.&+]|[!*\\(\\),]|(?:%[0-9a-fA-F][0-9a-fA-F]))+')\n",
        "  text = pattern.sub('', text)\n",
        "  \n",
        "  \n",
        "  text = re.sub(r\"[,.\\\"!@$%^&*(){}?/;`~:<>+=-]\", \"\", text)\n",
        "\n",
        "  \n",
        "  tokens = word_tokenize(text)\n",
        "  \n",
        "  table = str.maketrans('', '', string.punctuation)\n",
        "  stripped = [w.translate(table) for w in tokens]\n",
        "\n",
        "  \n",
        "  words = [ word for word in stripped if word.isalpha() ] \n",
        "  \n",
        "  stop_words = set(stopwords.words(\"english\"))\n",
        "  words = [w for w in words if not w in stop_words]  \n",
        "\n",
        "  #words = [lemma.lemmatize(w) for w in words]\n",
        "\n",
        " \n",
        "  words = [PS.stem(w) for w in words] \n",
        "  \n",
        "  words = ' '.join(words) \n",
        "\n",
        "  return words"
      ]
    },
    {
      "cell_type": "code",
      "execution_count": 33,
      "metadata": {
        "id": "PIivjZ92p406"
      },
      "outputs": [],
      "source": [
        "dff['clean_text'] = dff['text'].apply(lambda text: clean_text(text))"
      ]
    },
    {
      "cell_type": "code",
      "execution_count": 34,
      "metadata": {
        "colab": {
          "base_uri": "https://localhost:8080/"
        },
        "id": "29FFHmRtYBA1",
        "outputId": "6394b0b3-90df-49e1-d2ea-8f9db7e446ce"
      },
      "outputs": [
        {
          "output_type": "stream",
          "name": "stdout",
          "text": [
            "first day new school year pleas unliv filler filler filler filler filler filler filler filler filler filler filler filler\n",
            "cut dude make wan na kill time happier biggest piec shit ever happi best friend live peac without like ah cut ass think fine done thing done also toxic friend get better trust\n",
            "would put ketchup barbecu sauc fish would consid abomin societi\n",
            "bruh got ta figur stop get bone everytim hear girlfriend voic h e l p\n",
            "fuck hate brain stori good dream good one fuck piec meat insid skull woke middl fuck night say pp goe broom broom want know dream\n",
            "anyon els think concept race gender whole fuck garbag there liter need differenti peopl someth born especi doesnt matter racismsex even wors pointless let peopl arewanna\n",
            "cute take compliment move\n",
            "anyon wan na join gc slot left llllllllllllllllllmdjdjejiajhwuudidjdjdhdhudusjshwhwbwbehwehebebbeheheh\n",
            "hour get readi nnn come tri die\n",
            "mad cup noodl gt put paper back top noodl went move wait cook bitch ass decid nah ima burn person hand hand hurt\n",
            "lazi ass sister lost dog even look last night pure bred basset hound pen sister tri sneak room well asleep sister tri appar somebodi let dog outsid ran lazi ass sister look fault know much dog worth eight hundr buck first got reason run almost time everi time mom step dad make look liter chase peopl properti matter obvious gunna get shot rural usa fuck\n"
          ]
        }
      ],
      "source": [
        "for i in range(11):\n",
        "  print(dff['clean_text'][i])"
      ]
    },
    {
      "cell_type": "code",
      "execution_count": 35,
      "metadata": {
        "id": "iSU7rHF0hDjx"
      },
      "outputs": [],
      "source": [
        "dff['word_count'] = dff['clean_text'].apply(lambda x: len(x.split()))"
      ]
    },
    {
      "cell_type": "code",
      "execution_count": 36,
      "metadata": {
        "colab": {
          "base_uri": "https://localhost:8080/",
          "height": 520
        },
        "id": "QD08xyWKgrpt",
        "outputId": "a465a8b1-943a-4a38-ecfe-8a2a176e1c04"
      },
      "outputs": [
        {
          "output_type": "execute_result",
          "data": {
            "text/plain": [
              "                                                 text        class  label  \\\n",
              "0   First day of new school year Please unlive me ...  non-suicide      0   \n",
              "1   Just cut off the dude that makes me wanna kill...  non-suicide      0   \n",
              "2   Would you put ketchup or barbecue sauce on fis...  non-suicide      0   \n",
              "3   bruh I gotta figure out how to stop getting bo...  non-suicide      0   \n",
              "4   I FUCKING HATE MY BRAIN The story about this i...  non-suicide      0   \n",
              "5   Anyone else just think that the concepts of ra...  non-suicide      0   \n",
              "6       you’re cute take the compliment and move on 🔫  non-suicide      0   \n",
              "7   Anyone wanna join a gc? Only 1 slot left. Llll...  non-suicide      0   \n",
              "8   7.5 hours Get ready. NNN is coming. Try not to...  non-suicide      0   \n",
              "9   I’m mad at my cup of noodles &gt;:( So I was p...  non-suicide      0   \n",
              "10  My lazy ass sister lost the dog and won’t even...  non-suicide      0   \n",
              "11  do u recognize me im pretty cool, sometimes I ...  non-suicide      0   \n",
              "12  What if sandwiches are just food orgy's ? Idk ...  non-suicide      0   \n",
              "13  Not being old enough to have a job SUCKS Your ...  non-suicide      0   \n",
              "14  What is the best color to have led strip light...  non-suicide      0   \n",
              "\n",
              "                                           clean_text  word_count  \n",
              "0   first day new school year pleas unliv filler f...          19  \n",
              "1   cut dude make wan na kill time happier biggest...          33  \n",
              "2   would put ketchup barbecu sauc fish would cons...          10  \n",
              "3   bruh got ta figur stop get bone everytim hear ...          15  \n",
              "4   fuck hate brain stori good dream good one fuck...          25  \n",
              "5   anyon els think concept race gender whole fuck...          26  \n",
              "6                           cute take compliment move           4  \n",
              "7   anyon wan na join gc slot left lllllllllllllll...           8  \n",
              "8                     hour get readi nnn come tri die           7  \n",
              "9   mad cup noodl gt put paper back top noodl went...          23  \n",
              "10  lazi ass sister lost dog even look last night ...          65  \n",
              "11  u recogn im pretti cool sometim make unfunni p...          21  \n",
              "12  sandwich food orgi idk got think veggietal por...          10  \n",
              "13  old enough job suck stuck poor till old enough...          14  \n",
              "14  best color led strip light set got new one won...          17  "
            ],
            "text/html": [
              "\n",
              "  <div id=\"df-c931f9a8-e781-4c53-b9a8-c48c081590c1\">\n",
              "    <div class=\"colab-df-container\">\n",
              "      <div>\n",
              "<style scoped>\n",
              "    .dataframe tbody tr th:only-of-type {\n",
              "        vertical-align: middle;\n",
              "    }\n",
              "\n",
              "    .dataframe tbody tr th {\n",
              "        vertical-align: top;\n",
              "    }\n",
              "\n",
              "    .dataframe thead th {\n",
              "        text-align: right;\n",
              "    }\n",
              "</style>\n",
              "<table border=\"1\" class=\"dataframe\">\n",
              "  <thead>\n",
              "    <tr style=\"text-align: right;\">\n",
              "      <th></th>\n",
              "      <th>text</th>\n",
              "      <th>class</th>\n",
              "      <th>label</th>\n",
              "      <th>clean_text</th>\n",
              "      <th>word_count</th>\n",
              "    </tr>\n",
              "  </thead>\n",
              "  <tbody>\n",
              "    <tr>\n",
              "      <th>0</th>\n",
              "      <td>First day of new school year Please unlive me ...</td>\n",
              "      <td>non-suicide</td>\n",
              "      <td>0</td>\n",
              "      <td>first day new school year pleas unliv filler f...</td>\n",
              "      <td>19</td>\n",
              "    </tr>\n",
              "    <tr>\n",
              "      <th>1</th>\n",
              "      <td>Just cut off the dude that makes me wanna kill...</td>\n",
              "      <td>non-suicide</td>\n",
              "      <td>0</td>\n",
              "      <td>cut dude make wan na kill time happier biggest...</td>\n",
              "      <td>33</td>\n",
              "    </tr>\n",
              "    <tr>\n",
              "      <th>2</th>\n",
              "      <td>Would you put ketchup or barbecue sauce on fis...</td>\n",
              "      <td>non-suicide</td>\n",
              "      <td>0</td>\n",
              "      <td>would put ketchup barbecu sauc fish would cons...</td>\n",
              "      <td>10</td>\n",
              "    </tr>\n",
              "    <tr>\n",
              "      <th>3</th>\n",
              "      <td>bruh I gotta figure out how to stop getting bo...</td>\n",
              "      <td>non-suicide</td>\n",
              "      <td>0</td>\n",
              "      <td>bruh got ta figur stop get bone everytim hear ...</td>\n",
              "      <td>15</td>\n",
              "    </tr>\n",
              "    <tr>\n",
              "      <th>4</th>\n",
              "      <td>I FUCKING HATE MY BRAIN The story about this i...</td>\n",
              "      <td>non-suicide</td>\n",
              "      <td>0</td>\n",
              "      <td>fuck hate brain stori good dream good one fuck...</td>\n",
              "      <td>25</td>\n",
              "    </tr>\n",
              "    <tr>\n",
              "      <th>5</th>\n",
              "      <td>Anyone else just think that the concepts of ra...</td>\n",
              "      <td>non-suicide</td>\n",
              "      <td>0</td>\n",
              "      <td>anyon els think concept race gender whole fuck...</td>\n",
              "      <td>26</td>\n",
              "    </tr>\n",
              "    <tr>\n",
              "      <th>6</th>\n",
              "      <td>you’re cute take the compliment and move on 🔫</td>\n",
              "      <td>non-suicide</td>\n",
              "      <td>0</td>\n",
              "      <td>cute take compliment move</td>\n",
              "      <td>4</td>\n",
              "    </tr>\n",
              "    <tr>\n",
              "      <th>7</th>\n",
              "      <td>Anyone wanna join a gc? Only 1 slot left. Llll...</td>\n",
              "      <td>non-suicide</td>\n",
              "      <td>0</td>\n",
              "      <td>anyon wan na join gc slot left lllllllllllllll...</td>\n",
              "      <td>8</td>\n",
              "    </tr>\n",
              "    <tr>\n",
              "      <th>8</th>\n",
              "      <td>7.5 hours Get ready. NNN is coming. Try not to...</td>\n",
              "      <td>non-suicide</td>\n",
              "      <td>0</td>\n",
              "      <td>hour get readi nnn come tri die</td>\n",
              "      <td>7</td>\n",
              "    </tr>\n",
              "    <tr>\n",
              "      <th>9</th>\n",
              "      <td>I’m mad at my cup of noodles &amp;gt;:( So I was p...</td>\n",
              "      <td>non-suicide</td>\n",
              "      <td>0</td>\n",
              "      <td>mad cup noodl gt put paper back top noodl went...</td>\n",
              "      <td>23</td>\n",
              "    </tr>\n",
              "    <tr>\n",
              "      <th>10</th>\n",
              "      <td>My lazy ass sister lost the dog and won’t even...</td>\n",
              "      <td>non-suicide</td>\n",
              "      <td>0</td>\n",
              "      <td>lazi ass sister lost dog even look last night ...</td>\n",
              "      <td>65</td>\n",
              "    </tr>\n",
              "    <tr>\n",
              "      <th>11</th>\n",
              "      <td>do u recognize me im pretty cool, sometimes I ...</td>\n",
              "      <td>non-suicide</td>\n",
              "      <td>0</td>\n",
              "      <td>u recogn im pretti cool sometim make unfunni p...</td>\n",
              "      <td>21</td>\n",
              "    </tr>\n",
              "    <tr>\n",
              "      <th>12</th>\n",
              "      <td>What if sandwiches are just food orgy's ? Idk ...</td>\n",
              "      <td>non-suicide</td>\n",
              "      <td>0</td>\n",
              "      <td>sandwich food orgi idk got think veggietal por...</td>\n",
              "      <td>10</td>\n",
              "    </tr>\n",
              "    <tr>\n",
              "      <th>13</th>\n",
              "      <td>Not being old enough to have a job SUCKS Your ...</td>\n",
              "      <td>non-suicide</td>\n",
              "      <td>0</td>\n",
              "      <td>old enough job suck stuck poor till old enough...</td>\n",
              "      <td>14</td>\n",
              "    </tr>\n",
              "    <tr>\n",
              "      <th>14</th>\n",
              "      <td>What is the best color to have led strip light...</td>\n",
              "      <td>non-suicide</td>\n",
              "      <td>0</td>\n",
              "      <td>best color led strip light set got new one won...</td>\n",
              "      <td>17</td>\n",
              "    </tr>\n",
              "  </tbody>\n",
              "</table>\n",
              "</div>\n",
              "      <button class=\"colab-df-convert\" onclick=\"convertToInteractive('df-c931f9a8-e781-4c53-b9a8-c48c081590c1')\"\n",
              "              title=\"Convert this dataframe to an interactive table.\"\n",
              "              style=\"display:none;\">\n",
              "        \n",
              "  <svg xmlns=\"http://www.w3.org/2000/svg\" height=\"24px\"viewBox=\"0 0 24 24\"\n",
              "       width=\"24px\">\n",
              "    <path d=\"M0 0h24v24H0V0z\" fill=\"none\"/>\n",
              "    <path d=\"M18.56 5.44l.94 2.06.94-2.06 2.06-.94-2.06-.94-.94-2.06-.94 2.06-2.06.94zm-11 1L8.5 8.5l.94-2.06 2.06-.94-2.06-.94L8.5 2.5l-.94 2.06-2.06.94zm10 10l.94 2.06.94-2.06 2.06-.94-2.06-.94-.94-2.06-.94 2.06-2.06.94z\"/><path d=\"M17.41 7.96l-1.37-1.37c-.4-.4-.92-.59-1.43-.59-.52 0-1.04.2-1.43.59L10.3 9.45l-7.72 7.72c-.78.78-.78 2.05 0 2.83L4 21.41c.39.39.9.59 1.41.59.51 0 1.02-.2 1.41-.59l7.78-7.78 2.81-2.81c.8-.78.8-2.07 0-2.86zM5.41 20L4 18.59l7.72-7.72 1.47 1.35L5.41 20z\"/>\n",
              "  </svg>\n",
              "      </button>\n",
              "      \n",
              "  <style>\n",
              "    .colab-df-container {\n",
              "      display:flex;\n",
              "      flex-wrap:wrap;\n",
              "      gap: 12px;\n",
              "    }\n",
              "\n",
              "    .colab-df-convert {\n",
              "      background-color: #E8F0FE;\n",
              "      border: none;\n",
              "      border-radius: 50%;\n",
              "      cursor: pointer;\n",
              "      display: none;\n",
              "      fill: #1967D2;\n",
              "      height: 32px;\n",
              "      padding: 0 0 0 0;\n",
              "      width: 32px;\n",
              "    }\n",
              "\n",
              "    .colab-df-convert:hover {\n",
              "      background-color: #E2EBFA;\n",
              "      box-shadow: 0px 1px 2px rgba(60, 64, 67, 0.3), 0px 1px 3px 1px rgba(60, 64, 67, 0.15);\n",
              "      fill: #174EA6;\n",
              "    }\n",
              "\n",
              "    [theme=dark] .colab-df-convert {\n",
              "      background-color: #3B4455;\n",
              "      fill: #D2E3FC;\n",
              "    }\n",
              "\n",
              "    [theme=dark] .colab-df-convert:hover {\n",
              "      background-color: #434B5C;\n",
              "      box-shadow: 0px 1px 3px 1px rgba(0, 0, 0, 0.15);\n",
              "      filter: drop-shadow(0px 1px 2px rgba(0, 0, 0, 0.3));\n",
              "      fill: #FFFFFF;\n",
              "    }\n",
              "  </style>\n",
              "\n",
              "      <script>\n",
              "        const buttonEl =\n",
              "          document.querySelector('#df-c931f9a8-e781-4c53-b9a8-c48c081590c1 button.colab-df-convert');\n",
              "        buttonEl.style.display =\n",
              "          google.colab.kernel.accessAllowed ? 'block' : 'none';\n",
              "\n",
              "        async function convertToInteractive(key) {\n",
              "          const element = document.querySelector('#df-c931f9a8-e781-4c53-b9a8-c48c081590c1');\n",
              "          const dataTable =\n",
              "            await google.colab.kernel.invokeFunction('convertToInteractive',\n",
              "                                                     [key], {});\n",
              "          if (!dataTable) return;\n",
              "\n",
              "          const docLinkHtml = 'Like what you see? Visit the ' +\n",
              "            '<a target=\"_blank\" href=https://colab.research.google.com/notebooks/data_table.ipynb>data table notebook</a>'\n",
              "            + ' to learn more about interactive tables.';\n",
              "          element.innerHTML = '';\n",
              "          dataTable['output_type'] = 'display_data';\n",
              "          await google.colab.output.renderOutput(dataTable, element);\n",
              "          const docLink = document.createElement('div');\n",
              "          docLink.innerHTML = docLinkHtml;\n",
              "          element.appendChild(docLink);\n",
              "        }\n",
              "      </script>\n",
              "    </div>\n",
              "  </div>\n",
              "  "
            ]
          },
          "metadata": {},
          "execution_count": 36
        }
      ],
      "source": [
        "dff.head(15)"
      ]
    },
    {
      "cell_type": "code",
      "execution_count": 37,
      "metadata": {
        "colab": {
          "base_uri": "https://localhost:8080/",
          "height": 520
        },
        "id": "rEpHKlMkg2fe",
        "outputId": "4ae2fb0e-a23e-4363-89e1-eac65335f750"
      },
      "outputs": [
        {
          "output_type": "execute_result",
          "data": {
            "text/plain": [
              "                                                   text    class  label  \\\n",
              "6985  Planning it, but hurt right nowI dont really h...  suicide      1   \n",
              "6986  I Have Tried So HardI am 23 years old and I ha...  suicide      1   \n",
              "6987  I feel terribleUsually i have so many thoughts...  suicide      1   \n",
              "6988  Need advice pleaseThis is the fourth time rewr...  suicide      1   \n",
              "6989  I need to get to Wednesday, please helpI made ...  suicide      1   \n",
              "6990  I need someone to talk to...I was abused by my...  suicide      1   \n",
              "6991  feeling badhello guys,i feel pretty helpless a...  suicide      1   \n",
              "6992  I asked two friends for help. One doesnt want ...  suicide      1   \n",
              "6993  I don’t know what to doSorry for the long ramb...  suicide      1   \n",
              "6994  spiraling depressionSo I have had the feeling ...  suicide      1   \n",
              "6995  I just want to be goneI have a good life I gue...  suicide      1   \n",
              "6996  Even though I can laugh, I don't feel anything...  suicide      1   \n",
              "6997  I ordered heroin to od onnot sure why I'm sayi...  suicide      1   \n",
              "6998  Please Help MeI can't go on like this anymore....  suicide      1   \n",
              "6999  I'm getting scared for my best friendShe told ...  suicide      1   \n",
              "\n",
              "                                             clean_text  word_count  \n",
              "6985  plan hurt right nowi dont realli anyon els tal...          94  \n",
              "6986  tri hardi year old suicid sinc probabl longer ...          55  \n",
              "6987  feel terribleusu mani thought nt even know wri...         111  \n",
              "6988  need advic pleasethi fourth time rewrit sorri ...         194  \n",
              "6989  need get wednesday pleas helpi made promis psy...          71  \n",
              "6990  need someon talk toi abus mother father grow m...         185  \n",
              "6991  feel badhello guysi feel pretti helpless momen...         197  \n",
              "6992  ask two friend help one doesnt want talk lefti...          14  \n",
              "6993  know dosorri long rambl post know start strugg...         138  \n",
              "6994  spiral depressionso feel thing ever get wors r...          37  \n",
              "6995  want gonei good life guess realli tire fed giv...          17  \n",
              "6996  even though laugh nt feel anythingi know year ...         206  \n",
              "6997  order heroin od onnot sure say guess know stro...          41  \n",
              "6998  pleas help mei ca nt go like anymor wait sinc ...          47  \n",
              "6999  get scare best friendsh told show anybodi need...          82  "
            ],
            "text/html": [
              "\n",
              "  <div id=\"df-016b0f29-ba8e-4167-b862-357004e5ae97\">\n",
              "    <div class=\"colab-df-container\">\n",
              "      <div>\n",
              "<style scoped>\n",
              "    .dataframe tbody tr th:only-of-type {\n",
              "        vertical-align: middle;\n",
              "    }\n",
              "\n",
              "    .dataframe tbody tr th {\n",
              "        vertical-align: top;\n",
              "    }\n",
              "\n",
              "    .dataframe thead th {\n",
              "        text-align: right;\n",
              "    }\n",
              "</style>\n",
              "<table border=\"1\" class=\"dataframe\">\n",
              "  <thead>\n",
              "    <tr style=\"text-align: right;\">\n",
              "      <th></th>\n",
              "      <th>text</th>\n",
              "      <th>class</th>\n",
              "      <th>label</th>\n",
              "      <th>clean_text</th>\n",
              "      <th>word_count</th>\n",
              "    </tr>\n",
              "  </thead>\n",
              "  <tbody>\n",
              "    <tr>\n",
              "      <th>6985</th>\n",
              "      <td>Planning it, but hurt right nowI dont really h...</td>\n",
              "      <td>suicide</td>\n",
              "      <td>1</td>\n",
              "      <td>plan hurt right nowi dont realli anyon els tal...</td>\n",
              "      <td>94</td>\n",
              "    </tr>\n",
              "    <tr>\n",
              "      <th>6986</th>\n",
              "      <td>I Have Tried So HardI am 23 years old and I ha...</td>\n",
              "      <td>suicide</td>\n",
              "      <td>1</td>\n",
              "      <td>tri hardi year old suicid sinc probabl longer ...</td>\n",
              "      <td>55</td>\n",
              "    </tr>\n",
              "    <tr>\n",
              "      <th>6987</th>\n",
              "      <td>I feel terribleUsually i have so many thoughts...</td>\n",
              "      <td>suicide</td>\n",
              "      <td>1</td>\n",
              "      <td>feel terribleusu mani thought nt even know wri...</td>\n",
              "      <td>111</td>\n",
              "    </tr>\n",
              "    <tr>\n",
              "      <th>6988</th>\n",
              "      <td>Need advice pleaseThis is the fourth time rewr...</td>\n",
              "      <td>suicide</td>\n",
              "      <td>1</td>\n",
              "      <td>need advic pleasethi fourth time rewrit sorri ...</td>\n",
              "      <td>194</td>\n",
              "    </tr>\n",
              "    <tr>\n",
              "      <th>6989</th>\n",
              "      <td>I need to get to Wednesday, please helpI made ...</td>\n",
              "      <td>suicide</td>\n",
              "      <td>1</td>\n",
              "      <td>need get wednesday pleas helpi made promis psy...</td>\n",
              "      <td>71</td>\n",
              "    </tr>\n",
              "    <tr>\n",
              "      <th>6990</th>\n",
              "      <td>I need someone to talk to...I was abused by my...</td>\n",
              "      <td>suicide</td>\n",
              "      <td>1</td>\n",
              "      <td>need someon talk toi abus mother father grow m...</td>\n",
              "      <td>185</td>\n",
              "    </tr>\n",
              "    <tr>\n",
              "      <th>6991</th>\n",
              "      <td>feeling badhello guys,i feel pretty helpless a...</td>\n",
              "      <td>suicide</td>\n",
              "      <td>1</td>\n",
              "      <td>feel badhello guysi feel pretti helpless momen...</td>\n",
              "      <td>197</td>\n",
              "    </tr>\n",
              "    <tr>\n",
              "      <th>6992</th>\n",
              "      <td>I asked two friends for help. One doesnt want ...</td>\n",
              "      <td>suicide</td>\n",
              "      <td>1</td>\n",
              "      <td>ask two friend help one doesnt want talk lefti...</td>\n",
              "      <td>14</td>\n",
              "    </tr>\n",
              "    <tr>\n",
              "      <th>6993</th>\n",
              "      <td>I don’t know what to doSorry for the long ramb...</td>\n",
              "      <td>suicide</td>\n",
              "      <td>1</td>\n",
              "      <td>know dosorri long rambl post know start strugg...</td>\n",
              "      <td>138</td>\n",
              "    </tr>\n",
              "    <tr>\n",
              "      <th>6994</th>\n",
              "      <td>spiraling depressionSo I have had the feeling ...</td>\n",
              "      <td>suicide</td>\n",
              "      <td>1</td>\n",
              "      <td>spiral depressionso feel thing ever get wors r...</td>\n",
              "      <td>37</td>\n",
              "    </tr>\n",
              "    <tr>\n",
              "      <th>6995</th>\n",
              "      <td>I just want to be goneI have a good life I gue...</td>\n",
              "      <td>suicide</td>\n",
              "      <td>1</td>\n",
              "      <td>want gonei good life guess realli tire fed giv...</td>\n",
              "      <td>17</td>\n",
              "    </tr>\n",
              "    <tr>\n",
              "      <th>6996</th>\n",
              "      <td>Even though I can laugh, I don't feel anything...</td>\n",
              "      <td>suicide</td>\n",
              "      <td>1</td>\n",
              "      <td>even though laugh nt feel anythingi know year ...</td>\n",
              "      <td>206</td>\n",
              "    </tr>\n",
              "    <tr>\n",
              "      <th>6997</th>\n",
              "      <td>I ordered heroin to od onnot sure why I'm sayi...</td>\n",
              "      <td>suicide</td>\n",
              "      <td>1</td>\n",
              "      <td>order heroin od onnot sure say guess know stro...</td>\n",
              "      <td>41</td>\n",
              "    </tr>\n",
              "    <tr>\n",
              "      <th>6998</th>\n",
              "      <td>Please Help MeI can't go on like this anymore....</td>\n",
              "      <td>suicide</td>\n",
              "      <td>1</td>\n",
              "      <td>pleas help mei ca nt go like anymor wait sinc ...</td>\n",
              "      <td>47</td>\n",
              "    </tr>\n",
              "    <tr>\n",
              "      <th>6999</th>\n",
              "      <td>I'm getting scared for my best friendShe told ...</td>\n",
              "      <td>suicide</td>\n",
              "      <td>1</td>\n",
              "      <td>get scare best friendsh told show anybodi need...</td>\n",
              "      <td>82</td>\n",
              "    </tr>\n",
              "  </tbody>\n",
              "</table>\n",
              "</div>\n",
              "      <button class=\"colab-df-convert\" onclick=\"convertToInteractive('df-016b0f29-ba8e-4167-b862-357004e5ae97')\"\n",
              "              title=\"Convert this dataframe to an interactive table.\"\n",
              "              style=\"display:none;\">\n",
              "        \n",
              "  <svg xmlns=\"http://www.w3.org/2000/svg\" height=\"24px\"viewBox=\"0 0 24 24\"\n",
              "       width=\"24px\">\n",
              "    <path d=\"M0 0h24v24H0V0z\" fill=\"none\"/>\n",
              "    <path d=\"M18.56 5.44l.94 2.06.94-2.06 2.06-.94-2.06-.94-.94-2.06-.94 2.06-2.06.94zm-11 1L8.5 8.5l.94-2.06 2.06-.94-2.06-.94L8.5 2.5l-.94 2.06-2.06.94zm10 10l.94 2.06.94-2.06 2.06-.94-2.06-.94-.94-2.06-.94 2.06-2.06.94z\"/><path d=\"M17.41 7.96l-1.37-1.37c-.4-.4-.92-.59-1.43-.59-.52 0-1.04.2-1.43.59L10.3 9.45l-7.72 7.72c-.78.78-.78 2.05 0 2.83L4 21.41c.39.39.9.59 1.41.59.51 0 1.02-.2 1.41-.59l7.78-7.78 2.81-2.81c.8-.78.8-2.07 0-2.86zM5.41 20L4 18.59l7.72-7.72 1.47 1.35L5.41 20z\"/>\n",
              "  </svg>\n",
              "      </button>\n",
              "      \n",
              "  <style>\n",
              "    .colab-df-container {\n",
              "      display:flex;\n",
              "      flex-wrap:wrap;\n",
              "      gap: 12px;\n",
              "    }\n",
              "\n",
              "    .colab-df-convert {\n",
              "      background-color: #E8F0FE;\n",
              "      border: none;\n",
              "      border-radius: 50%;\n",
              "      cursor: pointer;\n",
              "      display: none;\n",
              "      fill: #1967D2;\n",
              "      height: 32px;\n",
              "      padding: 0 0 0 0;\n",
              "      width: 32px;\n",
              "    }\n",
              "\n",
              "    .colab-df-convert:hover {\n",
              "      background-color: #E2EBFA;\n",
              "      box-shadow: 0px 1px 2px rgba(60, 64, 67, 0.3), 0px 1px 3px 1px rgba(60, 64, 67, 0.15);\n",
              "      fill: #174EA6;\n",
              "    }\n",
              "\n",
              "    [theme=dark] .colab-df-convert {\n",
              "      background-color: #3B4455;\n",
              "      fill: #D2E3FC;\n",
              "    }\n",
              "\n",
              "    [theme=dark] .colab-df-convert:hover {\n",
              "      background-color: #434B5C;\n",
              "      box-shadow: 0px 1px 3px 1px rgba(0, 0, 0, 0.15);\n",
              "      filter: drop-shadow(0px 1px 2px rgba(0, 0, 0, 0.3));\n",
              "      fill: #FFFFFF;\n",
              "    }\n",
              "  </style>\n",
              "\n",
              "      <script>\n",
              "        const buttonEl =\n",
              "          document.querySelector('#df-016b0f29-ba8e-4167-b862-357004e5ae97 button.colab-df-convert');\n",
              "        buttonEl.style.display =\n",
              "          google.colab.kernel.accessAllowed ? 'block' : 'none';\n",
              "\n",
              "        async function convertToInteractive(key) {\n",
              "          const element = document.querySelector('#df-016b0f29-ba8e-4167-b862-357004e5ae97');\n",
              "          const dataTable =\n",
              "            await google.colab.kernel.invokeFunction('convertToInteractive',\n",
              "                                                     [key], {});\n",
              "          if (!dataTable) return;\n",
              "\n",
              "          const docLinkHtml = 'Like what you see? Visit the ' +\n",
              "            '<a target=\"_blank\" href=https://colab.research.google.com/notebooks/data_table.ipynb>data table notebook</a>'\n",
              "            + ' to learn more about interactive tables.';\n",
              "          element.innerHTML = '';\n",
              "          dataTable['output_type'] = 'display_data';\n",
              "          await google.colab.output.renderOutput(dataTable, element);\n",
              "          const docLink = document.createElement('div');\n",
              "          docLink.innerHTML = docLinkHtml;\n",
              "          element.appendChild(docLink);\n",
              "        }\n",
              "      </script>\n",
              "    </div>\n",
              "  </div>\n",
              "  "
            ]
          },
          "metadata": {},
          "execution_count": 37
        }
      ],
      "source": [
        "dff.tail(15)"
      ]
    },
    {
      "cell_type": "code",
      "execution_count": 38,
      "metadata": {
        "colab": {
          "base_uri": "https://localhost:8080/",
          "height": 446
        },
        "id": "2Sjx0_zGhETa",
        "outputId": "50733d88-4076-4993-a121-5650816bb8bc"
      },
      "outputs": [
        {
          "output_type": "display_data",
          "data": {
            "text/plain": [
              "<Figure size 576x432 with 1 Axes>"
            ],
            "image/png": "[encoded data removed]"
          },
          "metadata": {}
        }
      ],
      "source": [
        "sns.displot(data = dff, x = dff.word_count[ df['label'] == 1 ], bins=400, color='coral')\n",
        "plt.gcf().set_size_inches(8, 6)\n",
        "\n",
        "plt.xlim(0, 400)\n",
        "plt.title('Sentence length of socidal comments')\n",
        "plt.xlabel('Sentence length')\n",
        "plt.ylabel('Frequency');"
      ]
    },
    {
      "cell_type": "code",
      "execution_count": 39,
      "metadata": {
        "colab": {
          "base_uri": "https://localhost:8080/",
          "height": 444
        },
        "id": "OYeSnFSijAhr",
        "outputId": "280c6b66-39a1-4f1b-ef50-a948355a73e3"
      },
      "outputs": [
        {
          "output_type": "display_data",
          "data": {
            "text/plain": [
              "<Figure size 576x432 with 1 Axes>"
            ],
            "image/png": "[encoded data removed]"
          },
          "metadata": {}
        }
      ],
      "source": [
        "sns.displot(data = dff, x = dff.word_count[ dff['label'] == 0 ], bins=400, color='coral')\n",
        "plt.gcf().set_size_inches(8, 6)\n",
        "\n",
        "plt.xlim(0, 150)\n",
        "plt.title('Sentence length of non-socidal comments')\n",
        "plt.xlabel('Sentence Length')\n",
        "plt.ylabel('Frequency');"
      ]
    },
    {
      "cell_type": "code",
      "source": [
        "dff.isna().sum()"
      ],
      "metadata": {
        "colab": {
          "base_uri": "https://localhost:8080/"
        },
        "id": "82k1IrLCfC5I",
        "outputId": "3ef8ce0e-50b6-4835-b105-e01798487545"
      },
      "execution_count": 40,
      "outputs": [
        {
          "output_type": "execute_result",
          "data": {
            "text/plain": [
              "text          0\n",
              "class         0\n",
              "label         0\n",
              "clean_text    0\n",
              "word_count    0\n",
              "dtype: int64"
            ]
          },
          "metadata": {},
          "execution_count": 40
        }
      ]
    },
    {
      "cell_type": "code",
      "source": [
        "X = dff['clean_text']\n",
        "Y = dff['label'].values"
      ],
      "metadata": {
        "id": "GNzJdpCUfJcp"
      },
      "execution_count": 41,
      "outputs": []
    },
    {
      "cell_type": "code",
      "source": [
        "X.shape, Y.shape"
      ],
      "metadata": {
        "colab": {
          "base_uri": "https://localhost:8080/"
        },
        "id": "q7ti9ZxKfOXq",
        "outputId": "969a53aa-a321-4117-cfe8-ea362bf87c11"
      },
      "execution_count": 42,
      "outputs": [
        {
          "output_type": "execute_result",
          "data": {
            "text/plain": [
              "((7000,), (7000,))"
            ]
          },
          "metadata": {},
          "execution_count": 42
        }
      ]
    },
    {
      "cell_type": "code",
      "source": [
        "from tensorflow.keras.preprocessing import text, sequence\n",
        "from nltk.tokenize import word_tokenize\n",
        "from gensim.models import Word2Vec\n",
        "from keras import backend as K\n",
        "import os\n",
        "from tensorflow.keras.preprocessing.text import Tokenizer\n",
        "from tensorflow.keras.preprocessing.sequence import pad_sequences\n",
        "from keras.models import Sequential\n",
        "from keras.layers import Dense, Embedding, LSTM, Dropout, Flatten, Conv1D, GlobalMaxPooling1D, MaxPooling1D, SpatialDropout1D, GRU, Bidirectional\n",
        "from tensorflow.keras.layers import Embedding\n",
        "from keras.initializers import Constant\n",
        "from keras.callbacks import ModelCheckpoint\n",
        "from keras.models import load_model\n",
        "from sklearn.metrics import classification_report\n",
        "from sklearn.metrics import classification_report, confusion_matrix, accuracy_score, roc_curve, auc, roc_auc_score\n",
        "from sklearn.feature_extraction.text import TfidfVectorizer\n",
        "from sklearn.model_selection import train_test_split"
      ],
      "metadata": {
        "id": "P7zG0iSqfcLF"
      },
      "execution_count": 43,
      "outputs": []
    },
    {
      "cell_type": "code",
      "source": [
        "def sequence_text(\n",
        "                  clean_text: pd.Series, \n",
        "                  label: pd.Series, \n",
        "                  max_sen_length: int = 60, \n",
        "                  padding: str = 'post'):\n",
        "\n",
        "  sentences = []\n",
        "  tokenizer = Tokenizer()\n",
        "  lines = clean_text.values.tolist()\n",
        "\n",
        "  # looping through the column and tokenize the word\n",
        "  for line in lines :\n",
        "    tokens = word_tokenize(line)\n",
        "    sentences.append(tokens)\n",
        "\n",
        "  # sequences\n",
        "  tokenizer.fit_on_texts(sentences)\n",
        "  sequences = tokenizer.texts_to_sequences(sentences)\n",
        "  padded_sentence = pad_sequences(sequences, maxlen = max_sen_length, padding = padding)\n",
        "\n",
        "  # shuffling X, Y\n",
        "  indices = np.arange(padded_sentence.shape[0])\n",
        "  np.random.shuffle(indices)\n",
        "\n",
        "  # assinging feature and target \n",
        "  X = padded_sentence[indices]\n",
        "  Y = label[indices]\n",
        "  \n",
        "  prepocessing_data = {\n",
        "      'X': X,\n",
        "      'Y': Y,\n",
        "      'sentences': sentences,\n",
        "      'tokenizer': tokenizer\n",
        "  } \n",
        "\n",
        "  return prepocessing_data"
      ],
      "metadata": {
        "id": "xV2Zg6b2fkgP"
      },
      "execution_count": 44,
      "outputs": []
    },
    {
      "cell_type": "code",
      "source": [
        "data = sequence_text(dff['clean_text'], dff.label)"
      ],
      "metadata": {
        "id": "XWelPCRjflvL"
      },
      "execution_count": 45,
      "outputs": []
    },
    {
      "cell_type": "code",
      "source": [
        "data['X'].shape, data['Y'].shape"
      ],
      "metadata": {
        "colab": {
          "base_uri": "https://localhost:8080/"
        },
        "id": "opXCtlAGfoo-",
        "outputId": "ccf9576d-0da1-425b-e3d7-5f624bc3dcf8"
      },
      "execution_count": 46,
      "outputs": [
        {
          "output_type": "execute_result",
          "data": {
            "text/plain": [
              "((7000, 60), (7000,))"
            ]
          },
          "metadata": {},
          "execution_count": 46
        }
      ]
    },
    {
      "cell_type": "code",
      "source": [
        "data.keys()"
      ],
      "metadata": {
        "colab": {
          "base_uri": "https://localhost:8080/"
        },
        "id": "t0MhgqzVfste",
        "outputId": "7839590d-d0d8-40d5-f366-afca875ffe5e"
      },
      "execution_count": 47,
      "outputs": [
        {
          "output_type": "execute_result",
          "data": {
            "text/plain": [
              "dict_keys(['X', 'Y', 'sentences', 'tokenizer'])"
            ]
          },
          "metadata": {},
          "execution_count": 47
        }
      ]
    },
    {
      "cell_type": "code",
      "source": [
        "MAX_SEN_LENGHT = 60\n",
        "EMBEDDING_DIM = 100"
      ],
      "metadata": {
        "id": "oJ1ojgwmfvao"
      },
      "execution_count": 48,
      "outputs": []
    },
    {
      "cell_type": "code",
      "source": [
        "# training word embedding model\n",
        "\n",
        "model_wv = Word2Vec(sentences = data['sentences'], \n",
        "                                  vector_size=100, \n",
        "                                  workers=4, \n",
        "                                  sg=1, \n",
        "                                  epochs=10) #sg= 1:skip-gram 0:cbow\n",
        "                                  "
      ],
      "metadata": {
        "id": "j8FVcILhfz5D"
      },
      "execution_count": 49,
      "outputs": []
    },
    {
      "cell_type": "code",
      "source": [
        "model_wv.wv.most_similar('miss')"
      ],
      "metadata": {
        "colab": {
          "base_uri": "https://localhost:8080/"
        },
        "id": "2_EsBqL4f6ld",
        "outputId": "5ea18bd6-f768-44fd-d4d7-7250e7c6e237"
      },
      "execution_count": 50,
      "outputs": [
        {
          "output_type": "execute_result",
          "data": {
            "text/plain": [
              "[('sadli', 0.5887115001678467),\n",
              " ('werent', 0.5658426880836487),\n",
              " ('core', 0.5509902238845825),\n",
              " ('donei', 0.5491158366203308),\n",
              " ('soo', 0.5423747897148132),\n",
              " ('except', 0.5407904982566833),\n",
              " ('saint', 0.5401884913444519),\n",
              " ('memi', 0.5401256084442139),\n",
              " ('would', 0.5399231314659119),\n",
              " ('overprotect', 0.5391483306884766)]"
            ]
          },
          "metadata": {},
          "execution_count": 50
        }
      ]
    },
    {
      "cell_type": "code",
      "source": [
        "filename = \"suicidal_taught_word2vec.txt\"\n",
        "model_wv.wv.save_word2vec_format(filename, binary=False)"
      ],
      "metadata": {
        "id": "rf8aGGTLf-Oi"
      },
      "execution_count": 51,
      "outputs": []
    },
    {
      "cell_type": "code",
      "source": [
        "embedding_index = {}\n",
        "with open(os.path.join('', 'suicidal_taught_word2vec.txt'),  encoding = \"utf-8\") as f:\n",
        "  for line in f:\n",
        "      values = line.split()\n",
        "      word = values[0]\n",
        "      coeff = np.asarray(values[1:], dtype='float32')\n",
        "      embedding_index[word] = coeff\n",
        "\n",
        "embedding_matrix = np.zeros((len(data['tokenizer'].word_index) + 1, EMBEDDING_DIM))\n",
        "for word, i in data['tokenizer'].word_index.items():\n",
        "    embedding_vector = embedding_index.get(word)\n",
        "    if embedding_vector is not None:\n",
        "        embedding_matrix[i] = embedding_vector\n",
        "\n",
        "embedding_layer = Embedding(len(data['tokenizer'].word_index) + 1,\n",
        "                            EMBEDDING_DIM,\n",
        "                            weights=[embedding_matrix],\n",
        "                            input_length=MAX_SEN_LENGHT,\n",
        "                            trainable=False)"
      ],
      "metadata": {
        "id": "DKCLUzaogBLm"
      },
      "execution_count": 52,
      "outputs": []
    },
    {
      "cell_type": "code",
      "source": [
        "# Spliting our Data into train and test\n",
        "xtrain, xtest, ytrain, ytest = train_test_split(data['X'], data['Y'], test_size=0.3, random_state=47) "
      ],
      "metadata": {
        "id": "9v_mtxRegFDu"
      },
      "execution_count": 53,
      "outputs": []
    },
    {
      "cell_type": "code",
      "source": [
        "# xtrain.shape , \n",
        "xtrain.shape, ytrain.shape"
      ],
      "metadata": {
        "colab": {
          "base_uri": "https://localhost:8080/"
        },
        "id": "IpiKOKPDgIoN",
        "outputId": "40196d64-864a-4034-c968-5a40d465b703"
      },
      "execution_count": 54,
      "outputs": [
        {
          "output_type": "execute_result",
          "data": {
            "text/plain": [
              "((4900, 60), (4900,))"
            ]
          },
          "metadata": {},
          "execution_count": 54
        }
      ]
    },
    {
      "cell_type": "code",
      "source": [
        "# Creating this function for model validation\n",
        "\n",
        "def recall_m(y_true, y_pred):\n",
        "    true_positives = K.sum(K.round(K.clip(y_true * y_pred, 0, 1)))\n",
        "    possible_positives = K.sum(K.round(K.clip(y_true, 0, 1)))\n",
        "    recall = true_positives / (possible_positives + K.epsilon())\n",
        "    return recall\n",
        "\n",
        "def precision_m(y_true, y_pred):\n",
        "    true_positives = K.sum(K.round(K.clip(y_true * y_pred, 0, 1)))\n",
        "    predicted_positives = K.sum(K.round(K.clip(y_pred, 0, 1)))\n",
        "    precision = true_positives / (predicted_positives + K.epsilon())\n",
        "    return precision\n",
        "\n",
        "def f1_m(y_true, y_pred):\n",
        "    precision = precision_m(y_true, y_pred)\n",
        "    recall = recall_m(y_true, y_pred)\n",
        "    return 2*((precision*recall)/(precision+recall+K.epsilon()))"
      ],
      "metadata": {
        "id": "mgBLWx1wgLNJ"
      },
      "execution_count": 55,
      "outputs": []
    },
    {
      "cell_type": "code",
      "source": [
        "import keras\n",
        "from keras.callbacks import EarlyStopping,ReduceLROnPlateau\n",
        "from tensorflow.keras import regularizers"
      ],
      "metadata": {
        "id": "OE43YUyVgOXD"
      },
      "execution_count": 56,
      "outputs": []
    },
    {
      "cell_type": "code",
      "source": [
        "early_stop = EarlyStopping(monitor='val_loss', patience=5)\n",
        "# reducelr = ReduceLROnPlateau(patience=5)"
      ],
      "metadata": {
        "id": "M-ebzlHIgRYd"
      },
      "execution_count": 57,
      "outputs": []
    },
    {
      "cell_type": "code",
      "source": [
        "dnn = Sequential()\n",
        "dnn.add(embedding_layer)\n",
        "dnn.add(Dropout(0.3))\n",
        "dnn.add(Flatten())\n",
        "dnn.add(Dense(128, activation='relu', kernel_regularizer = regularizers.l2(0.0010),\\\n",
        "                                 bias_regularizer = regularizers.l2(0.0010)))\n",
        "dnn.add(Dropout(0.3))\n",
        "dnn.add(Dense(64, activation='relu'))\n",
        "dnn.add(Dropout(0.3))\n",
        "# output layer\n",
        "dnn.add(Dense(1, activation='sigmoid'))\n",
        "\n",
        "# compile the model\n",
        "dnn.compile(optimizer='adam', loss='binary_crossentropy', metrics=['acc', f1_m, precision_m, recall_m]) #f1_m,precision_m, recall_m])\n",
        "\n",
        "# fit the model\n",
        "history_dnn = dnn.fit(xtrain, ytrain, validation_data=(xtest, ytest), epochs=20, verbose=1, batch_size=64, callbacks = [early_stop])\n"
      ],
      "metadata": {
        "colab": {
          "base_uri": "https://localhost:8080/"
        },
        "id": "nthaXzZugUkc",
        "outputId": "8cef4d52-b6ee-4f49-f9ee-9ec5bae913ad"
      },
      "execution_count": 58,
      "outputs": [
        {
          "output_type": "stream",
          "name": "stdout",
          "text": [
            "Epoch 1/20\n",
            "77/77 [==============================] - 4s 26ms/step - loss: 0.6046 - acc: 0.8296 - f1_m: 0.8244 - precision_m: 0.8399 - recall_m: 0.8228 - val_loss: 0.4773 - val_acc: 0.8748 - val_f1_m: 0.8748 - val_precision_m: 0.8813 - val_recall_m: 0.8700\n",
            "Epoch 2/20\n",
            "77/77 [==============================] - 2s 21ms/step - loss: 0.4099 - acc: 0.9061 - f1_m: 0.9049 - precision_m: 0.9043 - recall_m: 0.9098 - val_loss: 0.4476 - val_acc: 0.8776 - val_f1_m: 0.8736 - val_precision_m: 0.9081 - val_recall_m: 0.8438\n",
            "Epoch 3/20\n",
            "77/77 [==============================] - 2s 23ms/step - loss: 0.3458 - acc: 0.9239 - f1_m: 0.9215 - precision_m: 0.9270 - recall_m: 0.9193 - val_loss: 0.4650 - val_acc: 0.8776 - val_f1_m: 0.8706 - val_precision_m: 0.9320 - val_recall_m: 0.8190\n",
            "Epoch 4/20\n",
            "77/77 [==============================] - 2s 28ms/step - loss: 0.3076 - acc: 0.9304 - f1_m: 0.9275 - precision_m: 0.9343 - recall_m: 0.9231 - val_loss: 0.4541 - val_acc: 0.8724 - val_f1_m: 0.8655 - val_precision_m: 0.9208 - val_recall_m: 0.8192\n",
            "Epoch 5/20\n",
            "77/77 [==============================] - 3s 34ms/step - loss: 0.2909 - acc: 0.9394 - f1_m: 0.9379 - precision_m: 0.9439 - recall_m: 0.9344 - val_loss: 0.4627 - val_acc: 0.8829 - val_f1_m: 0.8827 - val_precision_m: 0.8918 - val_recall_m: 0.8759\n",
            "Epoch 6/20\n",
            "77/77 [==============================] - 2s 24ms/step - loss: 0.2712 - acc: 0.9469 - f1_m: 0.9451 - precision_m: 0.9498 - recall_m: 0.9427 - val_loss: 0.4405 - val_acc: 0.8838 - val_f1_m: 0.8833 - val_precision_m: 0.8979 - val_recall_m: 0.8717\n",
            "Epoch 7/20\n",
            "77/77 [==============================] - 2s 21ms/step - loss: 0.2652 - acc: 0.9496 - f1_m: 0.9486 - precision_m: 0.9520 - recall_m: 0.9481 - val_loss: 0.4857 - val_acc: 0.8829 - val_f1_m: 0.8877 - val_precision_m: 0.8626 - val_recall_m: 0.9157\n",
            "Epoch 8/20\n",
            "77/77 [==============================] - 2s 21ms/step - loss: 0.2725 - acc: 0.9486 - f1_m: 0.9479 - precision_m: 0.9505 - recall_m: 0.9476 - val_loss: 0.5023 - val_acc: 0.8771 - val_f1_m: 0.8838 - val_precision_m: 0.8499 - val_recall_m: 0.9222\n",
            "Epoch 9/20\n",
            "77/77 [==============================] - 2s 21ms/step - loss: 0.2578 - acc: 0.9592 - f1_m: 0.9582 - precision_m: 0.9635 - recall_m: 0.9544 - val_loss: 0.5018 - val_acc: 0.8829 - val_f1_m: 0.8793 - val_precision_m: 0.9132 - val_recall_m: 0.8500\n",
            "Epoch 10/20\n",
            "77/77 [==============================] - 2s 22ms/step - loss: 0.2388 - acc: 0.9655 - f1_m: 0.9643 - precision_m: 0.9663 - recall_m: 0.9636 - val_loss: 0.5968 - val_acc: 0.8690 - val_f1_m: 0.8777 - val_precision_m: 0.8345 - val_recall_m: 0.9272\n",
            "Epoch 11/20\n",
            "77/77 [==============================] - 2s 21ms/step - loss: 0.2475 - acc: 0.9600 - f1_m: 0.9590 - precision_m: 0.9616 - recall_m: 0.9582 - val_loss: 0.5018 - val_acc: 0.8824 - val_f1_m: 0.8847 - val_precision_m: 0.8754 - val_recall_m: 0.8959\n"
          ]
        }
      ]
    },
    {
      "cell_type": "code",
      "source": [
        "# evaluate the model\n",
        "loss_dnn, accuracy_dnn, f1_score_dnn, precision_dnn, recall_dnn = dnn.evaluate(xtest, ytest, verbose=1)"
      ],
      "metadata": {
        "colab": {
          "base_uri": "https://localhost:8080/"
        },
        "id": "fOFXVZIbgZGd",
        "outputId": "9f256204-921d-4f18-e36a-1023d4f17d6b"
      },
      "execution_count": 59,
      "outputs": [
        {
          "output_type": "stream",
          "name": "stdout",
          "text": [
            "66/66 [==============================] - 0s 4ms/step - loss: 0.5018 - acc: 0.8824 - f1_m: 0.8841 - precision_m: 0.8773 - recall_m: 0.8969\n"
          ]
        }
      ]
    },
    {
      "cell_type": "code",
      "source": [
        "acc = history_dnn.history['acc']\n",
        "val_acc = history_dnn.history['val_acc']\n",
        "\n",
        "epochs = range(1, len(acc)+1)\n",
        "\n",
        "plt.figure(figsize=(8, 6))\n",
        "\n",
        "# plt.ylim(0.6, 0.90)\n",
        "plt.plot(epochs, acc, 'g', label='Training accuracy', )\n",
        "plt.plot(epochs, val_acc, 'r', label='Validation accuracy')\n",
        "plt.title(' Training vs Validation Curve (DNN)')\n",
        "plt.xlabel('Number of Epochs')\n",
        "plt.ylabel('Accuracy Score')\n",
        "plt.legend()\n",
        "plt.show()"
      ],
      "metadata": {
        "colab": {
          "base_uri": "https://localhost:8080/",
          "height": 404
        },
        "id": "ODx0o7qDgcxk",
        "outputId": "962a91a8-8e94-4e50-f156-988d64cf3a1c"
      },
      "execution_count": 60,
      "outputs": [
        {
          "output_type": "display_data",
          "data": {
            "text/plain": [
              "<Figure size 576x432 with 1 Axes>"
            ],
            "image/png": "[encoded data removed]"
          },
          "metadata": {}
        }
      ]
    },
    {
      "cell_type": "code",
      "source": [
        "y_pred_d = dnn.predict(xtest)"
      ],
      "metadata": {
        "colab": {
          "base_uri": "https://localhost:8080/"
        },
        "id": "Q9yXwVOBggCc",
        "outputId": "9a61dea7-dc30-4c99-c6c7-c6f71989eb41"
      },
      "execution_count": 61,
      "outputs": [
        {
          "output_type": "stream",
          "name": "stdout",
          "text": [
            "66/66 [==============================] - 2s 15ms/step\n"
          ]
        }
      ]
    },
    {
      "cell_type": "code",
      "source": [
        "y_pred_d.shape"
      ],
      "metadata": {
        "colab": {
          "base_uri": "https://localhost:8080/"
        },
        "id": "ngJAymr7gjWZ",
        "outputId": "72041204-4031-4932-9387-b78f548c6fd7"
      },
      "execution_count": 62,
      "outputs": [
        {
          "output_type": "execute_result",
          "data": {
            "text/plain": [
              "(2100, 1)"
            ]
          },
          "metadata": {},
          "execution_count": 62
        }
      ]
    },
    {
      "cell_type": "code",
      "source": [
        "y_pred_dnn = np.where(y_pred_d > .5, 1, 0)"
      ],
      "metadata": {
        "id": "TF8BdMs1gl7W"
      },
      "execution_count": 63,
      "outputs": []
    },
    {
      "cell_type": "code",
      "source": [
        "y_pred_dnn.shape"
      ],
      "metadata": {
        "colab": {
          "base_uri": "https://localhost:8080/"
        },
        "id": "CrFLLHz8gpDZ",
        "outputId": "1c32fe42-a124-489e-c681-0e2db4aeb636"
      },
      "execution_count": 64,
      "outputs": [
        {
          "output_type": "execute_result",
          "data": {
            "text/plain": [
              "(2100, 1)"
            ]
          },
          "metadata": {},
          "execution_count": 64
        }
      ]
    },
    {
      "cell_type": "code",
      "source": [
        "cf_matrix = confusion_matrix(ytest, y_pred_dnn)\n",
        "\n",
        "plt.figure(figsize=(8, 6))\n",
        "\n",
        "group_names = ['TN','FP','FN','TP']\n",
        "group_counts = ['{0:0.0f}'.format(value) for value in\n",
        "                cf_matrix.flatten()]\n",
        "group_percentages = ['{0:.2%}'.format(value) for value in\n",
        "                     cf_matrix.flatten()/np.sum(cf_matrix)]\n",
        "labels = [f'{v1}\\n{v2}\\n{v3}' for v1, v2, v3 in\n",
        "          zip(group_names,group_counts,group_percentages)]\n",
        "labels = np.asarray(labels).reshape(2,2)\n",
        "sns.heatmap(cf_matrix, annot=labels, fmt='', cmap='Blues')\n",
        "\n",
        "\n",
        "plt.title('Confusion Matrix of DNN')\n",
        "plt.xlabel(\"true label\")\n",
        "plt.ylabel(\"predicted label\")\n",
        "plt.savefig('DNN_conf_matrix', dpi=300)"
      ],
      "metadata": {
        "colab": {
          "base_uri": "https://localhost:8080/",
          "height": 404
        },
        "id": "fAKpCOOAgsIs",
        "outputId": "fbc56563-e89a-4205-d255-4cc8d1ef6fe6"
      },
      "execution_count": 65,
      "outputs": [
        {
          "output_type": "display_data",
          "data": {
            "text/plain": [
              "<Figure size 576x432 with 2 Axes>"
            ],
            "image/png": "[encoded data removed]"
          },
          "metadata": {}
        }
      ]
    },
    {
      "cell_type": "code",
      "source": [
        "cnn = Sequential()\n",
        "cnn.add(embedding_layer) \n",
        "cnn.add(Conv1D(filters=128, kernel_size=5, padding='same', activation=\"relu\"))\n",
        "\n",
        "cnn.add(GlobalMaxPooling1D())\n",
        "cnn.add(Dropout(0.3))\n",
        "cnn.add(Dense(128, activation='relu', kernel_regularizer = regularizers.l2(0.0010),\\\n",
        "                                 bias_regularizer = regularizers.l2(0.0010)))\n",
        "# cnn.add(Dropout(0.3))\n",
        "# cnn.add(Dense(64, activation='relu'))\n",
        "cnn.add(Dropout(0.3))\n",
        "cnn.add(Dense(32, activation='relu'))\n",
        "cnn.add(Dropout(0.4))\n",
        "cnn.add(Dense(1, activation='sigmoid', kernel_regularizer = regularizers.l2(0.0002),\\\n",
        "                                 bias_regularizer = regularizers.l2(0.0002)))\n",
        "\n",
        "# compile the model\n",
        "cnn.compile(optimizer='adam', loss='binary_crossentropy', metrics=['acc', f1_m, precision_m, recall_m])\n",
        "\n",
        "# fit the model\n",
        "history_cnn = cnn.fit(xtrain, ytrain, validation_data=(xtest, ytest) , epochs=20, verbose=1, batch_size=64, callbacks=[early_stop])"
      ],
      "metadata": {
        "colab": {
          "base_uri": "https://localhost:8080/"
        },
        "id": "zzKFQn0ogwQS",
        "outputId": "0780b41e-94ab-44bd-bd18-6c88116dc8cd"
      },
      "execution_count": 66,
      "outputs": [
        {
          "output_type": "stream",
          "name": "stdout",
          "text": [
            "Epoch 1/20\n",
            "77/77 [==============================] - 7s 71ms/step - loss: 0.6569 - acc: 0.7084 - f1_m: 0.7240 - precision_m: 0.7022 - recall_m: 0.7722 - val_loss: 0.4010 - val_acc: 0.8800 - val_f1_m: 0.8799 - val_precision_m: 0.8872 - val_recall_m: 0.8744\n",
            "Epoch 2/20\n",
            "77/77 [==============================] - 3s 40ms/step - loss: 0.3889 - acc: 0.8873 - f1_m: 0.8859 - precision_m: 0.8857 - recall_m: 0.8903 - val_loss: 0.3576 - val_acc: 0.8933 - val_f1_m: 0.8983 - val_precision_m: 0.8701 - val_recall_m: 0.9306\n",
            "Epoch 3/20\n",
            "77/77 [==============================] - 3s 40ms/step - loss: 0.3152 - acc: 0.9147 - f1_m: 0.9111 - precision_m: 0.9148 - recall_m: 0.9106 - val_loss: 0.3404 - val_acc: 0.8995 - val_f1_m: 0.9039 - val_precision_m: 0.8800 - val_recall_m: 0.9313\n",
            "Epoch 4/20\n",
            "77/77 [==============================] - 3s 37ms/step - loss: 0.2713 - acc: 0.9288 - f1_m: 0.9266 - precision_m: 0.9344 - recall_m: 0.9219 - val_loss: 0.3069 - val_acc: 0.9090 - val_f1_m: 0.9102 - val_precision_m: 0.9104 - val_recall_m: 0.9128\n",
            "Epoch 5/20\n",
            "77/77 [==============================] - 5s 62ms/step - loss: 0.2225 - acc: 0.9429 - f1_m: 0.9412 - precision_m: 0.9448 - recall_m: 0.9407 - val_loss: 0.3049 - val_acc: 0.9052 - val_f1_m: 0.9077 - val_precision_m: 0.8935 - val_recall_m: 0.9247\n",
            "Epoch 6/20\n",
            "77/77 [==============================] - 3s 43ms/step - loss: 0.1852 - acc: 0.9571 - f1_m: 0.9556 - precision_m: 0.9585 - recall_m: 0.9542 - val_loss: 0.3442 - val_acc: 0.8924 - val_f1_m: 0.8988 - val_precision_m: 0.8581 - val_recall_m: 0.9452\n",
            "Epoch 7/20\n",
            "77/77 [==============================] - 3s 43ms/step - loss: 0.1503 - acc: 0.9694 - f1_m: 0.9694 - precision_m: 0.9723 - recall_m: 0.9681 - val_loss: 0.3087 - val_acc: 0.9071 - val_f1_m: 0.9088 - val_precision_m: 0.8985 - val_recall_m: 0.9217\n",
            "Epoch 8/20\n",
            "77/77 [==============================] - 5s 68ms/step - loss: 0.1204 - acc: 0.9773 - f1_m: 0.9769 - precision_m: 0.9792 - recall_m: 0.9757 - val_loss: 0.3320 - val_acc: 0.9067 - val_f1_m: 0.9059 - val_precision_m: 0.9170 - val_recall_m: 0.8986\n",
            "Epoch 9/20\n",
            "77/77 [==============================] - 5s 60ms/step - loss: 0.1045 - acc: 0.9796 - f1_m: 0.9795 - precision_m: 0.9803 - recall_m: 0.9793 - val_loss: 0.3628 - val_acc: 0.8952 - val_f1_m: 0.8914 - val_precision_m: 0.9285 - val_recall_m: 0.8609\n",
            "Epoch 10/20\n",
            "77/77 [==============================] - 3s 36ms/step - loss: 0.0913 - acc: 0.9833 - f1_m: 0.9828 - precision_m: 0.9827 - recall_m: 0.9835 - val_loss: 0.4123 - val_acc: 0.8881 - val_f1_m: 0.8802 - val_precision_m: 0.9416 - val_recall_m: 0.8304\n"
          ]
        }
      ]
    },
    {
      "cell_type": "code",
      "source": [
        "# evaluate the model\n",
        "loss_cnn, accuracy_cnn, f1_score_cnn, precision_cnn, recall_cnn = cnn.evaluate(xtest, ytest, verbose=1)"
      ],
      "metadata": {
        "colab": {
          "base_uri": "https://localhost:8080/"
        },
        "id": "fT2vOaKPg0Oj",
        "outputId": "1ed9428c-a5e1-4f55-b018-5263e9ccd28d"
      },
      "execution_count": 67,
      "outputs": [
        {
          "output_type": "stream",
          "name": "stdout",
          "text": [
            "66/66 [==============================] - 1s 13ms/step - loss: 0.4123 - acc: 0.8881 - f1_m: 0.8793 - precision_m: 0.9422 - recall_m: 0.8318\n"
          ]
        }
      ]
    },
    {
      "cell_type": "code",
      "source": [
        "acc = history_cnn.history['acc']\n",
        "val_acc = history_cnn.history['val_acc']\n",
        "\n",
        "epochs = range(1, len(acc)+1)\n",
        "\n",
        "plt.figure(figsize=(8, 6))\n",
        "\n",
        "# plt.ylim(0.6, 0.90)\n",
        "plt.plot(epochs, acc, 'g', label='Training accuracy', )\n",
        "plt.plot(epochs, val_acc, 'r', label='Validation accuracy')\n",
        "plt.title(' Training vs Validation Curve (CNN)')\n",
        "plt.xlabel('Number of Epochs')\n",
        "plt.ylabel('Accuracy Score')\n",
        "plt.legend()\n",
        "plt.show()"
      ],
      "metadata": {
        "colab": {
          "base_uri": "https://localhost:8080/",
          "height": 404
        },
        "id": "qgXWNAg9g316",
        "outputId": "707589a2-96af-4afe-d21a-f17cd8d6d438"
      },
      "execution_count": 68,
      "outputs": [
        {
          "output_type": "display_data",
          "data": {
            "text/plain": [
              "<Figure size 576x432 with 1 Axes>"
            ],
            "image/png": "[encoded data removed]"
          },
          "metadata": {}
        }
      ]
    },
    {
      "cell_type": "code",
      "source": [
        "y_pred_cnn = cnn.predict(xtest)\n",
        "y_pred_c = np.where(y_pred_cnn > .5, 1, 0)"
      ],
      "metadata": {
        "colab": {
          "base_uri": "https://localhost:8080/"
        },
        "id": "rUrQWqNzg6xO",
        "outputId": "8343fb00-a5a7-4ade-b761-391002f63088"
      },
      "execution_count": 69,
      "outputs": [
        {
          "output_type": "stream",
          "name": "stdout",
          "text": [
            "66/66 [==============================] - 1s 12ms/step\n"
          ]
        }
      ]
    },
    {
      "cell_type": "code",
      "source": [
        "y_pred_cnn"
      ],
      "metadata": {
        "colab": {
          "base_uri": "https://localhost:8080/"
        },
        "id": "CLKLhReng-Hk",
        "outputId": "f32efd17-8d92-437a-990f-3da79ca1f700"
      },
      "execution_count": 70,
      "outputs": [
        {
          "output_type": "execute_result",
          "data": {
            "text/plain": [
              "array([[9.9085933e-01],\n",
              "       [3.4197754e-01],\n",
              "       [9.9818456e-01],\n",
              "       ...,\n",
              "       [4.1138212e-04],\n",
              "       [9.9836153e-01],\n",
              "       [9.9954450e-01]], dtype=float32)"
            ]
          },
          "metadata": {},
          "execution_count": 70
        }
      ]
    },
    {
      "cell_type": "code",
      "source": [
        "cf_matrix = confusion_matrix(ytest, y_pred_c)\n",
        "\n",
        "plt.figure(figsize=(8, 6))\n",
        "\n",
        "group_names = ['TN','FP','FN','TP']\n",
        "group_counts = ['{0:0.0f}'.format(value) for value in\n",
        "                cf_matrix.flatten()]\n",
        "group_percentages = ['{0:.2%}'.format(value) for value in\n",
        "                     cf_matrix.flatten()/np.sum(cf_matrix)]\n",
        "labels = [f'{v1}\\n{v2}\\n{v3}' for v1, v2, v3 in\n",
        "          zip(group_names,group_counts,group_percentages)]\n",
        "labels = np.asarray(labels).reshape(2,2)\n",
        "sns.heatmap(cf_matrix, annot=labels, fmt='', cmap='Blues')\n",
        "\n",
        "\n",
        "plt.title('Confusion Matrix of CNN')\n",
        "plt.xlabel(\"true label\")\n",
        "plt.ylabel(\"predicted label\")\n",
        "plt.savefig('CNN_conf_matrix', dpi=300)"
      ],
      "metadata": {
        "colab": {
          "base_uri": "https://localhost:8080/",
          "height": 404
        },
        "id": "0KCbjGYuhBe5",
        "outputId": "ccfe685d-053b-420d-cb7a-29d76a3d8988"
      },
      "execution_count": 71,
      "outputs": [
        {
          "output_type": "display_data",
          "data": {
            "text/plain": [
              "<Figure size 576x432 with 2 Axes>"
            ],
            "image/png": "[encoded data removed]"
          },
          "metadata": {}
        }
      ]
    },
    {
      "cell_type": "code",
      "source": [
        "model_LSTM = Sequential()\n",
        "model_LSTM.add(embedding_layer)                       \n",
        "model_LSTM.add(LSTM(128, dropout=0.2, recurrent_dropout=0.2, return_sequences=True,))                              \n",
        "model_LSTM.add(Flatten())\n",
        "model_LSTM.add(Dropout(0.4))\n",
        "model_LSTM.add(Dense(64, activation='relu', kernel_regularizer = regularizers.l2(0.0010),\\\n",
        "                                 bias_regularizer = regularizers.l2(0.0010)))\n",
        "model_LSTM.add(Dropout(0.3))\n",
        "model_LSTM.add(Dense(1, activation='sigmoid'))\n",
        "\n",
        "# compile the model\n",
        "model_LSTM.compile(optimizer='adam', loss='binary_crossentropy', metrics=['acc', f1_m, precision_m, recall_m])\n",
        "\n",
        "# fit the model\n",
        "history_lstm = model_LSTM.fit(xtrain, ytrain, validation_data=(xtest, ytest), epochs=20, verbose=1, batch_size=64, callbacks=[early_stop])"
      ],
      "metadata": {
        "colab": {
          "base_uri": "https://localhost:8080/"
        },
        "id": "4athLTc2hEh9",
        "outputId": "9498d8a7-d35a-48c2-99f7-40d9f1156439"
      },
      "execution_count": 72,
      "outputs": [
        {
          "output_type": "stream",
          "name": "stdout",
          "text": [
            "Epoch 1/20\n",
            "77/77 [==============================] - 26s 289ms/step - loss: 0.4322 - acc: 0.8592 - f1_m: 0.8519 - precision_m: 0.8678 - recall_m: 0.8485 - val_loss: 0.3427 - val_acc: 0.8905 - val_f1_m: 0.8889 - val_precision_m: 0.9123 - val_recall_m: 0.8685\n",
            "Epoch 2/20\n",
            "77/77 [==============================] - 22s 287ms/step - loss: 0.3224 - acc: 0.8982 - f1_m: 0.8962 - precision_m: 0.9005 - recall_m: 0.8971 - val_loss: 0.3151 - val_acc: 0.8905 - val_f1_m: 0.8877 - val_precision_m: 0.9186 - val_recall_m: 0.8610\n",
            "Epoch 3/20\n",
            "77/77 [==============================] - 20s 266ms/step - loss: 0.2963 - acc: 0.9033 - f1_m: 0.9007 - precision_m: 0.9052 - recall_m: 0.9001 - val_loss: 0.2911 - val_acc: 0.8957 - val_f1_m: 0.8948 - val_precision_m: 0.9075 - val_recall_m: 0.8845\n",
            "Epoch 4/20\n",
            "77/77 [==============================] - 23s 296ms/step - loss: 0.2754 - acc: 0.9092 - f1_m: 0.9067 - precision_m: 0.9153 - recall_m: 0.9010 - val_loss: 0.2991 - val_acc: 0.8990 - val_f1_m: 0.8972 - val_precision_m: 0.9233 - val_recall_m: 0.8751\n",
            "Epoch 5/20\n",
            "77/77 [==============================] - 21s 267ms/step - loss: 0.2634 - acc: 0.9108 - f1_m: 0.9094 - precision_m: 0.9147 - recall_m: 0.9074 - val_loss: 0.3064 - val_acc: 0.8962 - val_f1_m: 0.9006 - val_precision_m: 0.8764 - val_recall_m: 0.9281\n",
            "Epoch 6/20\n",
            "77/77 [==============================] - 23s 296ms/step - loss: 0.2575 - acc: 0.9198 - f1_m: 0.9182 - precision_m: 0.9174 - recall_m: 0.9229 - val_loss: 0.3028 - val_acc: 0.8952 - val_f1_m: 0.8929 - val_precision_m: 0.9250 - val_recall_m: 0.8649\n",
            "Epoch 7/20\n",
            "77/77 [==============================] - 21s 267ms/step - loss: 0.2495 - acc: 0.9224 - f1_m: 0.9213 - precision_m: 0.9227 - recall_m: 0.9239 - val_loss: 0.2939 - val_acc: 0.9014 - val_f1_m: 0.9020 - val_precision_m: 0.9022 - val_recall_m: 0.9031\n",
            "Epoch 8/20\n",
            "77/77 [==============================] - 23s 295ms/step - loss: 0.2466 - acc: 0.9198 - f1_m: 0.9161 - precision_m: 0.9224 - recall_m: 0.9133 - val_loss: 0.2999 - val_acc: 0.8976 - val_f1_m: 0.9012 - val_precision_m: 0.8832 - val_recall_m: 0.9218\n"
          ]
        }
      ]
    },
    {
      "cell_type": "code",
      "source": [
        "# evaluate the model\n",
        "loss_lstm, accuracy_lstm, f1_score_lstm, precision_lstm, recall_lstm = model_LSTM.evaluate(xtest, ytest, verbose=1)"
      ],
      "metadata": {
        "colab": {
          "base_uri": "https://localhost:8080/"
        },
        "id": "jNtfwFEshIjg",
        "outputId": "e915d77b-fe04-418c-d7fe-17b9f9f9c7a5"
      },
      "execution_count": 73,
      "outputs": [
        {
          "output_type": "stream",
          "name": "stdout",
          "text": [
            "66/66 [==============================] - 2s 28ms/step - loss: 0.2999 - acc: 0.8976 - f1_m: 0.9002 - precision_m: 0.8831 - recall_m: 0.9237\n"
          ]
        }
      ]
    },
    {
      "cell_type": "code",
      "source": [
        "acc = history_dnn.history['f1_m']\n",
        "val_acc = history_dnn.history['val_f1_m']\n",
        "\n",
        "epochs = range(1, len(acc)+1)\n",
        "\n",
        "plt.figure(figsize=(8, 6))\n",
        "\n",
        "# plt.ylim(0.6, 0.90)\n",
        "plt.plot(epochs, acc, 'g', label='Training accuracy', )\n",
        "plt.plot(epochs, val_acc, 'r', label='Validation accuracy')\n",
        "plt.title(' Training vs Validation Curve (LSTM)')\n",
        "plt.xlabel('Number of Epochs')\n",
        "plt.ylabel('Accuracy Score')\n",
        "plt.legend()\n",
        "plt.show()"
      ],
      "metadata": {
        "colab": {
          "base_uri": "https://localhost:8080/",
          "height": 404
        },
        "id": "6UbPHGT1hMII",
        "outputId": "20e5136a-c543-42b6-be8b-c5b9cf0f1840"
      },
      "execution_count": 74,
      "outputs": [
        {
          "output_type": "display_data",
          "data": {
            "text/plain": [
              "<Figure size 576x432 with 1 Axes>"
            ],
            "image/png": "[encoded data removed]"
          },
          "metadata": {}
        }
      ]
    },
    {
      "cell_type": "code",
      "source": [
        "y_pred_lstm = model_LSTM.predict(xtest)\n",
        "y_pred_l = np.where(y_pred_lstm > .5, 1, 0)"
      ],
      "metadata": {
        "colab": {
          "base_uri": "https://localhost:8080/"
        },
        "id": "Dy3EFb8thPWt",
        "outputId": "8331200a-8e5f-45df-d75f-09b74a1d0d38"
      },
      "execution_count": 75,
      "outputs": [
        {
          "output_type": "stream",
          "name": "stdout",
          "text": [
            "66/66 [==============================] - 2s 27ms/step\n"
          ]
        }
      ]
    },
    {
      "cell_type": "code",
      "source": [
        "cf_matrix = confusion_matrix(ytest, y_pred_l)\n",
        "\n",
        "plt.figure(figsize=(8, 6))\n",
        "\n",
        "group_names = ['TN','FP','FN','TP']\n",
        "group_counts = ['{0:0.0f}'.format(value) for value in\n",
        "                cf_matrix.flatten()]\n",
        "group_percentages = ['{0:.2%}'.format(value) for value in\n",
        "                     cf_matrix.flatten()/np.sum(cf_matrix)]\n",
        "labels = [f'{v1}\\n{v2}\\n{v3}' for v1, v2, v3 in\n",
        "          zip(group_names,group_counts,group_percentages)]\n",
        "labels = np.asarray(labels).reshape(2,2)\n",
        "sns.heatmap(cf_matrix, annot=labels, fmt='', cmap='Blues')\n",
        "\n",
        "\n",
        "plt.title('Confusion Matrix of LSTM')\n",
        "plt.xlabel(\"true label\")\n",
        "plt.ylabel(\"predicted label\")\n",
        "plt.savefig('LSTM_conf_matrix', dpi=300)"
      ],
      "metadata": {
        "colab": {
          "base_uri": "https://localhost:8080/",
          "height": 404
        },
        "id": "LPbLnZt3hSYe",
        "outputId": "3f6e33fa-d752-459e-8add-585e37d96fa8"
      },
      "execution_count": 76,
      "outputs": [
        {
          "output_type": "display_data",
          "data": {
            "text/plain": [
              "<Figure size 576x432 with 2 Axes>"
            ],
            "image/png": "[encoded data removed]"
          },
          "metadata": {}
        }
      ]
    },
    {
      "cell_type": "code",
      "source": [
        "model_GRU = Sequential()\n",
        "model_GRU.add(embedding_layer)\n",
        "\n",
        "model_GRU.add(GRU(128, return_sequences=True))\n",
        "model_GRU.add(Dropout(0.3))  \n",
        "model_GRU.add(Flatten())\n",
        "model_GRU.add(Dense(64, activation='relu', kernel_regularizer = regularizers.l2(0.0010),\\\n",
        "                                 bias_regularizer = regularizers.l2(0.0010)))\n",
        "model_GRU.add(Dropout(0.4))\n",
        "model_GRU.add(Dense(1,activation='sigmoid'))\n",
        "\n",
        "# compile the model\n",
        "model_GRU.compile(optimizer='adam', loss='binary_crossentropy', metrics=['acc', f1_m, precision_m, recall_m])#f1_m,precision_m, recall_m])\n",
        "\n",
        "# fit the model\n",
        "history_gru = model_GRU.fit(xtrain, ytrain, validation_data=(xtest, ytest),epochs=20, verbose=1, batch_size=64, callbacks=[early_stop])"
      ],
      "metadata": {
        "colab": {
          "base_uri": "https://localhost:8080/"
        },
        "id": "7afAvHgBhWB8",
        "outputId": "e40fb401-36e3-4910-900e-ef26b8515ca1"
      },
      "execution_count": 77,
      "outputs": [
        {
          "output_type": "stream",
          "name": "stdout",
          "text": [
            "Epoch 1/20\n",
            "77/77 [==============================] - 17s 188ms/step - loss: 0.4331 - acc: 0.8606 - f1_m: 0.8560 - precision_m: 0.8671 - recall_m: 0.8555 - val_loss: 0.3556 - val_acc: 0.8857 - val_f1_m: 0.8903 - val_precision_m: 0.8657 - val_recall_m: 0.9183\n",
            "Epoch 2/20\n",
            "77/77 [==============================] - 14s 180ms/step - loss: 0.3218 - acc: 0.9006 - f1_m: 0.8980 - precision_m: 0.9023 - recall_m: 0.8975 - val_loss: 0.3240 - val_acc: 0.8957 - val_f1_m: 0.8933 - val_precision_m: 0.9225 - val_recall_m: 0.8678\n",
            "Epoch 3/20\n",
            "77/77 [==============================] - 14s 176ms/step - loss: 0.2752 - acc: 0.9176 - f1_m: 0.9146 - precision_m: 0.9190 - recall_m: 0.9129 - val_loss: 0.3145 - val_acc: 0.8986 - val_f1_m: 0.8960 - val_precision_m: 0.9295 - val_recall_m: 0.8668\n",
            "Epoch 4/20\n",
            "77/77 [==============================] - 14s 176ms/step - loss: 0.2485 - acc: 0.9263 - f1_m: 0.9242 - precision_m: 0.9250 - recall_m: 0.9265 - val_loss: 0.3136 - val_acc: 0.9000 - val_f1_m: 0.8990 - val_precision_m: 0.9154 - val_recall_m: 0.8849\n",
            "Epoch 5/20\n",
            "77/77 [==============================] - 11s 144ms/step - loss: 0.2318 - acc: 0.9339 - f1_m: 0.9318 - precision_m: 0.9365 - recall_m: 0.9297 - val_loss: 0.3056 - val_acc: 0.9043 - val_f1_m: 0.9029 - val_precision_m: 0.9200 - val_recall_m: 0.8881\n",
            "Epoch 6/20\n",
            "77/77 [==============================] - 13s 165ms/step - loss: 0.2118 - acc: 0.9414 - f1_m: 0.9406 - precision_m: 0.9408 - recall_m: 0.9427 - val_loss: 0.3188 - val_acc: 0.9014 - val_f1_m: 0.9051 - val_precision_m: 0.8848 - val_recall_m: 0.9281\n",
            "Epoch 7/20\n",
            "77/77 [==============================] - 13s 166ms/step - loss: 0.1959 - acc: 0.9478 - f1_m: 0.9465 - precision_m: 0.9464 - recall_m: 0.9489 - val_loss: 0.3369 - val_acc: 0.9043 - val_f1_m: 0.9045 - val_precision_m: 0.9115 - val_recall_m: 0.8990\n",
            "Epoch 8/20\n",
            "77/77 [==============================] - 14s 183ms/step - loss: 0.1816 - acc: 0.9604 - f1_m: 0.9596 - precision_m: 0.9618 - recall_m: 0.9585 - val_loss: 0.3863 - val_acc: 0.9048 - val_f1_m: 0.9043 - val_precision_m: 0.9161 - val_recall_m: 0.8943\n",
            "Epoch 9/20\n",
            "77/77 [==============================] - 13s 166ms/step - loss: 0.1743 - acc: 0.9600 - f1_m: 0.9595 - precision_m: 0.9607 - recall_m: 0.9603 - val_loss: 0.3967 - val_acc: 0.8790 - val_f1_m: 0.8725 - val_precision_m: 0.9317 - val_recall_m: 0.8224\n",
            "Epoch 10/20\n",
            "77/77 [==============================] - 14s 183ms/step - loss: 0.1738 - acc: 0.9649 - f1_m: 0.9636 - precision_m: 0.9689 - recall_m: 0.9600 - val_loss: 0.3809 - val_acc: 0.8990 - val_f1_m: 0.8999 - val_precision_m: 0.9013 - val_recall_m: 0.9004\n"
          ]
        }
      ]
    },
    {
      "cell_type": "code",
      "source": [
        "# evaluate the model\n",
        "loss_gru, accuracy_gru, f1_score_gru, precision_gru, recall_gru = model_GRU.evaluate(xtest, ytest, verbose=1)"
      ],
      "metadata": {
        "colab": {
          "base_uri": "https://localhost:8080/"
        },
        "id": "8C5Tjie_hZu9",
        "outputId": "8344e81c-cf84-4638-a7ee-d83367b75e02"
      },
      "execution_count": 78,
      "outputs": [
        {
          "output_type": "stream",
          "name": "stdout",
          "text": [
            "66/66 [==============================] - 2s 26ms/step - loss: 0.3809 - acc: 0.8990 - f1_m: 0.8995 - precision_m: 0.9027 - recall_m: 0.9020\n"
          ]
        }
      ]
    },
    {
      "cell_type": "code",
      "source": [
        "acc = history_dnn.history['acc']\n",
        "val_acc = history_dnn.history['val_acc']\n",
        "\n",
        "epochs = range(1, len(acc)+1)\n",
        "\n",
        "plt.figure(figsize=(8, 6))\n",
        "\n",
        "# plt.ylim(0.6, 0.90)\n",
        "plt.plot(epochs, acc, 'g', label='Training accuracy', )\n",
        "plt.plot(epochs, val_acc, 'r', label='Validation accuracy')\n",
        "plt.title(' Training vs Validation Curve (GRU)')\n",
        "plt.xlabel('Number of Epochs')\n",
        "plt.ylabel('Accuracy Score')\n",
        "plt.legend()\n",
        "plt.show()"
      ],
      "metadata": {
        "colab": {
          "base_uri": "https://localhost:8080/",
          "height": 404
        },
        "id": "mcM5TzpChdUz",
        "outputId": "0a2e60c9-c718-4567-87af-dbd9dfc49840"
      },
      "execution_count": 79,
      "outputs": [
        {
          "output_type": "display_data",
          "data": {
            "text/plain": [
              "<Figure size 576x432 with 1 Axes>"
            ],
            "image/png": "[encoded data removed]"
          },
          "metadata": {}
        }
      ]
    },
    {
      "cell_type": "code",
      "source": [
        "y_pred_gru = model_LSTM.predict(xtest)\n",
        "y_pred_g = np.where(y_pred_lstm > .5, 1, 0)"
      ],
      "metadata": {
        "colab": {
          "base_uri": "https://localhost:8080/"
        },
        "id": "EatQWF0MhgTj",
        "outputId": "80a53214-0af3-405b-a1f1-f7bdcb0629f3"
      },
      "execution_count": 80,
      "outputs": [
        {
          "output_type": "stream",
          "name": "stdout",
          "text": [
            "66/66 [==============================] - 2s 27ms/step\n"
          ]
        }
      ]
    },
    {
      "cell_type": "code",
      "source": [
        "cf_matrix = confusion_matrix(ytest, y_pred_g)\n",
        "\n",
        "plt.figure(figsize=(8, 6))\n",
        "\n",
        "group_names = ['TN','FP','FN','TP']\n",
        "group_counts = ['{0:0.0f}'.format(value) for value in\n",
        "                cf_matrix.flatten()]\n",
        "group_percentages = ['{0:.2%}'.format(value) for value in\n",
        "                     cf_matrix.flatten()/np.sum(cf_matrix)]\n",
        "labels = [f'{v1}\\n{v2}\\n{v3}' for v1, v2, v3 in\n",
        "          zip(group_names,group_counts,group_percentages)]\n",
        "labels = np.asarray(labels).reshape(2,2)\n",
        "sns.heatmap(cf_matrix, annot=labels, fmt='', cmap='Blues')\n",
        "\n",
        "\n",
        "plt.title('Confusion Matrix of GRU')\n",
        "plt.xlabel(\"true label\")\n",
        "plt.ylabel(\"predicted label\")\n",
        "plt.savefig('GRU_conf_matrix', dpi=300)"
      ],
      "metadata": {
        "colab": {
          "base_uri": "https://localhost:8080/",
          "height": 404
        },
        "id": "U7AFEX9BhjXJ",
        "outputId": "a6d74c5c-7af7-438c-f6f4-9686063dd851"
      },
      "execution_count": 81,
      "outputs": [
        {
          "output_type": "display_data",
          "data": {
            "text/plain": [
              "<Figure size 576x432 with 2 Axes>"
            ],
            "image/png": "[encoded data removed]"
          },
          "metadata": {}
        }
      ]
    },
    {
      "cell_type": "code",
      "source": [
        "y_pred_dnn = dnn.predict(xtest)\n",
        "\n",
        "y_pred_cnn = cnn.predict(xtest)\n",
        "\n",
        "y_pred_lstm = model_LSTM.predict(xtest)\n",
        "\n",
        "y_pred_gru = model_GRU.predict(xtest)"
      ],
      "metadata": {
        "colab": {
          "base_uri": "https://localhost:8080/"
        },
        "id": "Hvns1fh_hmTK",
        "outputId": "a65ba10b-da39-4c04-da98-43a25b31b30e"
      },
      "execution_count": 82,
      "outputs": [
        {
          "output_type": "stream",
          "name": "stdout",
          "text": [
            "66/66 [==============================] - 0s 3ms/step\n",
            "66/66 [==============================] - 1s 8ms/step\n",
            "66/66 [==============================] - 3s 50ms/step\n",
            "66/66 [==============================] - 2s 21ms/step\n"
          ]
        }
      ]
    },
    {
      "cell_type": "code",
      "source": [
        "# ROC curve of ML baseline models\n",
        "\n",
        "dnn_fpr, dnn_tpr, threshold = roc_curve(ytest, y_pred_dnn)\n",
        "auc_dnn = auc(dnn_fpr, dnn_tpr)\n",
        "\n",
        "cnn_fpr, cnn_tpr, threshold = roc_curve(ytest, y_pred_cnn)\n",
        "auc_cnn = auc(cnn_fpr, cnn_tpr)\n",
        "\n",
        "lstm_fpr, lstm_tpr, threshold = roc_curve(ytest, y_pred_lstm)\n",
        "auc_lstm = auc(lstm_fpr, lstm_tpr)\n",
        "\n",
        "gru_fpr, gru_tpr, threshold = roc_curve(ytest, y_pred_gru)\n",
        "auc_gru = auc(gru_fpr, gru_tpr)\n",
        "\n",
        "plt.figure(figsize=(6, 6), dpi=100)\n",
        "plt.plot(dnn_fpr, dnn_tpr, color='purple', linestyle='dotted', label='DNN (auc = %0.3f)' % auc_dnn)\n",
        "plt.plot(cnn_fpr, cnn_tpr, color='green', linestyle='solid', label='CNN (auc = %0.3f)' % auc_cnn)\n",
        "plt.plot(lstm_fpr, lstm_tpr, color='blue', linestyle='dashdot' , label='LSTM (auc = %0.3f)' % auc_lstm)\n",
        "plt.plot(gru_fpr, gru_tpr, linestyle='dotted' , color='red', label='GRU (auc = %0.3f)' % auc_gru)\n",
        "plt.plot([0, 1], [0, 1], color='grey',linestyle='--')\n",
        "\n",
        "plt.xlabel('False Positive Rate')\n",
        "plt.ylabel('True Positive Rate')\n",
        "\n",
        "plt.legend()\n",
        "plt.title('ROC Curve')\n",
        "plt.axis('tight')\n",
        "plt.legend(loc = 'lower right')\n",
        "plt.savefig('ROC-Curve', dpi=300)\n",
        "plt.show()"
      ],
      "metadata": {
        "colab": {
          "base_uri": "https://localhost:8080/",
          "height": 555
        },
        "id": "LcnDqxTJhpzi",
        "outputId": "5205915a-6403-4d87-9335-ea2a1184e9a2"
      },
      "execution_count": 83,
      "outputs": [
        {
          "output_type": "display_data",
          "data": {
            "text/plain": [
              "<Figure size 600x600 with 1 Axes>"
            ],
            "image/png": "[encoded data removed]"
          },
          "metadata": {}
        }
      ]
    },
    {
      "cell_type": "code",
      "source": [
        "evaluation = {\n",
        "    \n",
        "    'models': ['DNN', 'CNN', 'LSTM', 'GRU'],\n",
        "    'scores': [accuracy_dnn, accuracy_cnn, accuracy_lstm, accuracy_gru]\n",
        "\n",
        "}"
      ],
      "metadata": {
        "id": "iMfrDws4huo7"
      },
      "execution_count": 84,
      "outputs": []
    },
    {
      "cell_type": "code",
      "source": [
        "evaluation['scores']"
      ],
      "metadata": {
        "colab": {
          "base_uri": "https://localhost:8080/"
        },
        "id": "LmgmZ0JOhzKJ",
        "outputId": "6fff91b3-c23f-4b2b-cf3c-2ee9c9aa23b4"
      },
      "execution_count": 85,
      "outputs": [
        {
          "output_type": "execute_result",
          "data": {
            "text/plain": [
              "[0.8823809623718262,\n",
              " 0.8880952596664429,\n",
              " 0.8976190686225891,\n",
              " 0.8990476131439209]"
            ]
          },
          "metadata": {},
          "execution_count": 85
        }
      ]
    }
  ],
  "metadata": {
    "colab": {
      "provenance": []
    },
    "kernelspec": {
      "display_name": "Python 3",
      "name": "python3"
    },
    "language_info": {
      "name": "python"
    }
  },
  "nbformat": 4,
  "nbformat_minor": 0
}